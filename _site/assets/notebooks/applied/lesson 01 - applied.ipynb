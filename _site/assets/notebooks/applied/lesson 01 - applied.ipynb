{
 "cells": [
  {
   "cell_type": "markdown",
   "metadata": {
    "collapsed": false
   },
   "source": [
    "## Welcome to Lesson 01\n",
    "\n",
    "If you did not make it to lesson 00, please check it out on the website, it's assumed you attended [Lesson 00 - Applied Section](/pythoncourse/2016/02/09/lesson00applied.html).\n",
    "\n",
    "Today we go over a quick review and some extensions of last lesson, then dive into Python statements and functions.\n",
    "\n",
    "Grab todays lesson from [this link!](/pythoncourse/assets/notebooks/applied/lesson 01.ipynb).\n",
    "\n",
    "### Statements\n",
    "\n",
    "Python was written with clarity and simplicity in mind, and one of the reasons this has worked is the basic Python syntax.\n",
    "\n",
    "Unlike many other programming languages, Python relies on indentation rather than braces - Thus we cannot easily create a tangled mess like this (my code, in R): \n",
    "\n",
    "`sapply(1:length(factors), function(index) {any(sapply(1:length(factors[[index]]), function(zz) {all((rep(holding[[index]][1:(length(holding[[index]])/factors[[index]][zz])], factors[[index]][zz]))==holding[[index]])}))})\n",
    "`\n",
    "\n",
    "Instead, code is based on indentation, forcing at least some sensible structure into the code:"
   ]
  },
  {
   "cell_type": "code",
   "execution_count": 1,
   "metadata": {
    "collapsed": false
   },
   "outputs": [
    {
     "name": "stdout",
     "output_type": "stream",
     "text": [
      "1\n",
      "2\n",
      "3\n",
      "4\n"
     ]
    }
   ],
   "source": [
    "l = [1,2,3,4]\n",
    "for i in l:\n",
    "    print(i)"
   ]
  },
  {
   "cell_type": "markdown",
   "metadata": {},
   "source": [
    "Indentation will likely be taken care of by your IDE/editor, but it is either 4 spaces, or two tabs (not recommended). Choose one and stay with it, as you will get errors if you mix them or do not indent:\n"
   ]
  },
  {
   "cell_type": "code",
   "execution_count": 56,
   "metadata": {
    "collapsed": false
   },
   "outputs": [
    {
     "ename": "IndentationError",
     "evalue": "expected an indented block (<ipython-input-56-4076db310a51>, line 2)",
     "output_type": "error",
     "traceback": [
      "\u001b[1;36m  File \u001b[1;32m\"<ipython-input-56-4076db310a51>\"\u001b[1;36m, line \u001b[1;32m2\u001b[0m\n\u001b[1;33m    print(i)\u001b[0m\n\u001b[1;37m        ^\u001b[0m\n\u001b[1;31mIndentationError\u001b[0m\u001b[1;31m:\u001b[0m expected an indented block\n"
     ]
    }
   ],
   "source": [
    "for i in l:\n",
    "print(i)"
   ]
  },
  {
   "cell_type": "markdown",
   "metadata": {},
   "source": [
    "Indenting and unindenting is equivalent to closing brackets.\n",
    "\n",
    "This clarity has lead to people comparing Python to Pseudocode, but we will shortly see some counterexamples, where Python syntax becomes very confusing."
   ]
  },
  {
   "cell_type": "markdown",
   "metadata": {
    "collapsed": true
   },
   "source": [
    "### Outside Resources\n",
    "\n",
    "A number of people have asked about text books or online resources for the\n",
    "course. Most Python tutorials online will assume a knowledge at around the level\n",
    "we will reach after a few lessons. I'm using [Python for Data\n",
    "Analysis](http://shop.oreilly.com/product/0636920023784.do) for the Numpy and\n",
    "Pandas section - it won't be necessary to purchase but is a good book (if a\n",
    "little outdated). For the other lessons, links will be provided to the relevant\n",
    "docs.\n",
    "\n"
   ]
  },
  {
   "cell_type": "markdown",
   "metadata": {},
   "source": [
    "### Basic Data Types Review\n",
    "\n",
    "| Type       | Example     | Mutable | Ordered | Duplicates | Subsetting |\n",
    "|------------|-------------|---------|---------|------------|------------|\n",
    "| int        | 2           | NA      | NA      | NA         | NA         |\n",
    "| float      | 2.5         | NA      | NA      | NA         | NA         |\n",
    "| complex    | 2.5 + 0.6J  | NA      | NA      | NA         | NA         |\n",
    "| boolean    | True        | NA      | NA      | NA         | NA         |\n",
    "| string     | 'abcd'      | No      | Yes     | Yes        | x[1]       |\n",
    "| list       | [1,2,3,'a'] | Yes     | Yes     | Yes        | x[1]       |\n",
    "| tuple      | (1,2,3,'a') | No      | Yes     | Yes        | x[1]       |\n",
    "| set        | {1,2,3,4}   | Yes     | No      | No         | No         |\n",
    "| dictionary | {1:1,2:2}   | Yes     | No      | No         | x['key']   |\n",
    "\n",
    "\n"
   ]
  },
  {
   "cell_type": "markdown",
   "metadata": {},
   "source": [
    "### Booleans - Advanced\n",
    "\n",
    "In addition to the standard boolean operators (<,>,==,!=,) mentioned in the first\n",
    "class, there are five others: `in`,`is`,`not`, `any` and `all`. Any and all will be introduced in the functional programming section."
   ]
  },
  {
   "cell_type": "code",
   "execution_count": 2,
   "metadata": {
    "collapsed": false
   },
   "outputs": [
    {
     "data": {
      "text/plain": [
       "True"
      ]
     },
     "execution_count": 2,
     "metadata": {},
     "output_type": "execute_result"
    }
   ],
   "source": [
    "l = ['oranges','apples','bananas','bananas','kiwis']\n",
    "'oranges' in l"
   ]
  },
  {
   "cell_type": "code",
   "execution_count": 3,
   "metadata": {
    "collapsed": false
   },
   "outputs": [
    {
     "data": {
      "text/plain": [
       "True"
      ]
     },
     "execution_count": 3,
     "metadata": {},
     "output_type": "execute_result"
    }
   ],
   "source": [
    "l = 5\n",
    "5 is l\n",
    "##very similar to =="
   ]
  },
  {
   "cell_type": "code",
   "execution_count": 4,
   "metadata": {
    "collapsed": false
   },
   "outputs": [
    {
     "name": "stdout",
     "output_type": "stream",
     "text": [
      "False\n",
      "True\n"
     ]
    }
   ],
   "source": [
    "#we are checking identity, not equality\n",
    "l = ['oranges','apples','bananas']\n",
    "k = ['oranges','apples','bananas']\n",
    "print(l is k)\n",
    "k = l\n",
    "print(l is k)"
   ]
  },
  {
   "cell_type": "code",
   "execution_count": 5,
   "metadata": {
    "collapsed": false
   },
   "outputs": [
    {
     "data": {
      "text/plain": [
       "False"
      ]
     },
     "execution_count": 5,
     "metadata": {},
     "output_type": "execute_result"
    }
   ],
   "source": [
    "not True"
   ]
  },
  {
   "cell_type": "markdown",
   "metadata": {},
   "source": [
    "In Python (and most sensible languages), boolean comparisons are short circuit operators - once one conditon is impossible we stop evaluating. This can get a good speed up on code if you have one expensive comparison and one that is not - Therefore, put the cheap calculation first!"
   ]
  },
  {
   "cell_type": "code",
   "execution_count": 6,
   "metadata": {
    "collapsed": false
   },
   "outputs": [
    {
     "name": "stdout",
     "output_type": "stream",
     "text": [
      "True\n",
      "False\n"
     ]
    }
   ],
   "source": [
    "#del(l)\n",
    "x = \"bananas\"\n",
    "#l is not defined! This would give and error if it hits l \n",
    "print(x == \"bananas\" or l == 4)\n",
    "print(x == \"bananas\" and l == 4)"
   ]
  },
  {
   "cell_type": "markdown",
   "metadata": {},
   "source": [
    "### Data Structures Review"
   ]
  },
  {
   "cell_type": "code",
   "execution_count": 7,
   "metadata": {
    "collapsed": true
   },
   "outputs": [],
   "source": [
    "customer_1 = {'loyaltyids':(1234, 3456),\n",
    "              'transactions':{1:['oranges','apples','bananas','pears','kiwis'],\n",
    "                              2:['bread', 'milk','bananas','bananas']},\n",
    "              'postalcodes':{'M5T1V1', 'M5S3B2'},\n",
    "              'transactionspends':[100.46, 34.55],\n",
    "              'usedcoupons':[True, False]}"
   ]
  },
  {
   "cell_type": "code",
   "execution_count": 8,
   "metadata": {
    "collapsed": true
   },
   "outputs": [],
   "source": [
    "#subsetting here"
   ]
  },
  {
   "cell_type": "markdown",
   "metadata": {},
   "source": [
    "## Statements\n",
    "\n",
    "### If, Else, Elif\n",
    "\n",
    "We can do if and else statements"
   ]
  },
  {
   "cell_type": "code",
   "execution_count": 9,
   "metadata": {
    "collapsed": false
   },
   "outputs": [
    {
     "name": "stdout",
     "output_type": "stream",
     "text": [
      "on sale\n"
     ]
    }
   ],
   "source": [
    "x = 4.99\n",
    "\n",
    "if not True:\n",
    "    print(x)\n",
    "elif x < 5:\n",
    "    print('on sale')\n",
    "else:\n",
    "    print('regular price')\n",
    "\n",
    "\n",
    "#if True:\n",
    "#print(x)"
   ]
  },
  {
   "cell_type": "markdown",
   "metadata": {},
   "source": [
    "and nest them as deep as we would like:"
   ]
  },
  {
   "cell_type": "code",
   "execution_count": 10,
   "metadata": {
    "collapsed": false
   },
   "outputs": [
    {
     "name": "stdout",
     "output_type": "stream",
     "text": [
      "new price is 9.9\n"
     ]
    },
    {
     "data": {
      "text/plain": [
       "[11, 9.9]"
      ]
     },
     "execution_count": 10,
     "metadata": {},
     "output_type": "execute_result"
    }
   ],
   "source": [
    "pricehistory = [11]\n",
    "\n",
    "if pricehistory[-1] >= 10 and len(pricehistory) == 1:\n",
    "    if pricehistory[-1] >= 12:\n",
    "        pricehistory.append(pricehistory[0] - 1)\n",
    "        print('new price is ' + str(pricehistory[-1]))\n",
    "    else:\n",
    "        pricehistory.append(pricehistory[0] - 0.10 * pricehistory[-1])\n",
    "        print('new price is ' + str(pricehistory[-1]))\n",
    "elif len(pricehistory) > 1:\n",
    "    pricehistory.append(min(pricehistory))\n",
    "    print('new price is ' + str(pricehistory[-1]))\n",
    "else:\n",
    "    pricehistory.append(pricehistory[0]*0.9)\n",
    "    print('new price is ' + str(pricehistory[-1]))\n",
    "    \n",
    "pricehistory"
   ]
  },
  {
   "cell_type": "markdown",
   "metadata": {},
   "source": [
    "### For loops\n",
    "\n",
    "For loops work similarly in syntax to if and else. We can use them on any of the major data structures we just introduced"
   ]
  },
  {
   "cell_type": "code",
   "execution_count": 11,
   "metadata": {
    "collapsed": false
   },
   "outputs": [
    {
     "name": "stdout",
     "output_type": "stream",
     "text": [
      "fruit\n",
      "other\n",
      "fruit\n",
      "other\n",
      "\n",
      "\n",
      "fruit\n",
      "other\n",
      "fruit\n",
      "other\n"
     ]
    }
   ],
   "source": [
    "l = ['oranges','bread','bananas','milk']\n",
    "fruits = ['oranges','apples','bananas','kiwis','strawberries', 'pears']\n",
    "\n",
    "for item in l:\n",
    "    if item in fruits:\n",
    "        print(\"fruit\")\n",
    "    else:\n",
    "        print(\"other\")\n",
    "        \n",
    "print(\"\\n\")\n",
    "s = ['oranges','bread','bananas','milk']\n",
    "\n",
    "for item in s:\n",
    "    if item in fruits:\n",
    "        print(\"fruit\")\n",
    "    else:\n",
    "        print(\"other\")"
   ]
  },
  {
   "cell_type": "markdown",
   "metadata": {},
   "source": [
    "On dictionaries, we have to do it a little differently"
   ]
  },
  {
   "cell_type": "code",
   "execution_count": 12,
   "metadata": {
    "collapsed": false
   },
   "outputs": [
    {
     "name": "stdout",
     "output_type": "stream",
     "text": [
      "canned: chickpeas\n",
      "dairy: milk\n",
      "produce: banana\n",
      "2\n",
      "12\n",
      "30\n",
      "56\n"
     ]
    },
    {
     "data": {
      "text/plain": [
       "[[1, 2], [3, 4], [5, 6], [7, 8]]"
      ]
     },
     "execution_count": 12,
     "metadata": {},
     "output_type": "execute_result"
    }
   ],
   "source": [
    "d = {'produce':'banana', 'dairy':'milk', 'canned':'chickpeas'}\n",
    "\n",
    "for k, v in d.items():\n",
    "    print(k + \": \" + v)\n",
    "#unordered!\n",
    "\n",
    "#similar for nested lists:\n",
    "\n",
    "l = [[1,2],[3,4],[5,6],[7,8]]\n",
    "\n",
    "for one, two in l:\n",
    "    print(one * two)\n",
    "    #no modifying!\n",
    "    one = one * 2\n",
    "l"
   ]
  },
  {
   "cell_type": "markdown",
   "metadata": {},
   "source": [
    "### While loops\n",
    "\n",
    "Similarly, we can use while loops, and run a loop until a condition is met"
   ]
  },
  {
   "cell_type": "code",
   "execution_count": 13,
   "metadata": {
    "collapsed": false
   },
   "outputs": [
    {
     "name": "stdout",
     "output_type": "stream",
     "text": [
      "5\n",
      "4\n",
      "3\n",
      "2\n"
     ]
    }
   ],
   "source": [
    "x = 5\n",
    "\n",
    "while x > 1:\n",
    "    print(x)\n",
    "    x -= 1\n",
    "#also +=, *=, /="
   ]
  },
  {
   "cell_type": "markdown",
   "metadata": {},
   "source": [
    "### Break, Pass, Continue\n",
    "\n",
    "We can skip, break or pass elements in our loops"
   ]
  },
  {
   "cell_type": "code",
   "execution_count": 14,
   "metadata": {
    "collapsed": false
   },
   "outputs": [
    {
     "name": "stdout",
     "output_type": "stream",
     "text": [
      "1\n",
      "2\n",
      "3\n",
      "4\n",
      "oranges is not a number\n",
      "1\n",
      "2\n",
      "3\n",
      "4\n",
      "oranges is not a number\n",
      "6\n",
      "1\n",
      "2\n",
      "3\n",
      "4\n",
      "oranges is not a number\n",
      "how did you get here?\n",
      "6\n"
     ]
    }
   ],
   "source": [
    "l = [1,2,3,4,\"oranges\",6]\n",
    "\n",
    "for num in l:\n",
    "    if type(num) == int:\n",
    "        print(num)\n",
    "    else:\n",
    "        print(num + \" is not a number\")\n",
    "        break\n",
    "\n",
    "for num in l:\n",
    "    if type(num) == int:\n",
    "        print(num)\n",
    "    else:\n",
    "        print(num + \" is not a number\")\n",
    "        continue\n",
    "        print(\"how did you get here?\")\n",
    "        \n",
    "for num in l:\n",
    "    if type(num) == int:\n",
    "        print(num)\n",
    "    else:\n",
    "        print(num + \" is not a number\")\n",
    "        pass\n",
    "        print(\"how did you get here?\")\n",
    "\n",
    "        "
   ]
  },
  {
   "cell_type": "markdown",
   "metadata": {},
   "source": [
    "### Range\n",
    "\n",
    "We saw earlier, we cannot modify in place using a loop. We can instead use `range` to generate indices and use these (NB range in Python 3 is similar to xrange in Python 2.7, not `range`). Range objects are not instantly enumerated - we dont have to hold them in memory."
   ]
  },
  {
   "cell_type": "code",
   "execution_count": 15,
   "metadata": {
    "collapsed": false
   },
   "outputs": [
    {
     "data": {
      "text/plain": [
       "range"
      ]
     },
     "execution_count": 15,
     "metadata": {},
     "output_type": "execute_result"
    }
   ],
   "source": [
    "#similar to the subset from:to:by\n",
    "range(0,10,2)\n",
    "type(range(0,10))"
   ]
  },
  {
   "cell_type": "code",
   "execution_count": 16,
   "metadata": {
    "collapsed": false
   },
   "outputs": [
    {
     "data": {
      "text/plain": [
       "range(0, 100000000000000000)"
      ]
     },
     "execution_count": 16,
     "metadata": {},
     "output_type": "execute_result"
    }
   ],
   "source": [
    "#not instantly enumerated! this would fill the memory of nearly all computers\n",
    "range(100000000000000000)"
   ]
  },
  {
   "cell_type": "code",
   "execution_count": 17,
   "metadata": {
    "collapsed": false
   },
   "outputs": [
    {
     "data": {
      "text/plain": [
       "range(0, 6)"
      ]
     },
     "execution_count": 17,
     "metadata": {},
     "output_type": "execute_result"
    }
   ],
   "source": [
    "l = [1,2,3,4,5,6]\n",
    "range(len(l))"
   ]
  },
  {
   "cell_type": "code",
   "execution_count": 18,
   "metadata": {
    "collapsed": false
   },
   "outputs": [
    {
     "data": {
      "text/plain": [
       "[2, 4, 6, 8, 10, 12]"
      ]
     },
     "execution_count": 18,
     "metadata": {},
     "output_type": "execute_result"
    }
   ],
   "source": [
    "for i in range(len(l)):\n",
    "    l[i] = l[i]*2\n",
    "l"
   ]
  },
  {
   "cell_type": "code",
   "execution_count": 19,
   "metadata": {
    "collapsed": false
   },
   "outputs": [
    {
     "data": {
      "text/plain": [
       "[0, 1, 2, 3, 4, 5, 6, 7, 8, 9]"
      ]
     },
     "execution_count": 19,
     "metadata": {},
     "output_type": "execute_result"
    }
   ],
   "source": [
    "#also useful for generating simple lists:\n",
    "list(range(10))"
   ]
  },
  {
   "cell_type": "markdown",
   "metadata": {},
   "source": [
    "We also have the built in function, `enumerate` which can give us a tuple of the index and value at each position in a sequence:"
   ]
  },
  {
   "cell_type": "code",
   "execution_count": 20,
   "metadata": {
    "collapsed": false
   },
   "outputs": [
    {
     "name": "stdout",
     "output_type": "stream",
     "text": [
      "[(0, 'gouda'), (1, 'cheddar'), (2, 'edam'), (3, 'brie')]\n",
      "item 0 is gouda\n",
      "item 1 is cheddar\n",
      "item 2 is edam\n",
      "item 3 is brie\n"
     ]
    }
   ],
   "source": [
    "cheese = ['gouda','cheddar','edam','brie']\n",
    "print(list(enumerate(cheese)))\n",
    "for i,j in enumerate(cheese):\n",
    "    print('item {i} is {j}'.format(i = i, j = j))"
   ]
  },
  {
   "cell_type": "markdown",
   "metadata": {},
   "source": [
    "### Zip\n",
    "\n",
    "zip is a built in python function, that 'zips' sequences into tuples:"
   ]
  },
  {
   "cell_type": "code",
   "execution_count": 21,
   "metadata": {
    "collapsed": false,
    "scrolled": true
   },
   "outputs": [
    {
     "data": {
      "text/plain": [
       "[('oranges', 7, 12),\n",
       " ('apples', 8, 13),\n",
       " ('bananas', 9, 14),\n",
       " ('kiwis', 10, 15),\n",
       " ('strawberries', 11, 16)]"
      ]
     },
     "execution_count": 21,
     "metadata": {},
     "output_type": "execute_result"
    }
   ],
   "source": [
    "item = ['oranges','apples','bananas','kiwis','strawberries']\n",
    "cost = [7,8,9,10,11]\n",
    "units = [12,13,14,15,16]\n",
    "list(zip(item,cost,units))"
   ]
  },
  {
   "cell_type": "markdown",
   "metadata": {},
   "source": [
    "### Comprehensions\n",
    "\n",
    "Comprehensions are are syntactic sugar for for loops. We can make lists (or set or dicts) using this method. Tuples might seem like they should also have a method, but this is reserved for generators, which will discuss later on in the course.\n"
   ]
  },
  {
   "cell_type": "code",
   "execution_count": 22,
   "metadata": {
    "collapsed": false,
    "scrolled": true
   },
   "outputs": [
    {
     "data": {
      "text/plain": [
       "[0, 5, 10, 15, 20, 25, 30, 35, 40, 45]"
      ]
     },
     "execution_count": 22,
     "metadata": {},
     "output_type": "execute_result"
    }
   ],
   "source": [
    "#for loop\n",
    "l = []\n",
    "for i in range(10):\n",
    "    l.append(i * 5)\n",
    "l"
   ]
  },
  {
   "cell_type": "code",
   "execution_count": 23,
   "metadata": {
    "collapsed": false
   },
   "outputs": [
    {
     "data": {
      "text/plain": [
       "[0, 5, 10, 15, 20, 25, 30, 35, 40, 45]"
      ]
     },
     "execution_count": 23,
     "metadata": {},
     "output_type": "execute_result"
    }
   ],
   "source": [
    "#comprehension\n",
    "[i * 5 for i in range(10)]"
   ]
  },
  {
   "cell_type": "code",
   "execution_count": 24,
   "metadata": {
    "collapsed": false
   },
   "outputs": [
    {
     "data": {
      "text/plain": [
       "{10: 'aa', 20: 'bb'}"
      ]
     },
     "execution_count": 24,
     "metadata": {},
     "output_type": "execute_result"
    }
   ],
   "source": [
    "#dict comprehension\n",
    "{i * 10 : j * 2  for i, j in {1: 'a', 2: 'b'}.items()}"
   ]
  },
  {
   "cell_type": "code",
   "execution_count": 25,
   "metadata": {
    "collapsed": false
   },
   "outputs": [
    {
     "data": {
      "text/plain": [
       "[32.0, 212.0, 77.0, 98.60000000000001]"
      ]
     },
     "execution_count": 25,
     "metadata": {},
     "output_type": "execute_result"
    }
   ],
   "source": [
    "celsius = [0,100,25,37]\n",
    "[((9/5)*temp + 32) for temp in celsius]"
   ]
  },
  {
   "cell_type": "markdown",
   "metadata": {},
   "source": [
    "### Ternary expressions\n",
    "\n",
    "Ternary expressions are a fancy way of doing `if` `else` and are very pythonic:"
   ]
  },
  {
   "cell_type": "code",
   "execution_count": 26,
   "metadata": {
    "collapsed": false
   },
   "outputs": [
    {
     "data": {
      "text/plain": [
       "12"
      ]
     },
     "execution_count": 26,
     "metadata": {},
     "output_type": "execute_result"
    }
   ],
   "source": [
    "a = 12\n",
    "a if a > 11 else b"
   ]
  },
  {
   "cell_type": "code",
   "execution_count": 27,
   "metadata": {
    "collapsed": false
   },
   "outputs": [
    {
     "data": {
      "text/plain": [
       "'no'"
      ]
     },
     "execution_count": 27,
     "metadata": {},
     "output_type": "execute_result"
    }
   ],
   "source": [
    "a = 10\n",
    "b = \"no\"\n",
    "a if a > 11 else b"
   ]
  },
  {
   "cell_type": "markdown",
   "metadata": {},
   "source": [
    "we can chain this with our comprehensions"
   ]
  },
  {
   "cell_type": "code",
   "execution_count": 28,
   "metadata": {
    "collapsed": false
   },
   "outputs": [
    {
     "data": {
      "text/plain": [
       "[2, 1, 2, 3]"
      ]
     },
     "execution_count": 28,
     "metadata": {},
     "output_type": "execute_result"
    }
   ],
   "source": [
    "[a if a else 2 for a in [0,1,0,3]]"
   ]
  },
  {
   "cell_type": "markdown",
   "metadata": {},
   "source": [
    "or our nested comprehensions"
   ]
  },
  {
   "cell_type": "code",
   "execution_count": 29,
   "metadata": {
    "collapsed": false
   },
   "outputs": [
    {
     "data": {
      "text/plain": [
       "[[1, 4, 3], [8, 5, 12], [7, 16, 9]]"
      ]
     },
     "execution_count": 29,
     "metadata": {},
     "output_type": "execute_result"
    }
   ],
   "source": [
    "matrix = [[1,2,3],[4,5,6],[7,8,9]]\n",
    "[[el * 2 if el % 2 == 0 else el for el in row] for row in matrix]"
   ]
  },
  {
   "cell_type": "markdown",
   "metadata": {},
   "source": [
    "As these comprehensions are not faster than a for loop, it is worth using for loops once you can't follow clearly what the comprehension is doing (I would almost never use a nested comprehension)! "
   ]
  },
  {
   "cell_type": "markdown",
   "metadata": {},
   "source": [
    "## Intro to Functions\n",
    "\n",
    "Functions are one of the key parts of any programming language. Today we will touch on basic syntax and definition, and move into a more thorough exploration in the next class."
   ]
  },
  {
   "cell_type": "code",
   "execution_count": 30,
   "metadata": {
    "collapsed": false
   },
   "outputs": [
    {
     "data": {
      "text/plain": [
       "212.0"
      ]
     },
     "execution_count": 30,
     "metadata": {},
     "output_type": "execute_result"
    }
   ],
   "source": [
    "def celcius_to_fahr(temp):\n",
    "    return (9/5)*temp + 32\n",
    "\n",
    "celcius_to_fahr(100)"
   ]
  },
  {
   "cell_type": "code",
   "execution_count": 31,
   "metadata": {
    "collapsed": false
   },
   "outputs": [
    {
     "data": {
      "text/plain": [
       "-173"
      ]
     },
     "execution_count": 31,
     "metadata": {},
     "output_type": "execute_result"
    }
   ],
   "source": [
    "def kelvin_to_celcius(temp):\n",
    "    return temp - 273\n",
    "\n",
    "kelvin_to_celcius(100)"
   ]
  },
  {
   "cell_type": "code",
   "execution_count": 32,
   "metadata": {
    "collapsed": false
   },
   "outputs": [
    {
     "data": {
      "text/plain": [
       "32.0"
      ]
     },
     "execution_count": 32,
     "metadata": {},
     "output_type": "execute_result"
    }
   ],
   "source": [
    "def kelvin_to_fahr(temp):\n",
    "    return celcius_to_fahr(kelvin_to_celcius(temp))\n",
    "\n",
    "kelvin_to_fahr(273)"
   ]
  },
  {
   "cell_type": "code",
   "execution_count": 33,
   "metadata": {
    "collapsed": false
   },
   "outputs": [
    {
     "name": "stdout",
     "output_type": "stream",
     "text": [
      "Help on function myfirstfun in module __main__:\n",
      "\n",
      "myfirstfun(arg1, arg2)\n",
      "    Here is the docstring. this will be displayed to a user calling help(myfirstfun)\n",
      "    It can be as long as you'd like.\n",
      "    This argument takes two arguments, and returns the sum of them\n",
      "\n"
     ]
    }
   ],
   "source": [
    "def myfirstfun(arg1, arg2):\n",
    "    '''Here is the docstring. this will be displayed to a user calling help(myfirstfun)\n",
    "    It can be as long as you'd like.\n",
    "    This argument takes two arguments, and returns the sum of them\n",
    "    '''\n",
    "    return(arg1 + arg2)\n",
    "\n",
    "help(myfirstfun)"
   ]
  },
  {
   "cell_type": "code",
   "execution_count": 34,
   "metadata": {
    "collapsed": false
   },
   "outputs": [
    {
     "data": {
      "text/plain": [
       "3"
      ]
     },
     "execution_count": 34,
     "metadata": {},
     "output_type": "execute_result"
    }
   ],
   "source": [
    "myfirstfun(1, 2)"
   ]
  },
  {
   "cell_type": "code",
   "execution_count": 35,
   "metadata": {
    "collapsed": false
   },
   "outputs": [
    {
     "data": {
      "text/plain": [
       "'hi'"
      ]
     },
     "execution_count": 35,
     "metadata": {},
     "output_type": "execute_result"
    }
   ],
   "source": [
    "myfirstfun(\"h\", \"i\")"
   ]
  },
  {
   "cell_type": "markdown",
   "metadata": {},
   "source": [
    "We might not want our function to work on strings! We can Raise an error is the arguments are not numeric:"
   ]
  },
  {
   "cell_type": "code",
   "execution_count": 36,
   "metadata": {
    "collapsed": false
   },
   "outputs": [
    {
     "data": {
      "text/plain": [
       "3"
      ]
     },
     "execution_count": 36,
     "metadata": {},
     "output_type": "execute_result"
    }
   ],
   "source": [
    "def myfirstfun(arg1, arg2):\n",
    "    '''Here is the docstring. this will be displayed to a user calling help(myfirstfun)\n",
    "    It can be as long as you'd like.\n",
    "    This argument takes two arguments, and returns the sum of them\n",
    "    '''\n",
    "    for i in arg1, arg2:\n",
    "        assert type(i) == int or type(i) == float, \"This function requires numerics\"\n",
    "    return(arg1 + arg2)\n",
    "\n",
    "myfirstfun(1,2)"
   ]
  },
  {
   "cell_type": "code",
   "execution_count": 37,
   "metadata": {
    "collapsed": false,
    "scrolled": true
   },
   "outputs": [
    {
     "ename": "AssertionError",
     "evalue": "This function requires numerics",
     "output_type": "error",
     "traceback": [
      "\u001b[1;31m---------------------------------------------------------------------------\u001b[0m",
      "\u001b[1;31mAssertionError\u001b[0m                            Traceback (most recent call last)",
      "\u001b[1;32m<ipython-input-37-b9e7ba21c90e>\u001b[0m in \u001b[0;36m<module>\u001b[1;34m()\u001b[0m\n\u001b[1;32m----> 1\u001b[1;33m \u001b[0mmyfirstfun\u001b[0m\u001b[1;33m(\u001b[0m\u001b[1;34m\"h\"\u001b[0m\u001b[1;33m,\u001b[0m \u001b[1;34m\"i\"\u001b[0m\u001b[1;33m)\u001b[0m\u001b[1;33m\u001b[0m\u001b[0m\n\u001b[0m",
      "\u001b[1;32m<ipython-input-36-f4e6512fed1f>\u001b[0m in \u001b[0;36mmyfirstfun\u001b[1;34m(arg1, arg2)\u001b[0m\n\u001b[0;32m      5\u001b[0m     '''\n\u001b[0;32m      6\u001b[0m     \u001b[1;32mfor\u001b[0m \u001b[0mi\u001b[0m \u001b[1;32min\u001b[0m \u001b[0marg1\u001b[0m\u001b[1;33m,\u001b[0m \u001b[0marg2\u001b[0m\u001b[1;33m:\u001b[0m\u001b[1;33m\u001b[0m\u001b[0m\n\u001b[1;32m----> 7\u001b[1;33m         \u001b[1;32massert\u001b[0m \u001b[0mtype\u001b[0m\u001b[1;33m(\u001b[0m\u001b[0mi\u001b[0m\u001b[1;33m)\u001b[0m \u001b[1;33m==\u001b[0m \u001b[0mint\u001b[0m \u001b[1;32mor\u001b[0m \u001b[0mtype\u001b[0m\u001b[1;33m(\u001b[0m\u001b[0mi\u001b[0m\u001b[1;33m)\u001b[0m \u001b[1;33m==\u001b[0m \u001b[0mfloat\u001b[0m\u001b[1;33m,\u001b[0m \u001b[1;34m\"This function requires numerics\"\u001b[0m\u001b[1;33m\u001b[0m\u001b[0m\n\u001b[0m\u001b[0;32m      8\u001b[0m     \u001b[1;32mreturn\u001b[0m\u001b[1;33m(\u001b[0m\u001b[0marg1\u001b[0m \u001b[1;33m+\u001b[0m \u001b[0marg2\u001b[0m\u001b[1;33m)\u001b[0m\u001b[1;33m\u001b[0m\u001b[0m\n\u001b[0;32m      9\u001b[0m \u001b[1;33m\u001b[0m\u001b[0m\n",
      "\u001b[1;31mAssertionError\u001b[0m: This function requires numerics"
     ]
    }
   ],
   "source": [
    "myfirstfun(\"h\", \"i\")"
   ]
  },
  {
   "cell_type": "markdown",
   "metadata": {},
   "source": [
    "### Passing Multiple Arguments and Default Values\n",
    "\n",
    "Some functions will need to take an unknown number of arguments, or a default value:"
   ]
  },
  {
   "cell_type": "code",
   "execution_count": 38,
   "metadata": {
    "collapsed": false
   },
   "outputs": [
    {
     "name": "stdout",
     "output_type": "stream",
     "text": [
      "here are the extra arguments [3, 4, 5, 6]\n"
     ]
    },
    {
     "data": {
      "text/plain": [
       "3"
      ]
     },
     "execution_count": 38,
     "metadata": {},
     "output_type": "execute_result"
    }
   ],
   "source": [
    "def myfirstfun(arg1, arg2 = 2, *moreargs):\n",
    "    '''\n",
    "    This function takes two arguments, and returns the sum of them\n",
    "    any extra arguments are printed to the screen\n",
    "    '''\n",
    "    for i in arg1, arg2:\n",
    "        assert type(i) == int or type(i) == float \n",
    "    print(\"here are the extra arguments {x}\".format(x = list(moreargs)))\n",
    "    return(arg1 + arg2)\n",
    "\n",
    "myfirstfun(1,2,3,4,5,6)"
   ]
  },
  {
   "cell_type": "code",
   "execution_count": 39,
   "metadata": {
    "collapsed": false
   },
   "outputs": [
    {
     "name": "stdout",
     "output_type": "stream",
     "text": [
      "here are the extra arguments []\n"
     ]
    },
    {
     "data": {
      "text/plain": [
       "12"
      ]
     },
     "execution_count": 39,
     "metadata": {},
     "output_type": "execute_result"
    }
   ],
   "source": [
    "myfirstfun(10)"
   ]
  },
  {
   "cell_type": "markdown",
   "metadata": {},
   "source": [
    "### Warning\n",
    "\n",
    "For default values, we evaluate them at function definition - this saves time but can lead to error when using mutable defaults"
   ]
  },
  {
   "cell_type": "code",
   "execution_count": 40,
   "metadata": {
    "collapsed": false
   },
   "outputs": [
    {
     "name": "stdout",
     "output_type": "stream",
     "text": [
      "48\n",
      "6\n",
      "no\n"
     ]
    }
   ],
   "source": [
    "def myfunction(a = 1, b = 2^45):\n",
    "    return(a + b)\n",
    "print(myfunction())\n",
    "print(myfunction(2,4))\n",
    "print(b)"
   ]
  },
  {
   "cell_type": "code",
   "execution_count": 41,
   "metadata": {
    "collapsed": false
   },
   "outputs": [
    {
     "name": "stdout",
     "output_type": "stream",
     "text": [
      "['apples']\n",
      "['apples', 'bananas']\n"
     ]
    }
   ],
   "source": [
    "def myfunction(item = \"apples\", basket = []):\n",
    "    basket.append(item)\n",
    "    return(basket)\n",
    "    \n",
    "print(myfunction(\"apples\"))\n",
    "print(myfunction(\"bananas\"))\n",
    "#extremely weird behaviour for anyone coming from R!"
   ]
  },
  {
   "cell_type": "code",
   "execution_count": 42,
   "metadata": {
    "collapsed": false
   },
   "outputs": [
    {
     "name": "stdout",
     "output_type": "stream",
     "text": [
      "['apples']\n",
      "['bananas']\n"
     ]
    }
   ],
   "source": [
    "def myfunction(item = 1, basket = None):\n",
    "    if basket is None:\n",
    "        basket = []\n",
    "    basket.append(item)\n",
    "    return(basket)\n",
    "print(myfunction(\"apples\"))\n",
    "print(myfunction(\"bananas\"))"
   ]
  },
  {
   "cell_type": "markdown",
   "metadata": {},
   "source": [
    "### Closures\n",
    "\n",
    "We can do almost anything we'd like inside a function, including defining other functions:"
   ]
  },
  {
   "cell_type": "code",
   "execution_count": 43,
   "metadata": {
    "collapsed": false
   },
   "outputs": [
    {
     "data": {
      "text/plain": [
       "64"
      ]
     },
     "execution_count": 43,
     "metadata": {},
     "output_type": "execute_result"
    }
   ],
   "source": [
    "def internaldef(a,b):\n",
    "    def helper(c):\n",
    "        return(c ** 5)\n",
    "    return(helper(a) + helper(b))\n",
    "internaldef(2,2)"
   ]
  },
  {
   "cell_type": "markdown",
   "metadata": {},
   "source": [
    "Internal functions have access to the enclosing variables:"
   ]
  },
  {
   "cell_type": "code",
   "execution_count": 44,
   "metadata": {
    "collapsed": false
   },
   "outputs": [
    {
     "data": {
      "text/plain": [
       "8"
      ]
     },
     "execution_count": 44,
     "metadata": {},
     "output_type": "execute_result"
    }
   ],
   "source": [
    "def internaldef(a,b):\n",
    "    def helper(c):\n",
    "        return(c ** b)\n",
    "    return(helper(a) + helper(b))\n",
    "internaldef(2,2)"
   ]
  },
  {
   "cell_type": "markdown",
   "metadata": {},
   "source": [
    "And we can even return them (a function generating function is technically a 'closure'):"
   ]
  },
  {
   "cell_type": "code",
   "execution_count": 45,
   "metadata": {
    "collapsed": false
   },
   "outputs": [
    {
     "data": {
      "text/plain": [
       "81"
      ]
     },
     "execution_count": 45,
     "metadata": {},
     "output_type": "execute_result"
    }
   ],
   "source": [
    "def makepow(a):\n",
    "    def pown(num):\n",
    "        return(num ** a)\n",
    "    return(pown)\n",
    "pow4 = makepow(4)\n",
    "pow4(3)"
   ]
  },
  {
   "cell_type": "markdown",
   "metadata": {},
   "source": [
    "### Lambda Functions and map\n",
    "\n",
    "Lambda functions are functions which are defined and used in the same place - they are 'anonymous' (see Rs version `lapply(x, function(z) z^2`)). They are generally used inside another statement, where defining a function is not worth the time.\n",
    "\n",
    "We can also use the lamdba to define a function:"
   ]
  },
  {
   "cell_type": "code",
   "execution_count": 46,
   "metadata": {
    "collapsed": false
   },
   "outputs": [
    {
     "data": {
      "text/plain": [
       "3"
      ]
     },
     "execution_count": 46,
     "metadata": {},
     "output_type": "execute_result"
    }
   ],
   "source": [
    "myfun = lambda x,y: x+y\n",
    "myfun(1,2)"
   ]
  },
  {
   "cell_type": "code",
   "execution_count": 47,
   "metadata": {
    "collapsed": false
   },
   "outputs": [
    {
     "data": {
      "text/plain": [
       "[3, 7, 11]"
      ]
     },
     "execution_count": 47,
     "metadata": {},
     "output_type": "execute_result"
    }
   ],
   "source": [
    "l = [[1,2],[3,4],[5,6]]\n",
    "[myfun(x,y) for x,y in l]"
   ]
  },
  {
   "cell_type": "markdown",
   "metadata": {},
   "source": [
    "`map` takes two arguments - a function (often a lambda function) and a sequence (or sequences) to iterate over"
   ]
  },
  {
   "cell_type": "code",
   "execution_count": 48,
   "metadata": {
    "collapsed": false
   },
   "outputs": [
    {
     "data": {
      "text/plain": [
       "[1, 4, 3, 16, 5, 36]"
      ]
     },
     "execution_count": 48,
     "metadata": {},
     "output_type": "execute_result"
    }
   ],
   "source": [
    "l = [1,2,3,4,5,6]\n",
    "x = map(lambda x: x if x % 2 == 1 else x **2, l)\n",
    "list(x)"
   ]
  },
  {
   "cell_type": "code",
   "execution_count": 49,
   "metadata": {
    "collapsed": false
   },
   "outputs": [
    {
     "data": {
      "text/plain": [
       "[0, 7, 16, 27, 40, 55]"
      ]
     },
     "execution_count": 49,
     "metadata": {},
     "output_type": "execute_result"
    }
   ],
   "source": [
    "l = range(6)\n",
    "k = range(6,12)\n",
    "x = map(lambda x,y : x*y, l,k)\n",
    "list(x)"
   ]
  },
  {
   "cell_type": "code",
   "execution_count": 50,
   "metadata": {
    "collapsed": false
   },
   "outputs": [
    {
     "data": {
      "text/plain": [
       "[6, 1, 8, 3, 10, 5]"
      ]
     },
     "execution_count": 50,
     "metadata": {},
     "output_type": "execute_result"
    }
   ],
   "source": [
    "x = map(lambda x, y: x if x%2 == 1 else y, l,k)\n",
    "list(x)"
   ]
  },
  {
   "cell_type": "markdown",
   "metadata": {},
   "source": [
    "## Functional Programming : Filter, Any, All\n",
    "\n",
    "In addition to map, several other built in functions use lambda functions, or take functions as arguments. Python purists might say to use the more explicit loops, but functional programming is highly optimized."
   ]
  },
  {
   "cell_type": "markdown",
   "metadata": {},
   "source": [
    "### Filter\n",
    "\n",
    "Filter is used to remove certain items from a sequence: "
   ]
  },
  {
   "cell_type": "code",
   "execution_count": 51,
   "metadata": {
    "collapsed": false
   },
   "outputs": [
    {
     "data": {
      "text/plain": [
       "['oranges', 'bananas']"
      ]
     },
     "execution_count": 51,
     "metadata": {},
     "output_type": "execute_result"
    }
   ],
   "source": [
    "basket = ['oranges','bread','bananas','milk']\n",
    "fruits = ['oranges','apples','bananas','kiwis','strawberries', 'pears']\n",
    "out = []\n",
    "for item in basket:\n",
    "    if item in fruits:\n",
    "        out.append(item)\n",
    "out"
   ]
  },
  {
   "cell_type": "code",
   "execution_count": 52,
   "metadata": {
    "collapsed": false
   },
   "outputs": [
    {
     "data": {
      "text/plain": [
       "['oranges', 'bananas']"
      ]
     },
     "execution_count": 52,
     "metadata": {},
     "output_type": "execute_result"
    }
   ],
   "source": [
    "x = filter(lambda x: x in fruits, basket)\n",
    "list(x)"
   ]
  },
  {
   "cell_type": "markdown",
   "metadata": {},
   "source": [
    "### Any and all\n",
    "\n",
    "any and all are functions which check if every (or any) member or an iterable are True:"
   ]
  },
  {
   "cell_type": "code",
   "execution_count": 53,
   "metadata": {
    "collapsed": false
   },
   "outputs": [
    {
     "name": "stdout",
     "output_type": "stream",
     "text": [
      "True\n",
      "True\n"
     ]
    }
   ],
   "source": [
    "l = [True, True, True]\n",
    "print(all(l))\n",
    "print(any(l))"
   ]
  },
  {
   "cell_type": "markdown",
   "metadata": {},
   "source": [
    "We can use them similar to generators however:"
   ]
  },
  {
   "cell_type": "code",
   "execution_count": 54,
   "metadata": {
    "collapsed": false
   },
   "outputs": [
    {
     "name": "stdout",
     "output_type": "stream",
     "text": [
      "True\n",
      "False\n"
     ]
    }
   ],
   "source": [
    "basket = ['oranges','bread','bananas','milk']\n",
    "fruits = ['oranges','apples','bananas','kiwis','strawberries', 'pears']\n",
    "print(any(item in fruits for item in basket))\n",
    "print(all(item in fruits for item in basket))"
   ]
  },
  {
   "cell_type": "code",
   "execution_count": 55,
   "metadata": {
    "collapsed": false
   },
   "outputs": [
    {
     "name": "stdout",
     "output_type": "stream",
     "text": [
      "False\n",
      "True\n"
     ]
    }
   ],
   "source": [
    "#empty lists have differing behaviour\n",
    "l = []\n",
    "print(any(l))\n",
    "print(all(l))"
   ]
  }
 ],
 "metadata": {
  "kernelspec": {
   "display_name": "Python 3",
   "language": "python",
   "name": "python3"
  },
  "language_info": {
   "codemirror_mode": {
    "name": "ipython",
    "version": 3
   },
   "file_extension": ".py",
   "mimetype": "text/x-python",
   "name": "python",
   "nbconvert_exporter": "python",
   "pygments_lexer": "ipython3",
   "version": "3.5.1"
  }
 },
 "nbformat": 4,
 "nbformat_minor": 0
}
