{
 "cells": [
  {
   "cell_type": "markdown",
   "metadata": {},
   "source": [
    "## Lesson 08 - Scikit-Learn\n",
    "\n",
    "Welcome to lesson 9, on machine learning with scikit-learn.\n",
    "\n",
    "Machine learning is a rapidly growing and advancing field, and the premier module for carrying it out in Python is scikit-learn (aka scikits-learn). Today we will cover the basic syntax and logic of the module, without touching too deeply on the wide array of methods available.\n",
    "\n",
    "Download the [notebook here](/pythoncourse/assets/notebooks/applied/lesson 08 applied.ipynb)\n",
    "\n",
    "### Machine Learning 101\n",
    "\n",
    "We can define machine learning as building a program which can adapt to previously seen data - we build an algorithm, which takes data as an input and outputs predictions, once being trained on a training set.\n",
    "\n",
    "We can broadly define machine learning into two major classes - Supervised and Unsupervised.\n",
    "\n",
    "In supervised clustering we have known targets - eg an iris species, or a continuous variable such as retail spend for which we have both 'features', our predictors, and 'labels', our outputs.\n",
    "\n",
    "We can further subsection this into clustering, with categorical labels, and regression, with continuous labels.\n",
    "\n",
    "Similarly, we have unsupervised learning, in which we have features, but need to discover or define the labels ourselves based on the data. Again, this splits into clustering and regression. We can also often use unsupervised learning as a dimensional reduction tool - PCA can be seen as a sort of unsupervised learning.\n",
    "\n",
    "There can also be some middle area between the methods - maybe we wish to validate our labels which we already have, or develop new ones.\n",
    "\n",
    "### Scikit-Learn 101\n",
    "\n",
    "Sklearn aims to be a unified module for all methods of machine learning, from data splitting, normalization and reduction through to model fitting, prediction and validation. The module is updated regularly to implement the most recent machine learning algorithms. [The website](http://scikit-learn.org/stable/) is a great resource for help, examples and explanations of the differing methods we can use.\n",
    "\n",
    "sklearn does it best to implement the models in a uniform fashion, so we can pass in the same data, and use the same transform, fit, predict, score and other methods. This allows for a uniform workflow, and no need to transform data between formats for different models.\n",
    "\n",
    "In sklearn, we have a standard data format for most algorithms input data:\n",
    "\n",
    "A numpy array of dimensions 'samples' by 'features'. By Default these are stored as np.float64, but we can change this if desired. Additionally we can use the sparse matrix class from scipy if we have very large (and sparse) matrices.\n",
    "\n",
    "Categorical features must be dummified (see last lesson)"
   ]
  },
  {
   "cell_type": "code",
   "execution_count": 86,
   "metadata": {
    "collapsed": false
   },
   "outputs": [
    {
     "name": "stdout",
     "output_type": "stream",
     "text": [
      "[[ 5.1  3.5  1.4  0.2]\n",
      " [ 4.9  3.   1.4  0.2]\n",
      " [ 4.7  3.2  1.3  0.2]\n",
      " [ 4.6  3.1  1.5  0.2]\n",
      " [ 5.   3.6  1.4  0.2]\n",
      " [ 5.4  3.9  1.7  0.4]]\n"
     ]
    }
   ],
   "source": [
    "from sklearn import datasets\n",
    "import numpy as np\n",
    "\n",
    "iris = datasets.load_iris()\n",
    "print(iris.data[:6,:])"
   ]
  },
  {
   "cell_type": "markdown",
   "metadata": {},
   "source": [
    "Addtionally we have a target, or label array if we have a supervised learning dataset:"
   ]
  },
  {
   "cell_type": "code",
   "execution_count": 87,
   "metadata": {
    "collapsed": false
   },
   "outputs": [
    {
     "name": "stdout",
     "output_type": "stream",
     "text": [
      "[0 0 0 0 0 0]\n"
     ]
    }
   ],
   "source": [
    "print(iris.target[:6])"
   ]
  },
  {
   "cell_type": "code",
   "execution_count": 88,
   "metadata": {
    "collapsed": false
   },
   "outputs": [
    {
     "name": "stdout",
     "output_type": "stream",
     "text": [
      "['setosa' 'versicolor' 'virginica']\n"
     ]
    }
   ],
   "source": [
    "print(iris.target_names)"
   ]
  },
  {
   "cell_type": "markdown",
   "metadata": {},
   "source": [
    "Feature engineering is one of the most important parts of machine learning and requires knowledge of the dataset. We will not cover non-automated feature engineering today."
   ]
  },
  {
   "cell_type": "markdown",
   "metadata": {
    "collapsed": true
   },
   "source": [
    "![png](/pythoncourse/assets/sklearn/supervised.png)\n",
    "![png](/pythoncourse/assets/sklearn/supervised.png)\n",
    "both from http://www.astroml.org/sklearn_tutorial/general_concepts.html\n",
    "\n",
    "Overfitting is a serious problem in machine learning models - recall the problem with [googles flu trends](http://www.wired.com/2015/10/can-learn-epic-failure-google-flu-trends/). It ended up predicting winter, rather than flu. Similarly, we might make a model that is really good at describing our current data, but extremely poor at predicting the labels for new data.\n",
    "\n",
    "We can stop overfitting in several ways. The first is to train our predictive models on a training dataset, then test them on a held out, test set. This test set should never be used for fitting models! We should also use simpler models, and cross validation.\n",
    "\n",
    "We have set ups for this in sklearn!\n",
    "\n",
    "### Workflow\n",
    "\n",
    "We will work through the sklearn workflow step by step. \n",
    "\n",
    "* split our data into test and train sets\n",
    "* Preprocess our data - extract features, dummyify, normalise, dimension reduction\n",
    "* Choose a model or models for our data\n",
    "* Fit the models to our data\n",
    "* Analyse our models output\n",
    "* Validate our data on our test set and determine error\n",
    "* Predict new data\n",
    "\n",
    "### Splitting data\n",
    "\n",
    "The [cross validation submodule](http://scikit-learn.org/stable/modules/cross_validation.html) is made to help avoid overfitting. The most common method is to hold some of the data out of the analysis, fit and then cimpare estimators on the test set.\n",
    "\n",
    "Alternatively, the submodule contains methods for carrying out crossvalidation during fitting, these should be used with caution."
   ]
  },
  {
   "cell_type": "code",
   "execution_count": 89,
   "metadata": {
    "collapsed": false
   },
   "outputs": [
    {
     "name": "stdout",
     "output_type": "stream",
     "text": [
      "(150, 4)\n",
      "(90, 4)\n",
      "(60, 4)\n"
     ]
    }
   ],
   "source": [
    "from sklearn.cross_validation import train_test_split\n",
    "\n",
    "print(iris.data.shape)\n",
    "X_train, X_test, y_train, y_test =\\\n",
    "   train_test_split(iris.data, iris.target, test_size=0.4, random_state=0)\n",
    "print(X_train.shape)\n",
    "print(X_test.shape)"
   ]
  },
  {
   "cell_type": "markdown",
   "metadata": {},
   "source": [
    "The function is smart, choosing to stratify within outcomes, and by default holds out 25% of the data. If we have time series or other structured data, a more complex scheme needs to be devised.\n",
    "\n",
    "The test set should now not be touched until it's time for validation"
   ]
  },
  {
   "cell_type": "markdown",
   "metadata": {},
   "source": [
    "### Preprocessing data\n",
    "\n",
    "The next step is feature addition. This is the point where you can calculate your features. Many features can be created from the data (recall the work we did during the test). In general, it is best to carry out these operations with the test data removed, so that the process is the same for any new data.\n",
    "\n",
    "Depending on your choice of method, remove correlated features.\n",
    "\n",
    "Once this is carried out, we can use the [preprocessing submodule](http://scikit-learn.org/stable/modules/preprocessing.html#preprocessing) to process our data:"
   ]
  },
  {
   "cell_type": "code",
   "execution_count": 90,
   "metadata": {
    "collapsed": false
   },
   "outputs": [
    {
     "name": "stdout",
     "output_type": "stream",
     "text": [
      "[[ 0.18206758  0.71103882  0.45664061  0.5584109 ]\n",
      " [-1.17402201  0.00522823 -1.10334891 -1.19183221]\n",
      " [-0.04394735 -0.93585257  0.77939706  0.93346299]\n",
      " [-0.26996228 -0.93585257  0.29526238  0.1833588 ]\n",
      " [-0.26996228 -0.46531217 -0.02749407  0.1833588 ]\n",
      " [-0.38296975 -1.40639297  0.1876769   0.1833588 ]]\n"
     ]
    }
   ],
   "source": [
    "from sklearn import preprocessing\n",
    "\n",
    "# we can dummify data using http://scikit-learn.org/stable/modules/generated/sklearn.preprocessing.OneHotEncoder.html\n",
    "# we can turn data into categories using http://scikit-learn.org/stable/modules/generated/sklearn.preprocessing.binarize.html\n",
    "# see also imputer!\n",
    "\n",
    "scaler = preprocessing.StandardScaler()\n",
    "#be careful to use the correct version!\n",
    "scaler = scaler.fit(X_train)\n",
    "X_train = scaler.transform(X_train)\n",
    "print(X_train[:6,:])"
   ]
  },
  {
   "cell_type": "markdown",
   "metadata": {},
   "source": [
    "The next step to preprocess our data is optionally use matrix decomposition to reduce the number of dimensions our data has. We can use the [decomposition module](http://scikit-learn.org/stable/modules/decomposition.html):"
   ]
  },
  {
   "cell_type": "code",
   "execution_count": 91,
   "metadata": {
    "collapsed": true
   },
   "outputs": [],
   "source": [
    "from sklearn import decomposition\n",
    "\n",
    "pca = decomposition.PCA(n_components=3)\n",
    "#by fitting a model, we can transform our test data later using the transform method\n",
    "pca.fit(X_train)\n",
    "X_train = pca.transform(X_train)"
   ]
  },
  {
   "cell_type": "markdown",
   "metadata": {},
   "source": [
    "Now we can put our normalised and transformed data into a model\n",
    "\n",
    "### Choosing and Fitting a Model\n",
    "\n",
    "Choosing a model is a statistical choice - I'll leave it to you. You could even [make your own](http://scikit-learn.org/stable/developers/contributing.html#rolling-your-own-estimator).\n",
    "\n",
    "Generally, we have a wide range of standard machine learning models - Let's use a [support vector machine](https://en.wikipedia.org/wiki/Support_vector_machine) this time. Briefly, [an SVM draws](http://scikit-learn.org/stable/modules/svm.html) lines (or vector) between our classes of data, either linearly or by apply the ['kernel trick'](https://en.wikipedia.org/wiki/Kernel_method) to [make it non-linear](https://www.youtube.com/watch?v=3liCbRZPrZA). \n",
    "\n",
    "Again, as long as our data is in the correct format we can fit more or less any model from sklearn."
   ]
  },
  {
   "cell_type": "code",
   "execution_count": 92,
   "metadata": {
    "collapsed": true
   },
   "outputs": [],
   "source": [
    "from sklearn import svm\n",
    "\n",
    "rbf_svc = svm.SVC(kernel='rbf')\n",
    "#hyperparameters!\n",
    "#again, once a model is described, we need to fit it:\n",
    "model = rbf_svc.fit(X_train, y_train)"
   ]
  },
  {
   "cell_type": "code",
   "execution_count": 93,
   "metadata": {
    "collapsed": false
   },
   "outputs": [
    {
     "data": {
      "text/plain": [
       "array([1, 0, 2, 1, 1, 1, 1, 2, 0, 0, 2, 1, 0, 0, 1, 0, 2, 1, 0, 1, 2, 1, 0,\n",
       "       2, 2, 2, 2, 0, 0, 2, 2, 0, 2, 0, 2, 2, 0, 0, 2, 0, 0, 0, 1, 2, 2, 0,\n",
       "       0, 0, 1, 1, 0, 0, 1, 0, 2, 1, 2, 1, 0, 2, 0, 2, 0, 0, 2, 0, 2, 1, 1,\n",
       "       1, 2, 2, 1, 2, 0, 1, 2, 2, 0, 1, 1, 2, 1, 0, 0, 0, 2, 1, 2, 0])"
      ]
     },
     "execution_count": 93,
     "metadata": {},
     "output_type": "execute_result"
    }
   ],
   "source": [
    "model.predict(X_train)"
   ]
  },
  {
   "cell_type": "markdown",
   "metadata": {},
   "source": [
    "### Evaluating the model\n",
    "\n",
    "Now we can evaluate our models, both on the training set, and on the test set.\n",
    "\n",
    "We need to recreate our transformations on the test set...."
   ]
  },
  {
   "cell_type": "code",
   "execution_count": 94,
   "metadata": {
    "collapsed": false
   },
   "outputs": [
    {
     "data": {
      "text/plain": [
       "0.97777777777777775"
      ]
     },
     "execution_count": 94,
     "metadata": {},
     "output_type": "execute_result"
    }
   ],
   "source": [
    "#most models have a .score method, which is particular to them. It is normally 1 - out of classification rate\n",
    "model.score(X_train, y_train)"
   ]
  },
  {
   "cell_type": "code",
   "execution_count": 95,
   "metadata": {
    "collapsed": false
   },
   "outputs": [
    {
     "data": {
      "text/plain": [
       "array([2, 1, 0, 2, 0, 2, 0, 1, 1, 1, 1, 1, 1, 1, 1, 0, 1, 1, 0, 0, 2, 1, 0,\n",
       "       0, 2, 0, 0, 1, 1, 0, 2, 1, 0, 2, 2, 1, 0, 2, 1, 1, 2, 0, 2, 0, 0, 1,\n",
       "       2, 2, 1, 2, 1, 2, 1, 1, 2, 1, 2, 2, 1, 2])"
      ]
     },
     "execution_count": 95,
     "metadata": {},
     "output_type": "execute_result"
    }
   ],
   "source": [
    "X_test = scaler.transform(X_test)\n",
    "X_test = pca.transform(X_test)\n",
    "model.predict(X_test)"
   ]
  },
  {
   "cell_type": "code",
   "execution_count": 96,
   "metadata": {
    "collapsed": false
   },
   "outputs": [
    {
     "data": {
      "text/plain": [
       "0.93333333333333335"
      ]
     },
     "execution_count": 96,
     "metadata": {},
     "output_type": "execute_result"
    }
   ],
   "source": [
    "model.score(X_test, y_test)\n",
    "#not quite as good, but much much better than the clustering we use last week"
   ]
  },
  {
   "cell_type": "markdown",
   "metadata": {},
   "source": [
    "We can also use the [metrics submodule](http://scikit-learn.org/stable/modules/model_evaluation.html) to do a ton of metrics about our fit, or make our own:"
   ]
  },
  {
   "cell_type": "code",
   "execution_count": 97,
   "metadata": {
    "collapsed": false
   },
   "outputs": [
    {
     "data": {
      "image/png": "[encoded data removed]",
      "text/plain": [
       "<matplotlib.figure.Figure at 0x7fbf9f567128>"
      ]
     },
     "metadata": {},
     "output_type": "display_data"
    }
   ],
   "source": [
    "from sklearn.metrics import confusion_matrix\n",
    "import matplotlib.pyplot as plt\n",
    "%matplotlib inline \n",
    "\n",
    "y_pred = model.predict(X_test)\n",
    "cm = confusion_matrix(y_test, y_pred)\n",
    "\n",
    "def plot_confusion_matrix(cm, title='Confusion matrix', cmap=plt.cm.Blues):\n",
    "    plt.imshow(cm, interpolation='nearest', cmap=cmap)\n",
    "    plt.title(title)\n",
    "    plt.colorbar()\n",
    "    tick_marks = np.arange(len(iris.target_names))\n",
    "    plt.xticks(tick_marks, iris.target_names, rotation=45)\n",
    "    plt.yticks(tick_marks, iris.target_names)\n",
    "    plt.tight_layout()\n",
    "    plt.ylabel('True label')\n",
    "    plt.xlabel('Predicted label')\n",
    "    \n",
    "plot_confusion_matrix(cm)"
   ]
  },
  {
   "cell_type": "markdown",
   "metadata": {},
   "source": [
    "Now we can predict new data exactly as we did for our test set!"
   ]
  },
  {
   "cell_type": "markdown",
   "metadata": {},
   "source": [
    "### Saving Models\n",
    "\n",
    "We can save our model - a lot of algorithms will take a long time to train, and the prediction is much faster, especially as it is run on a small amount of newer data. To do this, we have to learn a little bit about pickling.\n",
    "\n",
    "Briefly, we can see that python does not hold data as a tabular format in memory - we can give arbitrary classes, so it has no natural state to be stored on the disk. So far, every time we loaded or saved we used a csv or array, which is naturally sequential.\n",
    "\n",
    "Python has a built in module, called pickle, to save its native binary representation of objects to disk. We will use the jobdumps module for now, as it is faster for sklearn objects (it is optimised for numpy arrays)."
   ]
  },
  {
   "cell_type": "code",
   "execution_count": 98,
   "metadata": {
    "collapsed": false
   },
   "outputs": [
    {
     "data": {
      "text/plain": [
       "['model.pkl',\n",
       " 'model.pkl_01.npy',\n",
       " 'model.pkl_02.npy',\n",
       " 'model.pkl_03.npy',\n",
       " 'model.pkl_04.npy',\n",
       " 'model.pkl_05.npy',\n",
       " 'model.pkl_06.npy',\n",
       " 'model.pkl_07.npy',\n",
       " 'model.pkl_08.npy',\n",
       " 'model.pkl_09.npy',\n",
       " 'model.pkl_10.npy',\n",
       " 'model.pkl_11.npy']"
      ]
     },
     "execution_count": 98,
     "metadata": {},
     "output_type": "execute_result"
    }
   ],
   "source": [
    "from sklearn.externals import joblib\n",
    "joblib.dump(model, 'model.pkl') "
   ]
  },
  {
   "cell_type": "markdown",
   "metadata": {},
   "source": [
    "We can load it back in using"
   ]
  },
  {
   "cell_type": "code",
   "execution_count": 99,
   "metadata": {
    "collapsed": true
   },
   "outputs": [],
   "source": [
    "model = joblib.load('model.pkl') "
   ]
  },
  {
   "cell_type": "markdown",
   "metadata": {},
   "source": [
    "### Pipelines\n",
    "\n",
    "We can see that the method we used was fine, but reconstituting the pathway we took through the processing was a little tricky for the test set. We need to make sure we don't miss a step, or our predictions will be off. We also needed to make sure we used the model based transformations, as otherwise we couldn't apply the same transformations to our new data.\n",
    "\n",
    "To make this easier to redo, we can use the [pipelines submodule](http://scikit-learn.org/stable/modules/pipeline.html). Once we have a pipeline, we can call fit and predict as though it were a single model.\n"
   ]
  },
  {
   "cell_type": "code",
   "execution_count": 100,
   "metadata": {
    "collapsed": false
   },
   "outputs": [],
   "source": [
    "from sklearn import pipeline\n",
    "\n",
    "#we get our estimators as a list of tuples:\n",
    "estimators = [('normalise', preprocessing.StandardScaler()),\n",
    "              ('reduce_dim', decomposition.PCA()),\n",
    "              ('svm', svm.SVC(kernel='rbf'))]\n",
    "\n",
    "pipe = pipeline.Pipeline(estimators)"
   ]
  },
  {
   "cell_type": "code",
   "execution_count": 101,
   "metadata": {
    "collapsed": false
   },
   "outputs": [
    {
     "data": {
      "text/plain": [
       "Pipeline(steps=[('normalise', StandardScaler(copy=True, with_mean=True, with_std=True)), ('reduce_dim', PCA(copy=True, n_components=None, whiten=False)), ('svm', SVC(C=1.0, cache_size=200, class_weight=None, coef0=0.0,\n",
       "  decision_function_shape=None, degree=3, gamma='auto', kernel='rbf',\n",
       "  max_iter=-1, probability=False, random_state=None, shrinking=True,\n",
       "  tol=0.001, verbose=False))])"
      ]
     },
     "execution_count": 101,
     "metadata": {},
     "output_type": "execute_result"
    }
   ],
   "source": [
    "X_train, X_test, y_train, y_test =\\\n",
    "   train_test_split(iris.data, iris.target, test_size=0.4, random_state=0)\n",
    "pipe.fit(X_train, y_train)"
   ]
  },
  {
   "cell_type": "code",
   "execution_count": 102,
   "metadata": {
    "collapsed": false
   },
   "outputs": [
    {
     "name": "stdout",
     "output_type": "stream",
     "text": [
      "[2 1 0 2 0 2 0 1 1 1 1 1 1 1 1 0 1 1 0 0 2 1 0 0 2 0 0 1 1 0 2 1 0 2 2 1 0\n",
      " 2 1 1 2 0 2 0 0 1 2 2 1 2 1 2 1 1 2 1 2 2 1 2]\n",
      "0.933333333333\n"
     ]
    }
   ],
   "source": [
    "print(pipe.predict(X_test))\n",
    "print(pipe.score(X_test, y_test))"
   ]
  },
  {
   "cell_type": "markdown",
   "metadata": {},
   "source": [
    "We can change the parameters in a pipeline. One of the reasons we might want to to do this is to optimise a 'hyperparameter' one that does not depend on the model.\n",
    "\n",
    "We can do this using the [gridsearch submodule](http://scikit-learn.org/stable/modules/grid_search.html):"
   ]
  },
  {
   "cell_type": "code",
   "execution_count": 103,
   "metadata": {
    "collapsed": false
   },
   "outputs": [
    {
     "data": {
      "text/plain": [
       "Pipeline(steps=[('normalise', StandardScaler(copy=True, with_mean=True, with_std=True)), ('reduce_dim', PCA(copy=True, n_components=None, whiten=False)), ('svm', SVC(C=10, cache_size=200, class_weight=None, coef0=0.0,\n",
       "  decision_function_shape=None, degree=3, gamma='auto', kernel='rbf',\n",
       "  max_iter=-1, probability=False, random_state=None, shrinking=True,\n",
       "  tol=0.001, verbose=False))])"
      ]
     },
     "execution_count": 103,
     "metadata": {},
     "output_type": "execute_result"
    }
   ],
   "source": [
    "from sklearn.grid_search import GridSearchCV\n",
    "\n",
    "#in the SVC, C is the penalty term, lambda is the degree of the kernel\n",
    "#we can change it using name__param\n",
    "pipe.set_params(svm__C = 10)"
   ]
  },
  {
   "cell_type": "markdown",
   "metadata": {},
   "source": [
    "Grid search lets us search a range of parameters to find the best one:"
   ]
  },
  {
   "cell_type": "code",
   "execution_count": 104,
   "metadata": {
    "collapsed": false
   },
   "outputs": [
    {
     "name": "stdout",
     "output_type": "stream",
     "text": [
      "{'svm__C': 10}\n",
      "0.966666666667\n",
      "0.933333333333\n"
     ]
    }
   ],
   "source": [
    "#again using name__param. Can do as many as we'd like!\n",
    "params = {'svm__C':[0.1, 1, 10, 100]}\n",
    "grid_search = GridSearchCV(pipe, param_grid=params)\n",
    "grid = grid_search.fit(X_train, y_train)\n",
    "print(grid.best_params_)\n",
    "print(grid.best_score_)\n",
    "print(grid.score(X_test, y_test))"
   ]
  },
  {
   "cell_type": "markdown",
   "metadata": {},
   "source": [
    "There is still a ton more to learn from sklearn - we have not touch on ensemble models, feature importance, roc curves, multithreading and a wide range of models.\n",
    "\n",
    "Now we know the basic syntax of split, transform, fit, predict, score we can run most of the models in the module, and analyse their output. Further analysis is left to you to read the docs and understand them.\n",
    "\n",
    "For the rest of the lesson, we will work through the titanic dataset example, fitted with a random forest model: http://nbviewer.jupyter.org/github/donnemartin/data-science-ipython-notebooks/blob/master/kaggle/titanic.ipynb\n",
    "\n"
   ]
  }
 ],
 "metadata": {
  "kernelspec": {
   "display_name": "Python 3",
   "language": "python",
   "name": "python3"
  },
  "language_info": {
   "codemirror_mode": {
    "name": "ipython",
    "version": 3
   },
   "file_extension": ".py",
   "mimetype": "text/x-python",
   "name": "python",
   "nbconvert_exporter": "python",
   "pygments_lexer": "ipython3",
   "version": "3.5.1"
  }
 },
 "nbformat": 4,
 "nbformat_minor": 0
}
