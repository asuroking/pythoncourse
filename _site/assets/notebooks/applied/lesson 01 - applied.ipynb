{
 "cells": [
  {
   "cell_type": "markdown",
   "metadata": {
    "collapsed": false
   },
   "source": [
    "## Welcome to Lesson 01\n",
    "\n",
    "If you did not make it to lesson 00, please check it out on the website, it's assumed you attended [Lesson 00 - Applied Section](/pythoncourse/2016/02/09/lesson00applied.html).\n",
    "\n",
    "Today we go over a quick review and some extensions of last lesson, then dive into Python statements and functions.\n",
    "\n",
    "Grab todays lesson from [this link!](/pythoncourse/assets/notebooks/applied/lesson 01.ipynb).\n",
    "\n",
    "### Statements\n",
    "\n",
    "Python was written with clarity and simplicity in mind, and one of the reasons this has worked is the basic Python syntax.\n",
    "\n",
    "Unlike many other programming languages, Python relies on indentation rather than braces - Thus we cannot easily create a tangled mess like this (my code, in R): \n",
    "\n",
    "`sapply(1:length(factors), function(index) {any(sapply(1:length(factors[[index]]), function(zz) {all((rep(holding[[index]][1:(length(holding[[index]])/factors[[index]][zz])], factors[[index]][zz]))==holding[[index]])}))})\n",
    "`\n",
    "\n",
    "Instead, code is based on indentation, forcing at least some sensible structure into the code:"
   ]
  },
  {
   "cell_type": "code",
   "execution_count": 1,
   "metadata": {
    "collapsed": false
   },
   "outputs": [
    {
     "name": "stdout",
     "output_type": "stream",
     "text": [
      "1\n",
      "2\n",
      "3\n",
      "4\n"
     ]
    }
   ],
   "source": [
    "l = [1,2,3,4]\n",
    "for i in l:\n",
    "    print(i)"
   ]
  },
  {
   "cell_type": "markdown",
   "metadata": {},
   "source": [
    "Indentation will likely be taken care of by your IDE/editor, but it is either 4 spaces, or two tabs (not recommended). Choose one and stay with it, as you will get errors if you mix them or do not indent:\n"
   ]
  },
  {
   "cell_type": "code",
   "execution_count": 56,
   "metadata": {
    "collapsed": false
   },
   "outputs": [
    {
     "ename": "IndentationError",
     "evalue": "expected an indented block (<ipython-input-56-4076db310a51>, line 2)",
     "output_type": "error",
     "traceback": [
      "\u001b[1;36m  File \u001b[1;32m\"<ipython-input-56-4076db310a51>\"\u001b[1;36m, line \u001b[1;32m2\u001b[0m\n\u001b[1;33m    print(i)\u001b[0m\n\u001b[1;37m        ^\u001b[0m\n\u001b[1;31mIndentationError\u001b[0m\u001b[1;31m:\u001b[0m expected an indented block\n"
     ]
    }
   ],
   "source": [
    "for i in l:\n",
    "print(i)"
   ]
  },
  {
   "cell_type": "markdown",
   "metadata": {},
   "source": [
    "Indenting and unindenting is equivalent to closing brackets.\n",
    "\n",
    "This clarity has lead to people comparing Python to Pseudocode, but we will shortly see some counterexamples, where Python syntax becomes very confusing."
   ]
  },
  {
   "cell_type": "markdown",
   "metadata": {
    "collapsed": true
   },
   "source": [
    "### Outside Resources\n",
    "\n",
    "A number of people have asked about text books or online resources for the\n",
    "course. Most Python tutorials online will assume a knowledge at around the level\n",
    "we will reach after a few lessons. I'm using [Python for Data\n",
    "Analysis](http://shop.oreilly.com/product/0636920023784.do) for the Numpy and\n",
    "Pandas section - it won't be necessary to purchase but is a good book (if a\n",
    "little outdated). For the other lessons, links will be provided to the relevant\n",
    "docs.\n",
    "\n"
   ]
  },
  {
   "cell_type": "markdown",
   "metadata": {},
   "source": [
    "### Basic Data Types Review\n",
    "\n",
    "| Type       | Example     | Mutable | Ordered | Duplicates | Subsetting |\n",
    "|------------|-------------|---------|---------|------------|------------|\n",
    "| int        | 2           | NA      | NA      | NA         | NA         |\n",
    "| float      | 2.5         | NA      | NA      | NA         | NA         |\n",
    "| complex    | 2.5 + 0.6J  | NA      | NA      | NA         | NA         |\n",
    "| boolean    | True        | NA      | NA      | NA         | NA         |\n",
    "| string     | 'abcd'      | No      | Yes     | Yes        | x[1]       |\n",
    "| list       | [1,2,3,'a'] | Yes     | Yes     | Yes        | x[1]       |\n",
    "| tuple      | (1,2,3,'a') | No      | Yes     | Yes        | x[1]       |\n",
    "| set        | {1,2,3,4}   | Yes     | No      | No         | No         |\n",
    "| dictionary | {1:1,2:2}   | Yes     | No      | No         | x['key']   |\n",
    "\n",
    "\n"
   ]
  },
  {
   "cell_type": "markdown",
   "metadata": {},
   "source": [
    "### Booleans - Advanced\n",
    "\n",
    "In addition to the standard boolean operators (<,>,==,!=,) mentioned in the first\n",
    "class, there are five others: `in`,`is`,`not`, `any` and `all`. Any and all will be introduced in the functional programming section."
   ]
  },
  {
   "cell_type": "code",
   "execution_count": 2,
   "metadata": {
    "collapsed": false
   },
   "outputs": [
    {
     "data": {
      "text/plain": [
       "True"
      ]
     },
     "execution_count": 2,
     "metadata": {},
     "output_type": "execute_result"
    }
   ],
   "source": [
    "l = ['oranges','apples','bananas','bananas','kiwis']\n",
    "'oranges' in l"
   ]
  },
  {
   "cell_type": "code",
   "execution_count": 3,
   "metadata": {
    "collapsed": false
   },
   "outputs": [
    {
     "data": {
      "text/plain": [
       "True"
      ]
     },
     "execution_count": 3,
     "metadata": {},
     "output_type": "execute_result"
    }
   ],
   "source": [
    "l = 5\n",
    "5 is l\n",
    "##very similar to =="
   ]
  },
  {
   "cell_type": "code",
   "execution_count": 4,
   "metadata": {
    "collapsed": false
   },
   "outputs": [
    {
     "name": "stdout",
     "output_type": "stream",
     "text": [
      "False\n",
      "True\n"
     ]
    }
   ],
   "source": [
    "#we are checking identity, not equality\n",
    "l = ['oranges','apples','bananas']\n",
    "k = ['oranges','apples','bananas']\n",
    "print(l is k)\n",
    "k = l\n",
    "print(l is k)"
   ]
  },
  {
   "cell_type": "code",
   "execution_count": 5,
   "metadata": {
    "collapsed": false
   },
   "outputs": [
    {
     "data": {
      "text/plain": [
       "False"
      ]
     },
     "execution_count": 5,
     "metadata": {},
     "output_type": "execute_result"
    }
   ],
   "source": [
    "not True"
   ]
  },
  {
   "cell_type": "markdown",
   "metadata": {},
   "source": [
    "In Python (and most sensible languages), boolean comparisons are short circuit operators - once one conditon is impossible we stop evaluating. This can get a good speed up on code if you have one expensive comparison and one that is not - Therefore, put the cheap calculation first!"
   ]
  },
  {
   "cell_type": "code",
   "execution_count": 6,
   "metadata": {
    "collapsed": false
   },
   "outputs": [
    {
     "name": "stdout",
     "output_type": "stream",
     "text": [
      "True\n",
      "False\n"
     ]
    }
   ],
   "source": [
    "#del(l)\n",
    "x = \"bananas\"\n",
    "#l is not defined! This would give and error if it hits l \n",
    "print(x == \"bananas\" or l == 4)\n",
    "print(x == \"bananas\" and l == 4)"
   ]
  },
  {
   "cell_type": "markdown",
   "metadata": {},
   "source": [
    "### Data Structures Review"
   ]
  },
  {
   "cell_type": "code",
   "execution_count": 7,
   "metadata": {
    "collapsed": true
   },
   "outputs": [],
   "source": [
    "customer_1 = {'loyaltyids':(1234, 3456),\n",
    "              'transactions':{1:['oranges','apples','bananas','pears','kiwis'],\n",
    "                              2:['bread', 'milk','bananas','bananas']},\n",
    "              'postalcodes':{'M5T1V1', 'M5S3B2'},\n",
    "              'transactionspends':[100.46, 34.55],\n",
    "              'usedcoupons':[True, False]}"
   ]
  },
  {
   "cell_type": "code",
   "execution_count": 8,
   "metadata": {
    "collapsed": true
   },
   "outputs": [],
   "source": [
    "#subsetting here"
   ]
  },
  {
   "cell_type": "markdown",
   "metadata": {},
   "source": [
    "## Statements\n",
    "\n",
    "### If, Else, Elif\n",
    "\n",
    "We can do if and else statements"
   ]
  },
  {
   "cell_type": "code",
   "execution_count": 9,
   "metadata": {
    "collapsed": false
   },
   "outputs": [
    {
     "name": "stdout",
     "output_type": "stream",
     "text": [
      "on sale\n"
     ]
    }
   ],
   "source": [
    "x = 4.99\n",
    "\n",
    "if not True:\n",
    "    print(x)\n",
    "elif x < 5:\n",
    "    print('on sale')\n",
    "else:\n",
    "    print('regular price')\n",
    "\n",
    "\n",
    "#if True:\n",
    "#print(x)"
   ]
  },
  {
   "cell_type": "markdown",
   "metadata": {},
   "source": [
    "and nest them as deep as we would like:"
   ]
  },
  {
   "cell_type": "code",
   "execution_count": 10,
   "metadata": {
    "collapsed": false
   },
   "outputs": [
    {
     "name": "stdout",
     "output_type": "stream",
     "text": [
      "new price is 9.9\n"
     ]
    },
    {
     "data": {
      "text/plain": [
       "[11, 9.9]"
      ]
     },
     "execution_count": 10,
     "metadata": {},
     "output_type": "execute_result"
    }
   ],
   "source": [
    "pricehistory = [11]\n",
    "\n",
    "if pricehistory[-1] >= 10 and len(pricehistory) == 1:\n",
    "    if pricehistory[-1] >= 12:\n",
    "        pricehistory.append(pricehistory[0] - 1)\n",
    "        print('new price is ' + str(pricehistory[-1]))\n",
    "    else:\n",
    "        pricehistory.append(pricehistory[0] - 0.10 * pricehistory[-1])\n",
    "        print('new price is ' + str(pricehistory[-1]))\n",
    "elif len(pricehistory) > 1:\n",
    "    pricehistory.append(min(pricehistory))\n",
    "    print('new price is ' + str(pricehistory[-1]))\n",
    "else:\n",
    "    pricehistory.append(pricehistory[0]*0.9)\n",
    "    print('new price is ' + str(pricehistory[-1]))\n",
    "    \n",
    "pricehistory"
   ]
  },
  {
   "cell_type": "markdown",
   "metadata": {},
   "source": [
    "### For loops\n",
    "\n",
    "For loops work similarly in syntax to if and else. We can use them on any of the major data structures we just introduced"
   ]
  },
  {
   "cell_type": "code",
   "execution_count": 11,
   "metadata": {
    "collapsed": false
   },
   "outputs": [
    {
     "name": "stdout",
     "output_type": "stream",
     "text": [
      "fruit\n",
      "other\n",
      "fruit\n",
      "other\n",
      "\n",
      "\n",
      "fruit\n",
      "other\n",
      "fruit\n",
      "other\n"
     ]
    }
   ],
   "source": [
    "l = ['oranges','bread','bananas','milk']\n",
    "fruits = ['oranges','apples','bananas','kiwis','strawberries', 'pears']\n",
    "\n",
    "for item in l:\n",
    "    if item in fruits:\n",
    "        print(\"fruit\")\n",
    "    else:\n",
    "        print(\"other\")\n",
    "        \n",
    "print(\"\\n\")\n",
    "s = ['oranges','bread','bananas','milk']\n",
    "\n",
    "for item in s:\n",
    "    if item in fruits:\n",
    "        print(\"fruit\")\n",
    "    else:\n",
    "        print(\"other\")"
   ]
  },
  {
   "cell_type": "markdown",
   "metadata": {},
   "source": [
    "On dictionaries, we have to do it a little differently"
   ]
  },
  {
   "cell_type": "code",
   "execution_count": 12,
   "metadata": {
    "collapsed": false
   },
   "outputs": [
    {
     "name": "stdout",
     "output_type": "stream",
     "text": [
      "canned: chickpeas\n",
      "dairy: milk\n",
      "produce: banana\n",
      "2\n",
      "12\n",
      "30\n",
      "56\n"
     ]
    },
    {
     "data": {
      "text/plain": [
       "[[1, 2], [3, 4], [5, 6], [7, 8]]"
      ]
     },
     "execution_count": 12,
     "metadata": {},
     "output_type": "execute_result"
    }
   ],
   "source": [
    "d = {'produce':'banana', 'dairy':'milk', 'canned':'chickpeas'}\n",
    "\n",
    "for k, v in d.items():\n",
    "    print(k + \": \" + v)\n",
    "#unordered!\n",
    "\n",
    "#similar for nested lists:\n",
    "\n",
    "l = [[1,2],[3,4],[5,6],[7,8]]\n",
    "\n",
    "for one, two in l:\n",
    "    print(one * two)\n",
    "    #no modifying!\n",
    "    one = one * 2\n",
    "l"
   ]
  },
  {
   "cell_type": "markdown",
   "metadata": {},
   "source": [
    "### While loops\n",
    "\n",
    "Similarly, we can use while loops, and run a loop until a condition is met"
   ]
  },
  {
   "cell_type": "code",
   "execution_count": 13,
   "metadata": {
    "collapsed": false
   },
   "outputs": [
    {
     "name": "stdout",
     "output_type": "stream",
     "text": [
      "5\n",
      "4\n",
      "3\n",
      "2\n"
     ]
    }
   ],
   "source": [
    "x = 5\n",
    "\n",
    "while x > 1:\n",
    "    print(x)\n",
    "    x -= 1\n",
    "#also +=, *=, /="
   ]
  },
  {
   "cell_type": "markdown",
   "metadata": {},
   "source": [
    "### Break, Pass, Continue\n",
    "\n",
    "We can skip, break or pass elements in our loops"
   ]
  },
  {
   "cell_type": "code",
   "execution_count": 14,
   "metadata": {
    "collapsed": false
   },
   "outputs": [
    {
     "name": "stdout",
     "output_type": "stream",
     "text": [
      "1\n",
      "2\n",
      "3\n",
      "4\n",
      "oranges is not a number\n",
      "1\n",
      "2\n",
      "3\n",
      "4\n",
      "oranges is not a number\n",
      "6\n",
      "1\n",
      "2\n",
      "3\n",
      "4\n",
      "oranges is not a number\n",
      "how did you get here?\n",
      "6\n"
     ]
    }
   ],
   "source": [
    "l = [1,2,3,4,\"oranges\",6]\n",
    "\n",
    "for num in l:\n",
    "    if type(num) == int:\n",
    "        print(num)\n",
    "    else:\n",
    "        print(num + \" is not a number\")\n",
    "        break\n",
    "\n",
    "for num in l:\n",
    "    if type(num) == int:\n",
    "        print(num)\n",
    "    else:\n",
    "        print(num + \" is not a number\")\n",
    "        continue\n",
    "        print(\"how did you get here?\")\n",
    "        \n",
    "for num in l:\n",
    "    if type(num) == int:\n",
    "        print(num)\n",
    "    else:\n",
    "        print(num + \" is not a number\")\n",
    "        pass\n",
    "        print(\"how did you get here?\")\n",
    "\n",
    "        "
   ]
  },
  {
   "cell_type": "markdown",
   "metadata": {},
   "source": [
    "### Range\n",
    "\n",
    "We saw earlier, we cannot modify in place using a loop. We can instead use `range` to generate indices and use these (NB range in Python 3 is similar to xrange in Python 2.7, not `range`). Range objects are not instantly enumerated - we dont have to hold them in memory."
   ]
  },
  {
   "cell_type": "code",
   "execution_count": 15,
   "metadata": {
    "collapsed": false
   },
   "outputs": [
    {
     "data": {
      "text/plain": [
       "range"
      ]
     },
     "execution_count": 15,
     "metadata": {},
     "output_type": "execute_result"
    }
   ],
   "source": [
    "#similar to the subset from:to:by\n",
    "range(0,10,2)\n",
    "type(range(0,10))"
   ]
  },
  {
   "cell_type": "code",
   "execution_count": 16,
   "metadata": {
    "collapsed": false
   },
   "outputs": [
    {
     "data": {
      "text/plain": [
       "range(0, 100000000000000000)"
      ]
     },
     "execution_count": 16,
     "metadata": {},
     "output_type": "execute_result"
    }
   ],
   "source": [
    "#not instantly enumerated! this would fill the memory of nearly all computers\n",
    "range(100000000000000000)"
   ]
  },
  {
   "cell_type": "code",
   "execution_count": 17,
   "metadata": {
    "collapsed": false
   },
   "outputs": [
    {
     "data": {
      "text/plain": [
       "range(0, 6)"
      ]
     },
     "execution_count": 17,
     "metadata": {},
     "output_type": "execute_result"
    }
   ],
   "source": [
    "l = [1,2,3,4,5,6]\n",
    "range(len(l))"
   ]
  },
  {
   "cell_type": "code",
   "execution_count": 18,
   "metadata": {
    "collapsed": false
   },
   "outputs": [
    {
     "data": {
      "text/plain": [
       "[2, 4, 6, 8, 10, 12]"
      ]
     },
     "execution_count": 18,
     "metadata": {},
     "output_type": "execute_result"
    }
   ],
   "source": [
    "for i in range(len(l)):\n",
    "    l[i] = l[i]*2\n",
    "l"
   ]
  },
  {
   "cell_type": "code",
   "execution_count": 19,
   "metadata": {
    "collapsed": false
   },
   "outputs": [
    {
     "data": {
      "text/plain": [
       "[0, 1, 2, 3, 4, 5, 6, 7, 8, 9]"
      ]
     },
     "execution_count": 19,
     "metadata": {},
     "output_type": "execute_result"
    }
   ],
   "source": [
    "#also useful for generating simple lists:\n",
    "list(range(10))"
   ]
  },
  {
   "cell_type": "markdown",
   "metadata": {},
   "source": [
    "We also have the built in function, `enumerate` which can give us a tuple of the index and value at each position in a sequence:"
   ]
  },
  {
   "cell_type": "code",
   "execution_count": 20,
   "metadata": {
    "collapsed": false
   },
   "outputs": [
    {
     "name": "stdout",
     "output_type": "stream",
     "text": [
      "[(0, 'gouda'), (1, 'cheddar'), (2, 'edam'), (3, 'brie')]\n",
      "item 0 is gouda\n",
      "item 1 is cheddar\n",
      "item 2 is edam\n",
      "item 3 is brie\n"
     ]
    }
   ],
   "source": [
    "cheese = ['gouda','cheddar','edam','brie']\n",
    "print(list(enumerate(cheese)))\n",
    "for i,j in enumerate(cheese):\n",
    "    print('item {i} is {j}'.format(i = i, j = j))"
   ]
  },
  {
   "cell_type": "markdown",
   "metadata": {},
   "source": [
    "### Zip\n",
    "\n",
    "zip is a built in python function, that 'zips' sequences into tuples:"
   ]
  },
  {
   "cell_type": "code",
   "execution_count": 21,
   "metadata": {
    "collapsed": false,
    "scrolled": true
   },
   "outputs": [
    {
     "data": {
      "text/plain": [
       "[('oranges', 7, 12),\n",
       " ('apples', 8, 13),\n",
       " ('bananas', 9, 14),\n",
       " ('kiwis', 10, 15),\n",
       " ('strawberries', 11, 16)]"
      ]
     },
     "execution_count": 21,
     "metadata": {},
     "output_type": "execute_result"
    }
   ],
   "source": [
    "item = ['oranges','apples','bananas','kiwis','strawberries']\n",
    "cost = [7,8,9,10,11]\n",
    "units = [12,13,14,15,16]\n",
    "list(zip(item,cost,units))"
   ]
  },
  {
   "cell_type": "markdown",
   "metadata": {},
   "source": [
    "### Comprehensions\n",
    "\n",
    "Comprehensions are are syntactic sugar for for loops. We can make lists (or set or dicts) using this method. Tuples might seem like they should also have a method, but this is reserved for generators, which will discuss later on in the course.\n"
   ]
  },
  {
   "cell_type": "code",
   "execution_count": 22,
   "metadata": {
    "collapsed": false,
    "scrolled": true
   },
   "outputs": [
    {
     "data": {
      "text/plain": [
       "[0, 5, 10, 15, 20, 25, 30, 35, 40, 45]"
      ]
     },
     "execution_count": 22,
     "metadata": {},
     "output_type": "execute_result"
    }
   ],
   "source": [
    "#for loop\n",
    "l = []\n",
    "for i in range(10):\n",
    "    l.append(i * 5)\n",
    "l"
   ]
  },
  {
   "cell_type": "code",
   "execution_count": 23,
   "metadata": {
    "collapsed": false
   },
   "outputs": [
    {
     "data": {
      "text/plain": [
       "[0, 5, 10, 15, 20, 25, 30, 35, 40, 45]"
      ]
     },
     "execution_count": 23,
     "metadata": {},
     "output_type": "execute_result"
    }
   ],
   "source": [
    "#comprehension\n",
    "[i * 5 for i in range(10)]"
   ]
  },
  {
   "cell_type": "code",
   "execution_count": 24,
   "metadata": {
    "collapsed": false
   },
   "outputs": [
    {
     "data": {
      "text/plain": [
       "{10: 'aa', 20: 'bb'}"
      ]
     },
     "execution_count": 24,
     "metadata": {},
     "output_type": "execute_result"
    }
   ],
   "source": [
    "#dict comprehension\n",
    "{i * 10 : j * 2  for i, j in {1: 'a', 2: 'b'}.items()}"
   ]
  },
  {
   "cell_type": "code",
   "execution_count": 25,
   "metadata": {
    "collapsed": false
   },
   "outputs": [
    {
     "data": {
      "text/plain": [
       "[32.0, 212.0, 77.0, 98.60000000000001]"
      ]
     },
     "execution_count": 25,
     "metadata": {},
     "output_type": "execute_result"
    }
   ],
   "source": [
    "celsius = [0,100,25,37]\n",
    "[((9/5)*temp + 32) for temp in celsius]"
   ]
  },
  {
   "cell_type": "markdown",
   "metadata": {},
   "source": [
    "### Ternary expressions\n",
    "\n",
    "Ternary expressions are a fancy way of doing `if` `else` and are very pythonic:"
   ]
  },
  {
   "cell_type": "code",
   "execution_count": 26,
   "metadata": {
    "collapsed": false
   },
   "outputs": [
    {
     "data": {
      "text/plain": [
       "12"
      ]
     },
     "execution_count": 26,
     "metadata": {},
     "output_type": "execute_result"
    }
   ],
   "source": [
    "a = 12\n",
    "a if a > 11 else b"
   ]
  },
  {
   "cell_type": "code",
   "execution_count": 27,
   "metadata": {
    "collapsed": false
   },
   "outputs": [
    {
     "data": {
      "text/plain": [
       "'no'"
      ]
     },
     "execution_count": 27,
     "metadata": {},
     "output_type": "execute_result"
    }
   ],
   "source": [
    "a = 10\n",
    "b = \"no\"\n",
    "a if a > 11 else b"
   ]
  },
  {
   "cell_type": "markdown",
   "metadata": {},
   "source": [
    "we can chain this with our comprehensions"
   ]
  },
  {
   "cell_type": "code",
   "execution_count": 28,
   "metadata": {
    "collapsed": false
   },
   "outputs": [
    {
     "data": {
      "text/plain": [
       "[2, 1, 2, 3]"
      ]
     },
     "execution_count": 28,
     "metadata": {},
     "output_type": "execute_result"
    }
   ],
   "source": [
    "[a if a else 2 for a in [0,1,0,3]]"
   ]
  },
  {
   "cell_type": "markdown",
   "metadata": {},
   "source": [
    "or our nested comprehensions"
   ]
  },
  {
   "cell_type": "code",
   "execution_count": 29,
   "metadata": {
    "collapsed": false
   },
   "outputs": [
    {
     "data": {
      "text/plain": [
       "[[1, 4, 3], [8, 5, 12], [7, 16, 9]]"
      ]
     },
     "execution_count": 29,
     "metadata": {},
     "output_type": "execute_result"
    }
   ],
   "source": [
    "matrix = [[1,2,3],[4,5,6],[7,8,9]]\n",
    "[[el * 2 if el % 2 == 0 else el for el in row] for row in matrix]"
   ]
  },
  {
   "cell_type": "markdown",
   "metadata": {},
   "source": [
    "As these comprehensions are not faster than a for loop, it is worth using for loops once you can't follow clearly what the comprehension is doing (I would almost never use a nested comprehension)! "
   ]
  },
  {
   "cell_type": "markdown",
   "metadata": {},
   "source": [
    "## Intro to Functions\n",
    "\n",
    "Functions are one of the key parts of any programming language. Today we will touch on basic syntax and definition, and move into a more thorough exploration in the next class."
   ]
  },
  {
   "cell_type": "code",
   "execution_count": 30,
   "metadata": {
    "collapsed": false
   },
   "outputs": [
    {
     "data": {
      "text/plain": [
       "212.0"
      ]
     },
     "execution_count": 30,
     "metadata": {},
     "output_type": "execute_result"
    }
   ],
   "source": [
    "def celcius_to_fahr(temp):\n",
    "    return (9/5)*temp + 32\n",
    "\n",
    "celcius_to_fahr(100)"
   ]
  },
  {
   "cell_type": "code",
   "execution_count": 31,
   "metadata": {
    "collapsed": false
   },
   "outputs": [
    {
     "data": {
      "text/plain": [
       "-173"
      ]
     },
     "execution_count": 31,
     "metadata": {},
     "output_type": "execute_result"
    }
   ],
   "source": [
    "def kelvin_to_celcius(temp):\n",
    "    return temp - 273\n",
    "\n",
    "kelvin_to_celcius(100)"
   ]
  },
  {
   "cell_type": "code",
   "execution_count": 32,
   "metadata": {
    "collapsed": false
   },
   "outputs": [
    {
     "data": {
      "text/plain": [
       "32.0"
      ]
     },
     "execution_count": 32,
     "metadata": {},
     "output_type": "execute_result"
    }
   ],
   "source": [
    "def kelvin_to_fahr(temp):\n",
    "    return celcius_to_fahr(kelvin_to_celcius(temp))\n",
    "\n",
    "kelvin_to_fahr(273)"
   ]
  },
  {
   "cell_type": "code",
   "execution_count": 33,
   "metadata": {
    "collapsed": false
   },
   "outputs": [
    {
     "name": "stdout",
     "output_type": "stream",
     "text": [
      "Help on function myfirstfun in module __main__:\n",
      "\n",
      "myfirstfun(arg1, arg2)\n",
      "    Here is the docstring. this will be displayed to a user calling help(myfirstfun)\n",
      "    It can be as long as you'd like.\n",
      "    This argument takes two arguments, and returns the sum of them\n",
      "\n"
     ]
    }
   ],
   "source": [
    "def myfirstfun(arg1, arg2):\n",
    "    '''Here is the docstring. this will be displayed to a user calling help(myfirstfun)\n",
    "    It can be as long as you'd like.\n",
    "    This argument takes two arguments, and returns the sum of them\n",
    "    '''\n",
    "    return(arg1 + arg2)\n",
    "\n",
    "help(myfirstfun)"
   ]
  },
  {
   "cell_type": "code",
   "execution_count": 34,
   "metadata": {
    "collapsed": false
   },
   "outputs": [
    {
     "data": {
      "text/plain": [
       "3"
      ]
     },
     "execution_count": 34,
     "metadata": {},
     "output_type": "execute_result"
    }
   ],
   "source": [
    "myfirstfun(1, 2)"
   ]
  },
  {
   "cell_type": "code",
   "execution_count": 35,
   "metadata": {
    "collapsed": false
   },
   "outputs": [
    {
     "data": {
      "text/plain": [
       "'hi'"
      ]
     },
     "execution_count": 35,
     "metadata": {},
     "output_type": "execute_result"
    }
   ],
   "source": [
    "myfirstfun(\"h\", \"i\")"
   ]
  },
  {
   "cell_type": "markdown",
   "metadata": {},
   "source": [
    "We might not want our function to work on strings! We can Raise an error is the arguments are not numeric:"
   ]
  },
  {
   "cell_type": "code",
   "execution_count": 36,
   "metadata": {
    "collapsed": false
   },
   "outputs": [
    {
     "data": {
      "text/plain": [
       "3"
      ]
     },
     "execution_count": 36,
     "metadata": {},
     "output_type": "execute_result"
    }
   ],
   "source": [
    "def myfirstfun(arg1, arg2):\n",
    "    '''Here is the docstring. this will be displayed to a user calling help(myfirstfun)\n",
    "    It can be as long as you'd like.\n",
    "    This argument takes two arguments, and returns the sum of them\n",
    "    '''\n",
    "    for i in arg1, arg2:\n",
    "        assert type(i) == int or type(i) == float, \"This function requires numerics\"\n",
    "    return(arg1 + arg2)\n",
    "\n",
    "myfirstfun(1,2)"
   ]
  },
  {
   "cell_type": "code",
   "execution_count": 1,
   "metadata": {
    "collapsed": false,
    "scrolled": true
   },
   "outputs": [
    {
     "ename": "NameError",
     "evalue": "name 'myfirstfun' is not defined",
     "output_type": "error",
     "traceback": [
      "\u001b[1;31m---------------------------------------------------------------------------\u001b[0m",
      "\u001b[1;31mNameError\u001b[0m                                 Traceback (most recent call last)",
      "\u001b[1;32m<ipython-input-1-b9e7ba21c90e>\u001b[0m in \u001b[0;36m<module>\u001b[1;34m()\u001b[0m\n\u001b[1;32m----> 1\u001b[1;33m \u001b[0mmyfirstfun\u001b[0m\u001b[1;33m(\u001b[0m\u001b[1;34m\"h\"\u001b[0m\u001b[1;33m,\u001b[0m \u001b[1;34m\"i\"\u001b[0m\u001b[1;33m)\u001b[0m\u001b[1;33m\u001b[0m\u001b[0m\n\u001b[0m",
      "\u001b[1;31mNameError\u001b[0m: name 'myfirstfun' is not defined"
     ]
    }
   ],
   "source": [
    "myfirstfun(\"h\", \"i\")"
   ]
  },
  {
   "cell_type": "markdown",
   "metadata": {},
   "source": [
    "## Exercises\n",
    "\n",
    "* `in` can generalise to strings - `'im' in 'Precima'` will give True. Can you think of a way to test if letters are in a string in any order? For now, ignore any duplicates. 'imP' should resolve to True if compared to 'Precima'\n",
    "\n",
    "* Rewrite your answer above using `all`, a for loop, and a comprehension (if you didn't use these). Which one feels the most natural to you?\n",
    "\n",
    "* We have a nested dictionary of transactions - dict = {'user1':{1:345,2:546.5,3:987}, 'user2':{1:546, 2:744.4, 3:454.4}}. Use a nested list comprehension to get out a list of the values:[[345, 546.5, 987], [546, 744.4, 454.4]]. Can you think of a better way? Can you zip this list to [(345, 546), (546.5, 744.4), (987, 454.4)]?\n",
    "\n",
    "* Why does range not enumerate to a list all at once? How can you force it to?\n",
    "\n",
    "* How does zip behave on lists of different sizes? (l = [1,2,3], k = [1,2,3,4,5]). Make a loop that works until the longest list ends. What should the output look like and why?\n",
    "\n",
    "* We can index previous members of a sequence in a for loop, using a number of methods. Use `enumerate` and a for loop to test whether each member of list l = [1,1,2,3,5,8,13,21,34,55,88,143] is the sum of the previous two objects of the list. Think about how to treat the first two values. The output should be a list of booleans\n",
    "\n",
    "* Rewrite the previous loop using range. How will you treat the first two values now? Can you think of a way to do this using only for i in l (nb off the top of my head, I can't)?\n",
    "\n",
    "* Write a list comprehension giving True for only those values which are perfect cubes - ie x\\*\\*1/3 gives an integer. Think about how to avoid floating point errors: use google, or use a function I briefly introduced today. l = [1,8,16,27,64] will give [True, True, False, True, True]\n",
    "\n",
    "* Write the above as a for loop."
   ]
  }
 ],
 "metadata": {
  "kernelspec": {
   "display_name": "Python 3",
   "language": "python",
   "name": "python3"
  },
  "language_info": {
   "codemirror_mode": {
    "name": "ipython",
    "version": 3
   },
   "file_extension": ".py",
   "mimetype": "text/x-python",
   "name": "python",
   "nbconvert_exporter": "python",
   "pygments_lexer": "ipython3",
   "version": "3.5.1"
  }
 },
 "nbformat": 4,
 "nbformat_minor": 0
}
