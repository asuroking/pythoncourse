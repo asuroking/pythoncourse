{
 "cells": [
  {
   "cell_type": "markdown",
   "metadata": {},
   "source": [
    "## Lesson 09 - Workflow and working on the Server\n",
    "\n",
    "Welcome to lesson 10. \n",
    "\n",
    "Today we will cover the basics of working on the server - managing packages in a virtual environment, connecting to and running queries with SQL, parallel processing and a brief introduction to version control.   \n",
    "\n"
   ]
  },
  {
   "cell_type": "markdown",
   "metadata": {},
   "source": [
    "### Virtual Environments\n",
    "\n",
    "When working on a server, we need to be cognizant that others are also using the server. Even if we have permissions to install packages we probably shouldn't - what if we want to upgrade pandas for ourselves, while our coworkers are using it?\n",
    "\n",
    "Similarly, we may be working on projects where we need specifically to not have a certain module installed, or only install a certain version.\n",
    "\n",
    "To fix these problems, we can install a ['virtual environment'](http://docs.python-guide.org/en/latest/dev/virtualenvs/) and use this as the location to load our modules from. \n",
    "\n",
    "Anaconda comes with a [virtual env manager](http://conda.pydata.org/docs/using/envs.html), the most commonly used non-conda version is virtualenv and virtualenvwrapper. They work similarly to conda.\n",
    "\n",
    "Let's check what environments we have available:\n",
    "\n",
    "```\n",
    "conda info --envs\n",
    "```\n",
    "\n",
    "Let's make a new environment, called sqlproj which has installed pyodbc:\n",
    "\n",
    "```\n",
    "conda create -n sqlproj pyodbc\n",
    "```\n",
    "\n",
    "Now switch to this env:\n",
    "\n",
    "```\n",
    "activate sqlproj\n",
    "```\n",
    "\n",
    "Now that we are in our project, if we open python, we get our new version:\n",
    "\n",
    "```\n",
    "python\n",
    "```"
   ]
  },
  {
   "cell_type": "code",
   "execution_count": 1,
   "metadata": {
    "collapsed": false
   },
   "outputs": [
    {
     "ename": "ImportError",
     "evalue": "No module named 'pyodbc'",
     "output_type": "error",
     "traceback": [
      "\u001b[1;31m---------------------------------------------------------------------------\u001b[0m",
      "\u001b[1;31mImportError\u001b[0m                               Traceback (most recent call last)",
      "\u001b[1;32m<ipython-input-1-235fb7d14406>\u001b[0m in \u001b[0;36m<module>\u001b[1;34m()\u001b[0m\n\u001b[1;32m----> 1\u001b[1;33m \u001b[1;32mimport\u001b[0m \u001b[0mpyodbc\u001b[0m\u001b[1;33m\u001b[0m\u001b[0m\n\u001b[0m\u001b[0;32m      2\u001b[0m \u001b[1;32mimport\u001b[0m \u001b[0mpandas\u001b[0m\u001b[1;33m\u001b[0m\u001b[0m\n",
      "\u001b[1;31mImportError\u001b[0m: No module named 'pyodbc'"
     ]
    }
   ],
   "source": [
    "import pyodbc\n",
    "import pandas"
   ]
  },
  {
   "cell_type": "markdown",
   "metadata": {},
   "source": [
    "Huh, we don't have pandas? By default, none of our previous packages come with us. This is to stop us copying our environment to a new computer and have it no longer work.\n",
    "\n",
    "Let's install pandas:\n",
    "\n",
    "```\n",
    "conda install pandas\n",
    "```\n",
    "\n",
    "or, if we aren't in the env:\n",
    "\n",
    "```\n",
    "conda install -n pyodbc pandas\n",
    "```\n",
    "\n",
    "If we want a specific version, we can specify it:\n",
    "\n",
    "```\n",
    "conda install -n pyodbc pandas=0.15.0\n",
    "```\n",
    "\n",
    "We can even specify a python version here....\n",
    "\n",
    "Deactivate:\n",
    "```\n",
    "deactivate\n",
    "```\n",
    "\n",
    "We can export our configuration:\n",
    "\n",
    "```\n",
    "conda env export > env.yml\n",
    "```\n",
    "\n",
    "and use that to share our setup with colleagues:\n",
    "\n",
    "```\n",
    "conda env create -f env.yml\n",
    "```"
   ]
  },
  {
   "cell_type": "markdown",
   "metadata": {},
   "source": [
    "### Connecting to the databases\n",
    "\n",
    "netezza is unfortunately a non-free piece of software, and so has a couple of integration issues with python.\n",
    "\n",
    "Luckily, it is compliant with [ODBC](https://en.wikipedia.org/wiki/Open_Database_Connectivity), so we can use the pyodbc module to connect to our database.\n",
    "\n",
    "[sql-alchemy](http://www.sqlalchemy.org/) is also a possibility, but is much more involved!\n",
    "\n",
    "We have two choices - we can run python on the server, and connect to the database locally, or we can run python on our computer and connect to the database remotely.\n",
    "\n",
    "The exact configuration will depend on your server! We currently can work with the R&D servers - individual servers may require some setup - Please email any errors you get to me and we will endeavour to make sure we can connect!"
   ]
  },
  {
   "cell_type": "code",
   "execution_count": 2,
   "metadata": {
    "collapsed": true
   },
   "outputs": [],
   "source": [
    "#import odbc\n",
    "#in general:\n",
    "#conn = pyodbc.connect(\"DRIVER={NetezzaSQL};SERVER=<myserver>;PORT=<myport>;DATABASE=<mydbschema>;UID=<user>;PWD=<password>;\")\n",
    "#using DSN\n",
    "#conn = pyodbc.connect(dsn = 'server', UID = 'uname', PWD = 'PWD') #server eg:prcmusf"
   ]
  },
  {
   "cell_type": "markdown",
   "metadata": {},
   "source": [
    "I don't have access to your servers, so here is a simple sqlite database:"
   ]
  },
  {
   "cell_type": "code",
   "execution_count": 3,
   "metadata": {
    "collapsed": true
   },
   "outputs": [],
   "source": [
    "import sqlite3\n",
    "import pandas as pd\n",
    "\n",
    "x = sqlite3.connect('c:/users/jeremy/downloads/survey.db')\n",
    "#database from software carpentry, http://files.software-carpentry.org/survey.db\n",
    "#same as the above connection!"
   ]
  },
  {
   "cell_type": "markdown",
   "metadata": {},
   "source": [
    "Once we have a connection, we need to create a cursor. A cursor is a control structure which allows us to interact with the database"
   ]
  },
  {
   "cell_type": "code",
   "execution_count": 4,
   "metadata": {
    "collapsed": false
   },
   "outputs": [
    {
     "data": {
      "text/plain": [
       "<sqlite3.Cursor at 0x1e3fe568e30>"
      ]
     },
     "execution_count": 4,
     "metadata": {},
     "output_type": "execute_result"
    }
   ],
   "source": [
    "cxn = x.cursor()\n",
    "\n",
    "cxn.execute('select * from person')\n",
    "#can do much more complicated....\n",
    "#declaritive"
   ]
  },
  {
   "cell_type": "code",
   "execution_count": null,
   "metadata": {
    "collapsed": true
   },
   "outputs": [],
   "source": [
    "print(cxn.fetchall())\n",
    "print(cxn.fetchall())"
   ]
  },
  {
   "cell_type": "markdown",
   "metadata": {},
   "source": [
    "It looks a lot like a generator! (NB it isn't...).\n",
    "\n",
    "We can go line by line, or use it like an iterable:"
   ]
  },
  {
   "cell_type": "code",
   "execution_count": 5,
   "metadata": {
    "collapsed": false
   },
   "outputs": [
    {
     "name": "stdout",
     "output_type": "stream",
     "text": [
      "('dyer', 'William', 'Dyer')\n"
     ]
    }
   ],
   "source": [
    "cxn.execute('select * from person')\n",
    "\n",
    "print(cxn.fetchone())"
   ]
  },
  {
   "cell_type": "code",
   "execution_count": 6,
   "metadata": {
    "collapsed": false
   },
   "outputs": [
    {
     "name": "stdout",
     "output_type": "stream",
     "text": [
      "('dyer', 'William', 'Dyer')\n",
      "('pb', 'Frank', 'Pabodie')\n",
      "('lake', 'Anderson', 'Lake')\n",
      "('roe', 'Valentina', 'Roerich')\n",
      "('danforth', 'Frank', 'Danforth')\n"
     ]
    }
   ],
   "source": [
    "for row in cxn.execute('SELECT * FROM person'):\n",
    "    print(row)"
   ]
  },
  {
   "cell_type": "markdown",
   "metadata": {},
   "source": [
    "pandas has built in sql integration, through recently is has been reduced to use the sql-alchemy backend. \n",
    "\n",
    "We use the database connection, rather than the cursor:"
   ]
  },
  {
   "cell_type": "code",
   "execution_count": 8,
   "metadata": {
    "collapsed": false
   },
   "outputs": [
    {
     "data": {
      "text/html": [
       "<div>\n",
       "<table border=\"1\" class=\"dataframe\">\n",
       "  <thead>\n",
       "    <tr style=\"text-align: right;\">\n",
       "      <th></th>\n",
       "      <th>ident</th>\n",
       "      <th>personal</th>\n",
       "      <th>family</th>\n",
       "    </tr>\n",
       "  </thead>\n",
       "  <tbody>\n",
       "    <tr>\n",
       "      <th>0</th>\n",
       "      <td>dyer</td>\n",
       "      <td>William</td>\n",
       "      <td>Dyer</td>\n",
       "    </tr>\n",
       "    <tr>\n",
       "      <th>1</th>\n",
       "      <td>pb</td>\n",
       "      <td>Frank</td>\n",
       "      <td>Pabodie</td>\n",
       "    </tr>\n",
       "    <tr>\n",
       "      <th>2</th>\n",
       "      <td>lake</td>\n",
       "      <td>Anderson</td>\n",
       "      <td>Lake</td>\n",
       "    </tr>\n",
       "    <tr>\n",
       "      <th>3</th>\n",
       "      <td>roe</td>\n",
       "      <td>Valentina</td>\n",
       "      <td>Roerich</td>\n",
       "    </tr>\n",
       "    <tr>\n",
       "      <th>4</th>\n",
       "      <td>danforth</td>\n",
       "      <td>Frank</td>\n",
       "      <td>Danforth</td>\n",
       "    </tr>\n",
       "  </tbody>\n",
       "</table>\n",
       "</div>"
      ],
      "text/plain": [
       "      ident   personal    family\n",
       "0      dyer    William      Dyer\n",
       "1        pb      Frank   Pabodie\n",
       "2      lake   Anderson      Lake\n",
       "3       roe  Valentina   Roerich\n",
       "4  danforth      Frank  Danforth"
      ]
     },
     "execution_count": 8,
     "metadata": {},
     "output_type": "execute_result"
    }
   ],
   "source": [
    "df = pd.read_sql('select * from Person', x)\n",
    "df"
   ]
  },
  {
   "cell_type": "code",
   "execution_count": 9,
   "metadata": {
    "collapsed": true
   },
   "outputs": [],
   "source": [
    "df['newcol'] = [1,2,3,4,5] "
   ]
  },
  {
   "cell_type": "code",
   "execution_count": 10,
   "metadata": {
    "collapsed": false
   },
   "outputs": [
    {
     "data": {
      "text/html": [
       "<div>\n",
       "<table border=\"1\" class=\"dataframe\">\n",
       "  <thead>\n",
       "    <tr style=\"text-align: right;\">\n",
       "      <th></th>\n",
       "      <th>index</th>\n",
       "      <th>ident</th>\n",
       "      <th>personal</th>\n",
       "      <th>family</th>\n",
       "      <th>newcol</th>\n",
       "    </tr>\n",
       "  </thead>\n",
       "  <tbody>\n",
       "    <tr>\n",
       "      <th>0</th>\n",
       "      <td>0</td>\n",
       "      <td>dyer</td>\n",
       "      <td>William</td>\n",
       "      <td>Dyer</td>\n",
       "      <td>1</td>\n",
       "    </tr>\n",
       "    <tr>\n",
       "      <th>1</th>\n",
       "      <td>1</td>\n",
       "      <td>pb</td>\n",
       "      <td>Frank</td>\n",
       "      <td>Pabodie</td>\n",
       "      <td>2</td>\n",
       "    </tr>\n",
       "    <tr>\n",
       "      <th>2</th>\n",
       "      <td>2</td>\n",
       "      <td>lake</td>\n",
       "      <td>Anderson</td>\n",
       "      <td>Lake</td>\n",
       "      <td>3</td>\n",
       "    </tr>\n",
       "    <tr>\n",
       "      <th>3</th>\n",
       "      <td>3</td>\n",
       "      <td>roe</td>\n",
       "      <td>Valentina</td>\n",
       "      <td>Roerich</td>\n",
       "      <td>4</td>\n",
       "    </tr>\n",
       "    <tr>\n",
       "      <th>4</th>\n",
       "      <td>4</td>\n",
       "      <td>danforth</td>\n",
       "      <td>Frank</td>\n",
       "      <td>Danforth</td>\n",
       "      <td>5</td>\n",
       "    </tr>\n",
       "  </tbody>\n",
       "</table>\n",
       "</div>"
      ],
      "text/plain": [
       "   index     ident   personal    family  newcol\n",
       "0      0      dyer    William      Dyer       1\n",
       "1      1        pb      Frank   Pabodie       2\n",
       "2      2      lake   Anderson      Lake       3\n",
       "3      3       roe  Valentina   Roerich       4\n",
       "4      4  danforth      Frank  Danforth       5"
      ]
     },
     "execution_count": 10,
     "metadata": {},
     "output_type": "execute_result"
    }
   ],
   "source": [
    "#df.to_sql('data1', x)\n",
    "pd.read_sql('select * from data1', x)"
   ]
  },
  {
   "cell_type": "markdown",
   "metadata": {},
   "source": [
    "In general, we should keep the sql inside python to a minimum - netezza is a little finicky with it's integration, so run a sql command, and then read in all the data."
   ]
  },
  {
   "cell_type": "markdown",
   "metadata": {},
   "source": [
    "### Scripts vs Notebooks\n",
    "\n",
    "The i in iPython stands for interactive. In general, we should use iPython to develop code, test and run it, and then run as scripts for production. The current move is in to using notebooks in production - we can run them on the server, and interact with them from our own computers - This however requires running a web facing server which is not super secure.\n",
    "\n",
    "We will see if this is possible for our setup...\n",
    "\n",
    "In the mean time, see how easy it is to convert a notebook to script.py"
   ]
  },
  {
   "cell_type": "markdown",
   "metadata": {},
   "source": [
    "### Parallel Processing\n",
    "\n",
    "Without getting into the exact details of the Python source code, Python (or more explicitly, Cython) uses a Global interpreter lock, or [GIL](https://wiki.python.org/moin/GlobalInterpreterLock) to prevent multithreading. This is so that we don't accidentally modify objects in one thread, which we migth access in another.\n",
    "\n",
    "This means that parallel procesisng in Python is a little complicated - It is hard to work in a Python session with multiple threaded Python code. What normally happens is a couple of tricks which either effectively open a new Python process, or we can use compiled code called by python to do the parallel work.\n",
    "\n",
    "Because we need multiple sessions, we are not sharing memory. Each object has to be reloaded into memory of each process, leading to troubles with memory, and in pandas, a significant slowdown. At the moment, there is a concerted effort ([dask](http://dask.pydata.org/en/latest/)) to bring parallel computing to pandas, as well as some [experimental support for bypassing the GIL](https://www.continuum.io/content/pandas-releasing-gil).\n",
    "\n",
    "For now, let's stick with numpy, where parallel processing is well implemented. We will then cover how we can use the iPython parallel procesisng implementation to generalise our parallel work.\n",
    "\n",
    "We can define parallel tasks into two categories - [Embarrassingly parallel](https://en.wikipedia.org/wiki/Embarrassingly_parallel) and inherently serial problems. Very briefly, a problem is embarrassingly parallel if it does not depend on previous steps. This way we can split it into multiple small chunks and pass it to multiple processes and not worry about cross talk. \n",
    "\n",
    "Algorithm design, again, is a little beyond this class. So if we have serial problems, think very carefully if they can be converted to non-serial problems, otherwise the programming will get very complicated.\n",
    "\n",
    "Depending on your implementation of BLAS, numpy will be natively parallel:"
   ]
  },
  {
   "cell_type": "code",
   "execution_count": 17,
   "metadata": {
    "collapsed": false
   },
   "outputs": [],
   "source": [
    "import numpy as np\n",
    "\n",
    "a = np.arange(1000000).reshape(1000,1000)\n",
    "b = np.arange(1000000).reshape(1000,1000)\n",
    "c = np.dot(a,b)"
   ]
  },
  {
   "cell_type": "markdown",
   "metadata": {},
   "source": [
    "How do we change our BLAS? Well, you will need to build Python from source on your current machine/server, or download a version optimised for your current computer (my linux machine works with the default Anaconda, my windows one does not).\n",
    "\n",
    "Numpy also releases the GIL when running matrix operations. we can take advantage of this using threading....\n",
    "\n",
    "More advantagous however, is using the iPython parallel module. First we need to install it:\n",
    "\n",
    "\n",
    "```\n",
    "conda install ipyparallel\n",
    "```\n",
    "\n",
    "and start an instance:\n",
    "\n",
    "```\n",
    "ipcluster start -n 4\n",
    "```\n",
    "\n",
    "Now we can connect through our notebook (if we are running remotely, we need to play with the Client call):"
   ]
  },
  {
   "cell_type": "code",
   "execution_count": 3,
   "metadata": {
    "collapsed": true
   },
   "outputs": [],
   "source": [
    "import ipyparallel as ipp\n",
    "\n",
    "c = ipp.Client()"
   ]
  },
  {
   "cell_type": "code",
   "execution_count": 4,
   "metadata": {
    "collapsed": false
   },
   "outputs": [
    {
     "data": {
      "text/plain": [
       "[0, 1, 2, 3]"
      ]
     },
     "execution_count": 4,
     "metadata": {},
     "output_type": "execute_result"
    }
   ],
   "source": [
    "c.ids"
   ]
  },
  {
   "cell_type": "code",
   "execution_count": 6,
   "metadata": {
    "collapsed": true
   },
   "outputs": [],
   "source": [
    "ourdview = c[:]"
   ]
  },
  {
   "cell_type": "markdown",
   "metadata": {},
   "source": [
    "Now we can call methods on our dview object to carry out parallel processing:"
   ]
  },
  {
   "cell_type": "code",
   "execution_count": 7,
   "metadata": {
    "collapsed": false
   },
   "outputs": [
    {
     "data": {
      "text/plain": [
       "<AsyncMapResult: <lambda>>"
      ]
     },
     "execution_count": 7,
     "metadata": {},
     "output_type": "execute_result"
    }
   ],
   "source": [
    "x = map(lambda x: x*x, range(100))\n",
    "\n",
    "y = ourdview.map(lambda x: x*x, range(100))\n",
    "\n",
    "y"
   ]
  },
  {
   "cell_type": "code",
   "execution_count": 13,
   "metadata": {
    "collapsed": false
   },
   "outputs": [
    {
     "name": "stdout",
     "output_type": "stream",
     "text": [
      "Wall time: 1.14 s\n"
     ]
    }
   ],
   "source": [
    "%time x = list(ourdview.map(lambda x: x*x, range(1000000)));"
   ]
  },
  {
   "cell_type": "code",
   "execution_count": 16,
   "metadata": {
    "collapsed": false
   },
   "outputs": [
    {
     "name": "stdout",
     "output_type": "stream",
     "text": [
      "Wall time: 326 ms\n"
     ]
    }
   ],
   "source": [
    "%time y = list(map(lambda x: x*x, range(1000000)));"
   ]
  },
  {
   "cell_type": "markdown",
   "metadata": {},
   "source": [
    "due to overhead, it is slower than the non-parallel version! As we increase complexity however, we increase our savings:"
   ]
  },
  {
   "cell_type": "code",
   "execution_count": 18,
   "metadata": {
    "collapsed": true
   },
   "outputs": [],
   "source": [
    "import numpy as np\n",
    "A = np.random.random((64,48))\n",
    "C_local = A*A"
   ]
  },
  {
   "cell_type": "markdown",
   "metadata": {},
   "source": [
    "We can use a decorator to automate (or at least try to) our functions:"
   ]
  },
  {
   "cell_type": "code",
   "execution_count": 19,
   "metadata": {
    "collapsed": true
   },
   "outputs": [],
   "source": [
    "@dview.parallel(block=True)\n",
    "def pmul(A,B):\n",
    "    return A*B\n",
    "\n",
    "C_remote = pmul(A,A)\n"
   ]
  },
  {
   "cell_type": "code",
   "execution_count": 21,
   "metadata": {
    "collapsed": false
   },
   "outputs": [
    {
     "data": {
      "text/plain": [
       "True"
      ]
     },
     "execution_count": 21,
     "metadata": {},
     "output_type": "execute_result"
    }
   ],
   "source": [
    "(C_remote == C_local).all()"
   ]
  },
  {
   "cell_type": "markdown",
   "metadata": {},
   "source": [
    "The main method for carrying out functions, is the .apply method:\n",
    "\n",
    "viewobj.apply(function, args, kwargs)"
   ]
  },
  {
   "cell_type": "code",
   "execution_count": 29,
   "metadata": {
    "collapsed": false
   },
   "outputs": [
    {
     "data": {
      "text/plain": [
       "<AsyncResult: myfunc>"
      ]
     },
     "execution_count": 29,
     "metadata": {},
     "output_type": "execute_result"
    }
   ],
   "source": [
    "def myfunc(a,b):\n",
    "    return a + b\n",
    "\n",
    "y = ourdview.apply(myfunc, a = [1,2,3,4], b = [1,2,3,4])\n",
    "y"
   ]
  },
  {
   "cell_type": "code",
   "execution_count": 30,
   "metadata": {
    "collapsed": false
   },
   "outputs": [
    {
     "data": {
      "text/plain": [
       "[[1, 2, 3, 4, 1, 2, 3, 4],\n",
       " [1, 2, 3, 4, 1, 2, 3, 4],\n",
       " [1, 2, 3, 4, 1, 2, 3, 4],\n",
       " [1, 2, 3, 4, 1, 2, 3, 4]]"
      ]
     },
     "execution_count": 30,
     "metadata": {},
     "output_type": "execute_result"
    }
   ],
   "source": [
    "list(y)"
   ]
  },
  {
   "cell_type": "markdown",
   "metadata": {},
   "source": [
    "We can push our variables to the remote sessions:"
   ]
  },
  {
   "cell_type": "code",
   "execution_count": 41,
   "metadata": {
    "collapsed": false
   },
   "outputs": [
    {
     "data": {
      "text/plain": [
       "<AsyncResult: _push>"
      ]
     },
     "execution_count": 41,
     "metadata": {},
     "output_type": "execute_result"
    }
   ],
   "source": [
    "ourdview.push(dict( a = [1,2,3,4], b = [1,2,3,4]))"
   ]
  },
  {
   "cell_type": "code",
   "execution_count": 35,
   "metadata": {
    "collapsed": false
   },
   "outputs": [
    {
     "data": {
      "text/plain": [
       "[[1, 2, 3, 4], [1, 2, 3, 4], [1, 2, 3, 4], [1, 2, 3, 4]]"
      ]
     },
     "execution_count": 35,
     "metadata": {},
     "output_type": "execute_result"
    }
   ],
   "source": [
    "list(ourdview.pull('a'))"
   ]
  },
  {
   "cell_type": "code",
   "execution_count": 42,
   "metadata": {
    "collapsed": false
   },
   "outputs": [
    {
     "data": {
      "text/plain": [
       "[[1, 2, 3, 4, 1, 2, 3, 4, 1],\n",
       " [1, 2, 3, 4, 1, 2, 3, 4, 1],\n",
       " [1, 2, 3, 4, 1, 2, 3, 4, 1],\n",
       " [1, 2, 3, 4, 1, 2, 3, 4, 1]]"
      ]
     },
     "execution_count": 42,
     "metadata": {},
     "output_type": "execute_result"
    }
   ],
   "source": [
    "list(ourdview.apply(lambda x: a + b + x, x = [1]))"
   ]
  },
  {
   "cell_type": "markdown",
   "metadata": {
    "collapsed": false
   },
   "source": [
    "That's the very basic introduction to parallel processing in python - [read the documentation](https://ipyparallel.readthedocs.org/en/latest/index.html#) and use google to figure out how to speed up your own code.\n",
    "\n",
    "If you are using scikit learn, to use parallel computation, we can use the [joblib library](https://pythonhosted.org/joblib/), or use [ipython as noted above](http://nbviewer.jupyter.org/gist/ogrisel/5115540/Model%20Selection%20for%20the%20Nystroem%20Method.ipynb). "
   ]
  },
  {
   "cell_type": "markdown",
   "metadata": {},
   "source": [
    "### Version Control\n",
    "\n",
    "Every piece of code should be under version control!!\n",
    "\n",
    "It seems that there is no company wide version control system set up - so let's use git. We could also use SVN or mecurial.\n",
    "\n",
    "Version control allows us to track changes on our code. By making a series of commits, we can see the changes we made, who made them, and roll them back if necessary.\n",
    "\n",
    "Install git from [here](https://git-scm.com/downloads).\n",
    "\n",
    "Let's play around a small amount as an introduction - you will want to learn a lot more before git is useful for you!\n",
    "\n",
    "```\n",
    "mkdir gittest\n",
    "cd gittest\n",
    "dir\n",
    "```\n",
    "\n",
    "Now we initialise a git repository:\n",
    "\n",
    "```\n",
    "git init\n",
    "dir\n",
    "```\n",
    "\n",
    "Turns out it's a hidden folder:\n",
    "\n",
    "```\n",
    "dir /a\n",
    "```\n",
    "\n",
    "We can get status using git status:\n",
    "```\n",
    "git status\n",
    "```\n",
    "\n",
    "Ok, so let's get coding:"
   ]
  },
  {
   "cell_type": "code",
   "execution_count": 11,
   "metadata": {
    "collapsed": true
   },
   "outputs": [],
   "source": [
    "def fibo(x):\n",
    "    if x < 3:\n",
    "        return 1\n",
    "    a,b,counter = 1,2,3\n",
    "    while counter < x:\n",
    "        a,b,counter = b,a+b,counter+1\n",
    "    return(b)\n",
    "#saved as fibo.py"
   ]
  },
  {
   "cell_type": "markdown",
   "metadata": {},
   "source": [
    "Now run git status:\n",
    "\n",
    "```\n",
    "git status\n",
    "```\n",
    "\n",
    "we can see that we have an untracked file!\n",
    "\n",
    "```\n",
    "git add fibo.py\n",
    "#or git add --all\n",
    "git status\n",
    "```\n",
    "\n",
    "Now we commit the change!\n",
    "\n",
    "```\n",
    "git commit -m \"initial commit of fibo.py\"\n",
    "git status\n",
    "```\n",
    "\n",
    "We can see the history using git log:\n",
    "\n",
    "```\n",
    "git log\n",
    "```\n",
    "\n",
    "Now let's fix our function!"
   ]
  },
  {
   "cell_type": "code",
   "execution_count": 13,
   "metadata": {
    "collapsed": true
   },
   "outputs": [],
   "source": [
    "def fibo(x):\n",
    "    '''\n",
    "    fixed version!\n",
    "    '''\n",
    "    if x < 1:\n",
    "        if x < 0:\n",
    "            raise ValueError()\n",
    "        else:\n",
    "            return(0)\n",
    "    if x < 3:\n",
    "        return 1\n",
    "    a,b,counter = 1,2,3\n",
    "    while counter < x:\n",
    "        a,b,counter = b,a+b,counter+1\n",
    "    return(b)\n",
    "#saved as fibo.py"
   ]
  },
  {
   "cell_type": "markdown",
   "metadata": {},
   "source": [
    "again git status allows us to see we have changes.\n",
    "\n",
    "git diff allows us to see what they are:\n",
    "```\n",
    "git diff\n",
    "```\n",
    "\n",
    "we can then add and commit the changes:\n",
    "\n",
    "```\n",
    "git add --all\n",
    "git commit -m \"passes tests, docstring\"\n",
    "git log\n",
    "```\n",
    "\n",
    "Now if we accidently delete our file, we can restore it:\n",
    "\n",
    "```\n",
    "git checkout head fibo.py\n",
    "```\n",
    "\n",
    "or if our changes are no good, we can revert:\n",
    "\n",
    "```\n",
    "git checkout head~1 fibo.py\n",
    "```\n",
    "\n",
    "git is not github! Github is a website built on remote hosting of git repositories. You probably can't use it for work code, but it is useful to see how it works.\n",
    "\n",
    "We can clone down from github:\n",
    "\n",
    "```\n",
    "cd ..\n",
    "git clone https://github.com/jeremycg/pythoncourse\n",
    "cd pythoncourse\n",
    "git log\n",
    "#you probably want the raw branch:\n",
    "git checkout raw\n",
    "```\n",
    "\n",
    "For more information on git, see the online course at Software Carpentry - http://swcarpentry.github.io/git-novice/ and at codeschool : https://try.github.io/\n"
   ]
  }
 ],
 "metadata": {
  "kernelspec": {
   "display_name": "Python 3",
   "language": "python",
   "name": "python3"
  },
  "language_info": {
   "codemirror_mode": {
    "name": "ipython",
    "version": 3
   },
   "file_extension": ".py",
   "mimetype": "text/x-python",
   "name": "python",
   "nbconvert_exporter": "python",
   "pygments_lexer": "ipython3",
   "version": "3.5.1"
  }
 },
 "nbformat": 4,
 "nbformat_minor": 0
}
