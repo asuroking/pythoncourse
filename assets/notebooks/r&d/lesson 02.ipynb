{
 "cells": [
  {
   "cell_type": "markdown",
   "metadata": {},
   "source": [
    "## Lesson 02 - Classes and Modules\n",
    "\n",
    "Welcome to lesson 02 or 3 - You are nearly Python programmers, from which point we can jump into the data science and stats extensions to Python.\n",
    "\n",
    "Again, please download this notebook from : [here](/pythoncourse/assets/notebooks/r&d/lesson 02.ipynb).\n",
    "\n",
    "Today we will cover object orientated programming, the way we represent everything in Python. Then we will finish with modules, how to import and write extensions to base Python. After this we are more or less done with base Python - you are ready to jump into the data science stack.\n",
    "\n",
    "### Object Orientated Programming\n",
    "\n",
    "OOP is a paradigm in programming. Python is OO, SQL is declarative, R is functional. \n",
    "\n",
    "When we use OOP, we talk about Classes which are types of things and Objects, which are instances of classes, rather than being limited to built in data types. \n",
    "\n",
    "A helpful metaphor is to think of Pac-Man: The Ghosts all belong to the Ghost class, whereas each individual ghost (inky, blinky, pinky and clyde) are objects - instances of the ghost type, with their own behaviour. They can vary in their attributes (colour, speed, eatability, behaviour...). OOP allows us to take a more 'object orientated' approach - we can talk about the ghosts behaving in an easy to understand manner!\n",
    "\n",
    "By it's nature, OOP doesnt play nicely with tabular databases. Depending on our classes and implementations, SQL is not a good match - we can use noSQL or ODB, or use a more tabular friendly class.\n",
    "\n",
    "So far, everything we have seen in Python is a Class (lists, strings, dicts, etc etc.). One of the great flexibilities in Python is an ability to make our own Classes.\n",
    "\n",
    "### Classes\n",
    "\n",
    "Recall we have methods, which are specific to certain data types:"
   ]
  },
  {
   "cell_type": "code",
   "execution_count": 1,
   "metadata": {
    "collapsed": false
   },
   "outputs": [
    {
     "name": "stdout",
     "output_type": "stream",
     "text": [
      "<class 'list'>\n",
      "3\n",
      "<class 'str'>\n"
     ]
    },
    {
     "ename": "AttributeError",
     "evalue": "'str' object has no attribute 'pop'",
     "output_type": "error",
     "traceback": [
      "\u001b[1;31m---------------------------------------------------------------------------\u001b[0m",
      "\u001b[1;31mAttributeError\u001b[0m                            Traceback (most recent call last)",
      "\u001b[1;32m<ipython-input-1-ada37cb1e2ab>\u001b[0m in \u001b[0;36m<module>\u001b[1;34m()\u001b[0m\n\u001b[0;32m      4\u001b[0m \u001b[0ms\u001b[0m \u001b[1;33m=\u001b[0m \u001b[1;34m'abc'\u001b[0m\u001b[1;33m\u001b[0m\u001b[0m\n\u001b[0;32m      5\u001b[0m \u001b[0mprint\u001b[0m\u001b[1;33m(\u001b[0m\u001b[0mtype\u001b[0m\u001b[1;33m(\u001b[0m\u001b[0ms\u001b[0m\u001b[1;33m)\u001b[0m\u001b[1;33m)\u001b[0m\u001b[1;33m\u001b[0m\u001b[0m\n\u001b[1;32m----> 6\u001b[1;33m \u001b[0mprint\u001b[0m\u001b[1;33m(\u001b[0m\u001b[0ms\u001b[0m\u001b[1;33m.\u001b[0m\u001b[0mpop\u001b[0m\u001b[1;33m(\u001b[0m\u001b[1;33m)\u001b[0m\u001b[1;33m)\u001b[0m\u001b[1;33m\u001b[0m\u001b[0m\n\u001b[0m",
      "\u001b[1;31mAttributeError\u001b[0m: 'str' object has no attribute 'pop'"
     ]
    }
   ],
   "source": [
    "l = [1,2,3]\n",
    "print(type(l))\n",
    "print(l.pop())\n",
    "s = 'abc'\n",
    "print(type(s))\n",
    "print(s.pop())"
   ]
  },
  {
   "cell_type": "markdown",
   "metadata": {},
   "source": [
    "How is this implemented? Python has a Class called list, and a Class called string. Inside these classes, we have built in functions that only work on objects of that class.\n",
    "\n",
    "Let's start by defining our own (basic and for now empty) class, Customer (convention says to use a capital):"
   ]
  },
  {
   "cell_type": "code",
   "execution_count": 6,
   "metadata": {
    "collapsed": true
   },
   "outputs": [],
   "source": [
    "class Customer:\n",
    "    pass"
   ]
  },
  {
   "cell_type": "code",
   "execution_count": 7,
   "metadata": {
    "collapsed": false
   },
   "outputs": [
    {
     "name": "stdout",
     "output_type": "stream",
     "text": [
      "<class '__main__.Customer'>\n"
     ]
    }
   ],
   "source": [
    "x = Customer()\n",
    "print(type(x))"
   ]
  },
  {
   "cell_type": "markdown",
   "metadata": {},
   "source": [
    "We will talk about the \\_\\_main\\_\\_ part in the seond half of the lesson, but for now we can see we just made a new data type! Technically, we made a new class, Customer, and a new instance, x.\n",
    "\n",
    "How can we make it useful? We can add attributes. Attributes can take any value, we can imagine them as 'slots' available in an object:"
   ]
  },
  {
   "cell_type": "code",
   "execution_count": 8,
   "metadata": {
    "collapsed": false
   },
   "outputs": [
    {
     "name": "stdout",
     "output_type": "stream",
     "text": [
      "Help on Customer in module __main__ object:\n",
      "\n",
      "class Customer(builtins.object)\n",
      " |  classes have docstrings too!\n",
      " |  \n",
      " |  Data descriptors defined here:\n",
      " |  \n",
      " |  __dict__\n",
      " |      dictionary for instance variables (if defined)\n",
      " |  \n",
      " |  __weakref__\n",
      " |      list of weak references to the object (if defined)\n",
      " |  \n",
      " |  ----------------------------------------------------------------------\n",
      " |  Data and other attributes defined here:\n",
      " |  \n",
      " |  type = 'buyer'\n",
      "\n",
      "buyer\n",
      "spam\n"
     ]
    }
   ],
   "source": [
    "class Customer: #no need for (object) like in python 2\n",
    "    '''\n",
    "    classes have docstrings too!\n",
    "    '''\n",
    "    type = 'buyer' #don't use a list!\n",
    "\n",
    "x = Customer()\n",
    "help(x)\n",
    "print(x.type)\n",
    "#we can add outside, if we really want:\n",
    "x.foo = 'spam'\n",
    "print(x.foo)"
   ]
  },
  {
   "cell_type": "markdown",
   "metadata": {},
   "source": [
    "Once we have an attribute, we can access it using x.attribute. \n",
    "\n",
    "However, a hard coded attribute is not super useful: So we can use functions as attributes (to make methods).\n",
    "This explains why we need to use the () on methods - they are functions, but not on other attributes.\n",
    "\n",
    "The most important method, is a special method, called \\_\\_init\\_\\_:"
   ]
  },
  {
   "cell_type": "code",
   "execution_count": 9,
   "metadata": {
    "collapsed": false
   },
   "outputs": [
    {
     "data": {
      "text/plain": [
       "'ACME co.'"
      ]
     },
     "execution_count": 9,
     "metadata": {},
     "output_type": "execute_result"
    }
   ],
   "source": [
    "class Customer:\n",
    "    type = 'buyer'\n",
    "    def __init__(self, customerid, status):\n",
    "        self.custid = customerid\n",
    "        self.status = status\n",
    "        \n",
    "x = Customer('ACME co.', 'bankrupt')\n",
    "x.custid"
   ]
  },
  {
   "cell_type": "markdown",
   "metadata": {},
   "source": [
    "\\_\\_init\\_\\_ is the function called when we create a new object of our class.\n",
    "\n",
    "We can add on as many attributes as we like, and use \\*, \\*\\*, default values as required. This works just like other functions (the scope is local to the object - the class works like an enclosing function).\n",
    "\n",
    "Functions always have the object itself as tghe first argument. It is convention to write 'self' first, but Python will use whatever you put first - so be careful to include it."
   ]
  },
  {
   "cell_type": "code",
   "execution_count": 10,
   "metadata": {
    "collapsed": false
   },
   "outputs": [
    {
     "name": "stdout",
     "output_type": "stream",
     "text": [
      "{1: ['toothpaste', 'bananas', 'oranges']}\n",
      "['toothpaste', 'bananas', 'oranges']\n"
     ]
    }
   ],
   "source": [
    "class Customer:\n",
    "    type = 'buyer'\n",
    "    def __init__(self, customerid, status, address = None):\n",
    "        self.custid = customerid\n",
    "        self.status = status\n",
    "        self.transactions = {}\n",
    "        self.address = address\n",
    "        \n",
    "    def addtrans(self, transaction):\n",
    "        self.transactions.update(transaction)\n",
    "\n",
    "x = Customer('ACME co.', 'current')\n",
    "x.addtrans({1: [\"toothpaste\", \"bananas\", \"oranges\"]})\n",
    "print(x.transactions)\n",
    "print(x.transactions[1])"
   ]
  },
  {
   "cell_type": "markdown",
   "metadata": {},
   "source": [
    "We can use Classes inside other classes.\n",
    "\n",
    "Let's create a basket class:"
   ]
  },
  {
   "cell_type": "code",
   "execution_count": 11,
   "metadata": {
    "collapsed": false
   },
   "outputs": [
    {
     "data": {
      "text/plain": [
       "29.91"
      ]
     },
     "execution_count": 11,
     "metadata": {},
     "output_type": "execute_result"
    }
   ],
   "source": [
    "class basket:\n",
    "    def __init__(self, items, quantities, costs):\n",
    "        self.items = items\n",
    "        self.quantities = quantities\n",
    "        self.costs = costs\n",
    "    def basketprice(self):\n",
    "        return round(sum([x*y for x,y in zip(self.quantities, self.costs)]),2)\n",
    "\n",
    "x = basket([\"toothpaste\", \"bananas\", \"oranges\"], [3,4,5], [1.5, 1.99, 3.49])\n",
    "x.basketprice()"
   ]
  },
  {
   "cell_type": "markdown",
   "metadata": {},
   "source": [
    "Now we can add this into our Customer objects:"
   ]
  },
  {
   "cell_type": "code",
   "execution_count": 12,
   "metadata": {
    "collapsed": false,
    "scrolled": true
   },
   "outputs": [
    {
     "name": "stdout",
     "output_type": "stream",
     "text": [
      "{1: <__main__.basket object at 0x7f03981975c0>}\n",
      "29.91\n"
     ]
    }
   ],
   "source": [
    "x = Customer('ACME co.', 'current')\n",
    "x.addtrans({1: basket([\"toothpaste\", \"bananas\", \"oranges\"], [3,4,5], [1.5, 1.99, 3.49])})\n",
    "print(x.transactions)\n",
    "print(x.transactions[1].basketprice())"
   ]
  },
  {
   "cell_type": "markdown",
   "metadata": {},
   "source": [
    "We can continue on adding and adding to our classes. Here is one last function - what is it doing?"
   ]
  },
  {
   "cell_type": "code",
   "execution_count": 13,
   "metadata": {
    "collapsed": false
   },
   "outputs": [
    {
     "data": {
      "text/plain": [
       "65.51"
      ]
     },
     "execution_count": 13,
     "metadata": {},
     "output_type": "execute_result"
    }
   ],
   "source": [
    "class Customer:\n",
    "    type = 'buyer'\n",
    "    def __init__(self, customerid, status, address = None):\n",
    "        self.custid = customerid\n",
    "        self.status = status\n",
    "        self.transactions = {}\n",
    "        self.address = address\n",
    "        \n",
    "    def addtrans(self, transaction):\n",
    "        self.transactions.update(transaction)\n",
    "    \n",
    "    def mysteryfunction(self):\n",
    "        return sum([y.basketprice() for x,y in self.transactions.items()])\n",
    "\n",
    "x = Customer('ACME co.', 'current')\n",
    "x.addtrans({1: basket([\"toothpaste\", \"bananas\", \"oranges\"], [3,4,5], [1.5, 1.99, 3.49])})\n",
    "x.addtrans({2: basket(['apples', 'peanut butter'], [6,2], [3.27, 7.99])})\n",
    "x.mysteryfunction()"
   ]
  },
  {
   "cell_type": "markdown",
   "metadata": {},
   "source": [
    "### Special Methods\n",
    "\n",
    "There are a number of special methods we can use, as they are commonly used functions which we can run differently based on how we define them (R users may take note of how plot(lm(x~y)), or just print(lm(x~y)) work). Here are some of the more useful ones - you can find the [whole list here](https://docs.python.org/3/reference/datamodel.html)."
   ]
  },
  {
   "cell_type": "code",
   "execution_count": 14,
   "metadata": {
    "collapsed": false
   },
   "outputs": [
    {
     "name": "stdout",
     "output_type": "stream",
     "text": [
      "Customer: ACME co. Status: current Total Transactions: 3\n",
      "3\n",
      "You just deleted Customer: ACME co.\n"
     ]
    }
   ],
   "source": [
    "class Customer:\n",
    "    type = 'buyer'\n",
    "    def __init__(self, customerid, status, address = None, transactions = None):\n",
    "        self.custid = customerid\n",
    "        self.status = status\n",
    "        self.transactions = {}\n",
    "        if transactions is not None:\n",
    "            self.addtrans(transactions) #can call methods within init\n",
    "        self.address = address\n",
    "        \n",
    "    def addtrans(self, transaction):\n",
    "        self.transactions.update(transaction)\n",
    "    \n",
    "    def mysteryfunction(self):\n",
    "        return sum([y.basketprice() for x,y in self.transactions.items()])\n",
    "    \n",
    "    def __str__(self):\n",
    "        return(\"Customer: {x} Status: {y} Total Transactions: {z}\".format(x = self.custid,\n",
    "                                                                          y = self.status,\n",
    "                                                                          z = len(self.transactions)))\n",
    "    def __len__(self):\n",
    "        return(len(self.transactions))\n",
    "    \n",
    "    def __del__(self):\n",
    "        print(\"You just deleted Customer: {x}\".format(x = self.custid))\n",
    "\n",
    "x = Customer('ACME co.', 'current', transactions = {3:basket([\"dynamite\"],[1],[99.95])})\n",
    "x.addtrans({1: basket([\"toothpaste\", \"bananas\", \"oranges\"], [3,4,5], [1.5, 1.99, 3.49])})\n",
    "x.addtrans({2: basket(['apples', 'peanut butter'], [6,2], [3.27, 7.99])})\n",
    "print(x)\n",
    "print(len(x))\n",
    "del(x)"
   ]
  },
  {
   "cell_type": "markdown",
   "metadata": {},
   "source": [
    "### Inheritance\n",
    "\n",
    "We can create subclasses, which inherit from their parents.\n",
    "\n",
    "In this case, imagine we want a new class, Restuarants, which are similar to other clients, but have additional data we want to store:"
   ]
  },
  {
   "cell_type": "code",
   "execution_count": 15,
   "metadata": {
    "collapsed": false
   },
   "outputs": [
    {
     "name": "stdout",
     "output_type": "stream",
     "text": [
      "Customer: Canoe Status: open Total Transactions: 1\n",
      "Restuarant\n",
      "['fancy', 'gourmet', 'canadian']\n"
     ]
    }
   ],
   "source": [
    "class Restuarant(Customer):\n",
    "    type = 'Restuarant'\n",
    "    def __init__(self, customerid, status, tags, address = None):\n",
    "        self.custid = customerid\n",
    "        self.status = status\n",
    "        self.transactions = {}\n",
    "        self.address = address\n",
    "        self.tags = tags\n",
    "\n",
    "x = Restuarant(\"Canoe\", \"open\", [\"fancy\", \"gourmet\", \"canadian\"])\n",
    "x.addtrans({2: basket(['salmon roe', 'elder flowers'], [6,2], [3.27, 7.99])})\n",
    "print(x)\n",
    "print(x.type)\n",
    "print(x.tags)"
   ]
  },
  {
   "cell_type": "markdown",
   "metadata": {},
   "source": [
    "We can check what type x is, but also see how isinstance is a little different:"
   ]
  },
  {
   "cell_type": "code",
   "execution_count": 16,
   "metadata": {
    "collapsed": false
   },
   "outputs": [
    {
     "name": "stdout",
     "output_type": "stream",
     "text": [
      "<class '__main__.Restuarant'>\n",
      "True\n",
      "True\n"
     ]
    }
   ],
   "source": [
    "print(type(x))\n",
    "print(isinstance(x, Restuarant))\n",
    "print(isinstance(x, Customer))"
   ]
  },
  {
   "cell_type": "markdown",
   "metadata": {},
   "source": [
    "Using this behaviour, we can see some interesting stuff:"
   ]
  },
  {
   "cell_type": "code",
   "execution_count": 17,
   "metadata": {
    "collapsed": false
   },
   "outputs": [
    {
     "name": "stdout",
     "output_type": "stream",
     "text": [
      "True\n"
     ]
    }
   ],
   "source": [
    "print(isinstance(True, int))"
   ]
  },
  {
   "cell_type": "markdown",
   "metadata": {},
   "source": [
    "Huh! Turns out, when Booleans were introduced into Python, they copied the C89 implementation, which simply used 1 for True, and 0 for False. So that code didn't break, they implemented booleans as a subclass of integers and never changed it, to avoid broken code. Maybe now int(True) and int(False) make more sense.\n",
    "\n",
    "### Advanced classes\n",
    "\n",
    "Now we know that - we can inherit from built in classes, use decorators, and expand our knowedge of special methods"
   ]
  },
  {
   "cell_type": "code",
   "execution_count": 1,
   "metadata": {
    "collapsed": false
   },
   "outputs": [
    {
     "name": "stdout",
     "output_type": "stream",
     "text": [
      "removing spaces\n",
      "{}\n",
      "False\n",
      "True\n",
      "True\n"
     ]
    }
   ],
   "source": [
    "from functools import total_ordering\n",
    "\n",
    "@total_ordering\n",
    "class Mydict(dict):\n",
    "    def __new__(cls, mydict): #works before init, useful for mutable!\n",
    "        mydict1 = mydict #copy so we don't modify the initial dict\n",
    "        if ' ' in mydict1.keys():\n",
    "            print(\"removing spaces\")\n",
    "            del(mydict1[' '])\n",
    "        return dict.__new__(cls, mydict1)\n",
    "    def __eq__(self, other):\n",
    "        return len(self) == len(other)\n",
    "    def __lt__(self, other):\n",
    "        return (len(self) < len(other))\n",
    "\n",
    "print(Mydict({\" \":3}))\n",
    "print(Mydict({1:2}) > Mydict({1:2,2:3}))\n",
    "print(isinstance(Mydict({1:2}), Mydict))\n",
    "print(isinstance(Mydict({1:2}), dict))\n",
    "Mydict({1:2}).update({2:3}) #dict methods still work!"
   ]
  },
  {
   "cell_type": "markdown",
   "metadata": {},
   "source": [
    "Recall I talked about closures as objects - it turns out functions have their own special methods, including \\_\\_closure\\_\\_, which holds a tuple of the enclosing environment.\n",
    "\n",
    "\n",
    "Why would we want to use objects? For most day to day uses, we might not....\n",
    "\n",
    "But, some of the most useful Python extensions make extensive use of new object types.\n",
    "\n",
    "The most useful for us will be DataFrames in Pandas, but almost every useful Python package comes with classes. It provides a level of abstraction that is hard to beat with lists, dicts tuples and sets.\n",
    "\n",
    "\n",
    "## Modules\n",
    "\n",
    "Which moves us nicely into modules. As mentioned throughout the course, Python was built with extensibility in mind, and thus people and companies have extended it.\n",
    "\n",
    "Popular Python modules have been developed for almost anything you can think of. [PyPI](https://pypi.python.org/pypi) hold over 70,000 packages in their database and there are many more available on github and other websites. They range from webscraping (eg beautiful soup), web development (eg django, flask), game development (eg pygame), to our focus, data science.\n",
    "\n",
    "We are using Anaconda, which comes with the most popular data science modules built in, so we will cover module loading first, before moving on to installation and development.\n",
    "\n",
    "### Importing Modules\n",
    "\n",
    "Say we want to have Python generate a random number from a normal distribution. We could write our own function, but this is almost certainly already written by someone.\n",
    "\n",
    "We can google for a method - and we quickly find [this page](https://docs.python.org/3.5/library/random.html). It is the description of a whole library (aka module aka package) devoted to random number generation. Great! But how can we use the functions?"
   ]
  },
  {
   "cell_type": "code",
   "execution_count": 19,
   "metadata": {
    "collapsed": false
   },
   "outputs": [
    {
     "ename": "NameError",
     "evalue": "name 'random' is not defined",
     "output_type": "error",
     "traceback": [
      "\u001b[1;31m---------------------------------------------------------------------------\u001b[0m",
      "\u001b[1;31mNameError\u001b[0m                                 Traceback (most recent call last)",
      "\u001b[1;32m<ipython-input-19-341ba4b07659>\u001b[0m in \u001b[0;36m<module>\u001b[1;34m()\u001b[0m\n\u001b[1;32m----> 1\u001b[1;33m \u001b[0mrandom\u001b[0m\u001b[1;33m.\u001b[0m\u001b[0mnormalvariate\u001b[0m\u001b[1;33m(\u001b[0m\u001b[1;36m1\u001b[0m\u001b[1;33m,\u001b[0m \u001b[1;36m1\u001b[0m\u001b[1;33m)\u001b[0m\u001b[1;33m\u001b[0m\u001b[0m\n\u001b[0m",
      "\u001b[1;31mNameError\u001b[0m: name 'random' is not defined"
     ]
    }
   ],
   "source": [
    "random.normalvariate(1, 1)"
   ]
  },
  {
   "cell_type": "markdown",
   "metadata": {},
   "source": [
    "We have to first import the library!\n",
    "\n",
    "We can do this in multiple ways:"
   ]
  },
  {
   "cell_type": "code",
   "execution_count": 20,
   "metadata": {
    "collapsed": false
   },
   "outputs": [
    {
     "data": {
      "text/plain": [
       "0.1952982613761589"
      ]
     },
     "execution_count": 20,
     "metadata": {},
     "output_type": "execute_result"
    }
   ],
   "source": [
    "import random #we can import the whole random package\n",
    "random.normalvariate(1, 1) # we have to use random.function to call functions"
   ]
  },
  {
   "cell_type": "code",
   "execution_count": 21,
   "metadata": {
    "collapsed": false
   },
   "outputs": [
    {
     "data": {
      "text/plain": [
       "0.4454923168029481"
      ]
     },
     "execution_count": 21,
     "metadata": {},
     "output_type": "execute_result"
    }
   ],
   "source": [
    "import random as rd # we can rename the package on importation so we dont have to type it\n",
    "rd.normalvariate(1, 1) # we have to use rd.function to call functions"
   ]
  },
  {
   "cell_type": "code",
   "execution_count": 22,
   "metadata": {
    "collapsed": false
   },
   "outputs": [
    {
     "data": {
      "text/plain": [
       "0.7398876099155046"
      ]
     },
     "execution_count": 22,
     "metadata": {},
     "output_type": "execute_result"
    }
   ],
   "source": [
    "from random import normalvariate # we can import only one function\n",
    "normalvariate(1,1) #now we just use the function"
   ]
  },
  {
   "cell_type": "code",
   "execution_count": 23,
   "metadata": {
    "collapsed": false
   },
   "outputs": [
    {
     "data": {
      "text/plain": [
       "-0.07930331195414042"
      ]
     },
     "execution_count": 23,
     "metadata": {},
     "output_type": "execute_result"
    }
   ],
   "source": [
    "from random import * #if the package supports it, we can import everythin (not recommended!)\n",
    "normalvariate(1,1) #now we can use any function"
   ]
  },
  {
   "cell_type": "markdown",
   "metadata": {},
   "source": [
    "We can import multiple packages and functions at once using tuples (without brackets too):"
   ]
  },
  {
   "cell_type": "code",
   "execution_count": 24,
   "metadata": {
    "collapsed": true
   },
   "outputs": [],
   "source": [
    "from random import normalvariate, gauss"
   ]
  },
  {
   "cell_type": "code",
   "execution_count": 25,
   "metadata": {
    "collapsed": true
   },
   "outputs": [],
   "source": [
    "import random, sys"
   ]
  },
  {
   "cell_type": "markdown",
   "metadata": {},
   "source": [
    "The exact imports depend on your need. If you can, only import one or two functions to keep the namespace clean. Some packages have their own idiomatice import names - pandas is almost always import as pd, seaborn as sns. You will pick these up by reading other peoples code online.\n",
    "\n",
    "By convention, modules are imported at the top of a script or notebook - this helps to let people know what the dependencies are."
   ]
  },
  {
   "cell_type": "markdown",
   "metadata": {},
   "source": [
    "### Installing Packages\n",
    "\n",
    "Sometimes the package you would like does not come installed on the system. In this case you can install it either using conda, or pip.\n",
    "\n",
    "As we are using Anaconda, we will use the conda installer first, and pip as a backup. Noth are equivalent, the conda version will work a little nicer with our existing set up. Briefly, conda includes a virtual env, while pip does not.\n",
    "\n",
    "Conda and pip work at the command line, not in Python. Linux users will be familiar with yum or apt-get - these are similar repositories. R users will know CRAN - again a similar idea, but CRAN is much more pciky about what can be hosted. Think of pip and PyPI as an uncurated CRAN - install packages at your own risk.\n",
    "\n",
    "Conda syntax is:\n",
    "\n",
    "`conda update conda` to update conda (or other packages)\n",
    "\n",
    "`conda install seaborn` to install (in this case seaborn)\n",
    "\n",
    "At which point you will be asked some questions, and prompted to install or upgrade.\n",
    "\n",
    "pip stands for pip installs packages, and has become the default Python module/library/package repo.\n",
    "\n",
    "Pip syntax is:\n",
    "\n",
    "`pip install --upgrade pip` to update pip (or other packages)\n",
    "\n",
    "`pip install seaborn` to install\n",
    "\n",
    "\n",
    "### Making our own modules\n",
    "\n",
    "Making our Python scripts into modules is the easiest way to have scripts work with each other. Let's write a script and save it as example.py:"
   ]
  },
  {
   "cell_type": "code",
   "execution_count": 26,
   "metadata": {
    "collapsed": false
   },
   "outputs": [
    {
     "name": "stdout",
     "output_type": "stream",
     "text": [
      "-f/run/user/1000/jupyter/kernel-393275c7-f9da-4664-9b41-58323359f987.json\n"
     ]
    }
   ],
   "source": [
    "import sys\n",
    "\n",
    "def myfun(a,b):\n",
    "    return(a + b)\n",
    "\n",
    "a = myfun(sys.argv[1], sys.argv[2])\n",
    "print(a)"
   ]
  },
  {
   "cell_type": "markdown",
   "metadata": {},
   "source": [
    "We can save it in a lot of locations - Python looks in the directory we are currently in, and the system path for python. We can find the system path, using the system module, sys. We search in order from the first dir to the last."
   ]
  },
  {
   "cell_type": "code",
   "execution_count": 27,
   "metadata": {
    "collapsed": false
   },
   "outputs": [
    {
     "name": "stdout",
     "output_type": "stream",
     "text": [
      "['', '/home/jeremy/anaconda3/lib/python35.zip', '/home/jeremy/anaconda3/lib/python3.5', '/home/jeremy/anaconda3/lib/python3.5/plat-linux', '/home/jeremy/anaconda3/lib/python3.5/lib-dynload', '/home/jeremy/anaconda3/lib/python3.5/site-packages/Sphinx-1.3.1-py3.5.egg', '/home/jeremy/anaconda3/lib/python3.5/site-packages/setuptools-18.5-py3.5.egg', '/home/jeremy/anaconda3/lib/python3.5/site-packages', '/home/jeremy/anaconda3/lib/python3.5/site-packages/cryptography-1.0.2-py3.5-linux-x86_64.egg', '/home/jeremy/anaconda3/lib/python3.5/site-packages/IPython/extensions', '/home/jeremy/.ipython']\n"
     ]
    }
   ],
   "source": [
    "import sys\n",
    "print(sys.path)"
   ]
  },
  {
   "cell_type": "markdown",
   "metadata": {},
   "source": [
    "we can run from the command line, or use %run to run our script:"
   ]
  },
  {
   "cell_type": "code",
   "execution_count": 28,
   "metadata": {
    "collapsed": false
   },
   "outputs": [
    {
     "name": "stdout",
     "output_type": "stream",
     "text": [
      "12\n"
     ]
    }
   ],
   "source": [
    "%run '/home/jeremy/.ipython/example.py' 1 2"
   ]
  },
  {
   "cell_type": "markdown",
   "metadata": {},
   "source": [
    "Ouch - everything gets passed in as strings from sys.argv. Can you remember how to fix this?\n",
    "\n",
    "What if we don't want to run it, but to have access to the function?\n",
    "\n",
    "We can import!"
   ]
  },
  {
   "cell_type": "code",
   "execution_count": 29,
   "metadata": {
    "collapsed": false
   },
   "outputs": [
    {
     "name": "stdout",
     "output_type": "stream",
     "text": [
      "-f/run/user/1000/jupyter/kernel-393275c7-f9da-4664-9b41-58323359f987.json\n"
     ]
    }
   ],
   "source": [
    "import example"
   ]
  },
  {
   "cell_type": "code",
   "execution_count": 30,
   "metadata": {
    "collapsed": false
   },
   "outputs": [
    {
     "name": "stdout",
     "output_type": "stream",
     "text": [
      "3\n",
      "-f/run/user/1000/jupyter/kernel-393275c7-f9da-4664-9b41-58323359f987.json\n"
     ]
    }
   ],
   "source": [
    "print(example.myfun(1,2))\n",
    "print(example.a)"
   ]
  },
  {
   "cell_type": "markdown",
   "metadata": {},
   "source": [
    "We can see that the code in our function was executed when we imported, which we might not want.\n",
    "\n",
    "To fix this we can use a couple of tricks.\n",
    "\n",
    "When we work in Python, the global environment is stored as a massive dict, with items as the values, and their names as keys:"
   ]
  },
  {
   "cell_type": "code",
   "execution_count": 31,
   "metadata": {
    "collapsed": false
   },
   "outputs": [
    {
     "name": "stdout",
     "output_type": "stream",
     "text": [
      "dict_keys(['_i19', '_i22', '_i15', 'expovariate', 'total_ordering', '_i', 'basket', '__builtins__', 'y', 'shuffle', 'gammavariate', 'triangular', 'SystemRandom', 'random', '_i11', '_i10', '_i20', 'randrange', '__doc__', '_i21', '_i16', '__builtin__', '_22', 'getstate', '_i14', '__package__', 'betavariate', '_', '_sh', 'Random', '_i25', 'setstate', 'x', '_i5', 'seed', 'get_ipython', 'rd', 'l', 'Mystr', '_i6', '_i27', '_i1', '_20', '_iii', 'paretovariate', 'example', 'sample', 'exit', 'Out', '_i7', '_dh', 'myfun', '_i26', '_i28', 'In', '_9', '_ii', '___', 's', '_i8', 'choice', '_i2', '_23', 'weibullvariate', '_ih', '_i18', '_11', 'uniform', '_i30', '_i12', 'quit', '__spec__', 'normalvariate', '_i3', 'randint', 'Customer', '_13', 'sys', 'getrandbits', 'gauss', '_i23', '_i17', '__loader__', '_oh', '_i24', 'lognormvariate', '_i9', '__name__', 'Restuarant', '__nonzero__', '_i31', '_i29', '_i4', 'a', '_21', '_i13', 'vonmisesvariate', '__'])\n"
     ]
    }
   ],
   "source": [
    "print(globals().keys())"
   ]
  },
  {
   "cell_type": "markdown",
   "metadata": {},
   "source": [
    "You can see random, and example in there. Where is our main script?\n",
    "\n",
    "It is called \\_\\_main\\_\\_. Using this knowledge, we can edit our scipt, to only run if name is \\_\\_main\\_\\_:"
   ]
  },
  {
   "cell_type": "code",
   "execution_count": 32,
   "metadata": {
    "collapsed": false
   },
   "outputs": [
    {
     "name": "stdout",
     "output_type": "stream",
     "text": [
      "-f/run/user/1000/jupyter/kernel-393275c7-f9da-4664-9b41-58323359f987.json\n"
     ]
    }
   ],
   "source": [
    "import sys\n",
    "\n",
    "def myfun(a,b):\n",
    "    return(a + b)\n",
    "\n",
    "if __name__ == \"__main__\":\n",
    "    a = myfun(sys.argv[1], sys.argv[2])\n",
    "    print(a)"
   ]
  },
  {
   "cell_type": "code",
   "execution_count": 33,
   "metadata": {
    "collapsed": false
   },
   "outputs": [
    {
     "name": "stdout",
     "output_type": "stream",
     "text": [
      "12\n"
     ]
    }
   ],
   "source": [
    "%run '/home/jeremy/.ipython/example2.py' 1 2"
   ]
  },
  {
   "cell_type": "markdown",
   "metadata": {},
   "source": [
    "But importing no longer causes execution:"
   ]
  },
  {
   "cell_type": "code",
   "execution_count": 34,
   "metadata": {
    "collapsed": true
   },
   "outputs": [],
   "source": [
    "import example2"
   ]
  },
  {
   "cell_type": "markdown",
   "metadata": {},
   "source": [
    "More on script layout, module organisation and scoping in lesson 6, but for now, know that checking for name is the standard way of creating modules which can both be run, and imported. \n",
    "\n",
    "## Summary\n",
    "\n",
    "You now know basic python data types, statements, functions, classes and modules. We will now move onto the application of this knowledge to data science. If you'd like, this is a great steppign stone to start learnign Python web development, game development, app development etc etc too.\n",
    "\n",
    "We now have to test you! The test is a formative assesment - I'm more interested in how well you are learning than giving a grade. To these ends, please treat it as open book (and open internet). Google, stackoverflow, and the official Python docs are all useful and usable. Please though, do not give answers to your colleagues - we want to know where everyone is up to."
   ]
  },
  {
   "cell_type": "markdown",
   "metadata": {},
   "source": [
    "## Exercises\n",
    "\n",
    "* Create a class, Circle, that has a radius attribute given to it in \\_\\_init\\_\\_\n",
    "\n",
    "* Modify this class to have an attribute, pi = 3.14\n",
    "\n",
    "* Add methods to Circle to calculate diameter, area and cicumference\n",
    "\n",
    "* Find a Python module which has pi, import it and use pi instead of 3.14\n",
    "\n",
    "* Create a new class, Triangle, which has 3 lines lengths, atob, btoc and ctoa\n",
    "\n",
    "* Create a subclass that inherits from triangle, RightTriangle, that uses \\_\\_new\\_\\_ to ensure the triangle is right angled (you might need to use google to figure out the test)\n",
    "\n",
    "* Give RightTriangle methods for finding the angles at a, b and c. You will need to import an external library with trig functions.\n",
    "\n",
    "* Add a method to calculate the area of the RightTriangle"
   ]
  }
 ],
 "metadata": {
  "kernelspec": {
   "display_name": "Python 3",
   "language": "python",
   "name": "python3"
  },
  "language_info": {
   "codemirror_mode": {
    "name": "ipython",
    "version": 3
   },
   "file_extension": ".py",
   "mimetype": "text/x-python",
   "name": "python",
   "nbconvert_exporter": "python",
   "pygments_lexer": "ipython3",
   "version": "3.5.1"
  }
 },
 "nbformat": 4,
 "nbformat_minor": 0
}
