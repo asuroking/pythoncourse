{
 "cells": [
  {
   "cell_type": "markdown",
   "metadata": {},
   "source": [
    "## Lesson 09 - Workflow and working on the Server\n",
    "\n",
    "Welcome to lesson 10. Today we will cover the basics of working on the server - reading in data, managing packages in a virtual environment, connecting to and running queries with SQL, unit testing, and a brief introduction to version control.   \n",
    "\n",
    "Firstly however, we will learn a little more about generators\n",
    "\n",
    "### Iterables and Generators\n",
    "\n",
    "Let's go back to when we introduced zip:"
   ]
  },
  {
   "cell_type": "code",
   "execution_count": 59,
   "metadata": {
    "collapsed": false
   },
   "outputs": [
    {
     "name": "stdout",
     "output_type": "stream",
     "text": [
      "[(1, 4), (2, 5), (3, 6)]\n",
      "[]\n"
     ]
    }
   ],
   "source": [
    "#taken from comments on the site\n",
    "l=[1,2,3]\n",
    "k=[4,5,6]\n",
    "a=zip(l,k)\n",
    "print(list(a))\n",
    "print(list(a))"
   ]
  },
  {
   "cell_type": "markdown",
   "metadata": {},
   "source": [
    "Huh, why did't the second one work?\n",
    "\n",
    "It turns out, many of the maps, zips etc in python 3 are implemented as iterators. These objects allow us to generate a single part at each step, without storing it all in memory (these are based on range, but work a little differently)."
   ]
  },
  {
   "cell_type": "code",
   "execution_count": 2,
   "metadata": {
    "collapsed": false
   },
   "outputs": [
    {
     "name": "stdout",
     "output_type": "stream",
     "text": [
      "(1, 4)\n",
      "(2, 5)\n",
      "(3, 6)\n",
      "[]\n"
     ]
    }
   ],
   "source": [
    "a = zip(l,k)\n",
    "print(next(a))\n",
    "print(next(a))\n",
    "print(next(a))\n",
    "print(list(a))"
   ]
  },
  {
   "cell_type": "markdown",
   "metadata": {},
   "source": [
    "We can iterate over any iterable in a for loop:"
   ]
  },
  {
   "cell_type": "code",
   "execution_count": 4,
   "metadata": {
    "collapsed": false
   },
   "outputs": [
    {
     "name": "stdout",
     "output_type": "stream",
     "text": [
      "1\n",
      "2\n",
      "3\n"
     ]
    }
   ],
   "source": [
    "for i in l:\n",
    "    print(i)"
   ]
  },
  {
   "cell_type": "markdown",
   "metadata": {},
   "source": [
    "But to explicitly make it an iterator, we use the iter() function:"
   ]
  },
  {
   "cell_type": "code",
   "execution_count": 7,
   "metadata": {
    "collapsed": false
   },
   "outputs": [
    {
     "name": "stdout",
     "output_type": "stream",
     "text": [
      "1\n",
      "2\n",
      "3\n"
     ]
    },
    {
     "ename": "StopIteration",
     "evalue": "",
     "output_type": "error",
     "traceback": [
      "\u001b[1;31m---------------------------------------------------------------------------\u001b[0m",
      "\u001b[1;31mStopIteration\u001b[0m                             Traceback (most recent call last)",
      "\u001b[1;32m<ipython-input-7-31e9e4b4925c>\u001b[0m in \u001b[0;36m<module>\u001b[1;34m()\u001b[0m\n\u001b[0;32m      3\u001b[0m \u001b[0mprint\u001b[0m\u001b[1;33m(\u001b[0m\u001b[0mnext\u001b[0m\u001b[1;33m(\u001b[0m\u001b[0mj\u001b[0m\u001b[1;33m)\u001b[0m\u001b[1;33m)\u001b[0m\u001b[1;33m\u001b[0m\u001b[0m\n\u001b[0;32m      4\u001b[0m \u001b[0mprint\u001b[0m\u001b[1;33m(\u001b[0m\u001b[0mnext\u001b[0m\u001b[1;33m(\u001b[0m\u001b[0mj\u001b[0m\u001b[1;33m)\u001b[0m\u001b[1;33m)\u001b[0m\u001b[1;33m\u001b[0m\u001b[0m\n\u001b[1;32m----> 5\u001b[1;33m \u001b[0mprint\u001b[0m\u001b[1;33m(\u001b[0m\u001b[0mnext\u001b[0m\u001b[1;33m(\u001b[0m\u001b[0mj\u001b[0m\u001b[1;33m)\u001b[0m\u001b[1;33m)\u001b[0m\u001b[1;33m\u001b[0m\u001b[0m\n\u001b[0m",
      "\u001b[1;31mStopIteration\u001b[0m: "
     ]
    }
   ],
   "source": [
    "j = iter(l)\n",
    "print(next(j))\n",
    "print(next(j))\n",
    "print(next(j))\n",
    "print(next(j))\n"
   ]
  },
  {
   "cell_type": "markdown",
   "metadata": {},
   "source": [
    "Turning a preexisitng object into an iterator is not very useful however, as we already have it in memory.\n",
    "If we want to create a function to make our output, we can use a generator function\n",
    "Generator functuions work very similar to standard functions, but use the yield keyword, rather than return:"
   ]
  },
  {
   "cell_type": "code",
   "execution_count": 9,
   "metadata": {
    "collapsed": false
   },
   "outputs": [
    {
     "name": "stdout",
     "output_type": "stream",
     "text": [
      "<generator object mygen at 0x00000167659A1FC0>\n",
      "10\n",
      "11\n"
     ]
    }
   ],
   "source": [
    "def mygen(n):\n",
    "    yield n\n",
    "    yield n + 1\n",
    "    \n",
    "g = mygen(10)\n",
    "print(g)\n",
    "print(next(g))\n",
    "print(next(g))"
   ]
  },
  {
   "cell_type": "markdown",
   "metadata": {},
   "source": [
    "Or, a fibonacci implementation:"
   ]
  },
  {
   "cell_type": "code",
   "execution_count": 10,
   "metadata": {
    "collapsed": false
   },
   "outputs": [
    {
     "name": "stdout",
     "output_type": "stream",
     "text": [
      "1\n",
      "1\n",
      "2\n",
      "3\n",
      "5\n",
      "8\n",
      "13\n",
      "21\n",
      "34\n",
      "55\n"
     ]
    }
   ],
   "source": [
    "def fib(n):\n",
    "    a, b = 1, 1\n",
    "    for i in range(n):\n",
    "        yield a\n",
    "        a, b = b, a + b\n",
    "\n",
    "for num in fib(10):\n",
    "    print(num)"
   ]
  },
  {
   "cell_type": "markdown",
   "metadata": {},
   "source": [
    "This is also why we can't do tuple comprehensions - the syntax is reserved for making generator expressions:"
   ]
  },
  {
   "cell_type": "code",
   "execution_count": 11,
   "metadata": {
    "collapsed": false
   },
   "outputs": [
    {
     "name": "stdout",
     "output_type": "stream",
     "text": [
      "1\n",
      "2\n",
      "3\n"
     ]
    },
    {
     "ename": "StopIteration",
     "evalue": "",
     "output_type": "error",
     "traceback": [
      "\u001b[1;31m---------------------------------------------------------------------------\u001b[0m",
      "\u001b[1;31mStopIteration\u001b[0m                             Traceback (most recent call last)",
      "\u001b[1;32m<ipython-input-11-0f1ad886ef79>\u001b[0m in \u001b[0;36m<module>\u001b[1;34m()\u001b[0m\n\u001b[0;32m      4\u001b[0m \u001b[0mprint\u001b[0m\u001b[1;33m(\u001b[0m\u001b[0mnext\u001b[0m\u001b[1;33m(\u001b[0m\u001b[0mg\u001b[0m\u001b[1;33m)\u001b[0m\u001b[1;33m)\u001b[0m\u001b[1;33m\u001b[0m\u001b[0m\n\u001b[0;32m      5\u001b[0m \u001b[0mprint\u001b[0m\u001b[1;33m(\u001b[0m\u001b[0mnext\u001b[0m\u001b[1;33m(\u001b[0m\u001b[0mg\u001b[0m\u001b[1;33m)\u001b[0m\u001b[1;33m)\u001b[0m\u001b[1;33m\u001b[0m\u001b[0m\n\u001b[1;32m----> 6\u001b[1;33m \u001b[0mprint\u001b[0m\u001b[1;33m(\u001b[0m\u001b[0mnext\u001b[0m\u001b[1;33m(\u001b[0m\u001b[0mg\u001b[0m\u001b[1;33m)\u001b[0m\u001b[1;33m)\u001b[0m\u001b[1;33m\u001b[0m\u001b[0m\n\u001b[0m",
      "\u001b[1;31mStopIteration\u001b[0m: "
     ]
    }
   ],
   "source": [
    "l=[1,2,3]\n",
    "g = (i for i in l)\n",
    "print(next(g))\n",
    "print(next(g))\n",
    "print(next(g))\n",
    "print(next(g))\n"
   ]
  },
  {
   "cell_type": "markdown",
   "metadata": {},
   "source": [
    "In general, we can think of generators as a 'lazy list' - a way of storing how to get the next object, without taking up all the memory.\n",
    "\n",
    "\n",
    "### Working with large files\n",
    "In general Python holds the data we have in memory. We need to come up with ways to handle larger data out of memory in piecemeal (or buy more RAM). Most methods are specific to a certain type of data, but we will cover a general method for now.\n",
    "[We can open a file on the disk in Python](https://docs.python.org/3.5/tutorial/inputoutput.html), as long as we use the correct permissions (read_csv from pandas took care of this for us). Let's download the test example data - http://jeremy.kiwi.nz/pythoncourse/assets/tests/r&d/test1data.csv\n",
    "\n"
   ]
  },
  {
   "cell_type": "code",
   "execution_count": 13,
   "metadata": {
    "collapsed": false
   },
   "outputs": [
    {
     "name": "stdout",
     "output_type": "stream",
     "text": [
      "<_io.TextIOWrapper name='c:/users/jeremy/downloads/test1data.csv' mode='r' encoding='cp1252'>\n"
     ]
    }
   ],
   "source": [
    "g = open('c:/users/jeremy/downloads/test1data.csv', 'r')\n",
    "print(g)"
   ]
  },
  {
   "cell_type": "markdown",
   "metadata": {},
   "source": [
    "We need to specify a 'mode' to open our file - I have chosen r for read, we can also use w for writing (this deletes the exsiting file), a for appending, and r+ for writing/andor reading.\n",
    "The file is not read in straight away - we merely have a pointer to the file. We can read the next line as though it was created using a generator:\n"
   ]
  },
  {
   "cell_type": "code",
   "execution_count": 14,
   "metadata": {
    "collapsed": false
   },
   "outputs": [
    {
     "name": "stdout",
     "output_type": "stream",
     "text": [
      "TripType,VisitNumber,Weekday,Upc,ScanCount,DepartmentDescription,FinelineNumber\n",
      "\n",
      "999,5,Friday,68113152929,-1,FINANCIAL SERVICES,1000\n",
      "\n"
     ]
    }
   ],
   "source": [
    "#nextline\n",
    "print(g.readline())\n",
    "print(g.readline())"
   ]
  },
  {
   "cell_type": "markdown",
   "metadata": {},
   "source": [
    "If you want to read all the lines of a file in a list you can also use list(f), f.readlines() or f.read().\n",
    "Once we are done with a file, we need to close it:"
   ]
  },
  {
   "cell_type": "code",
   "execution_count": 15,
   "metadata": {
    "collapsed": true
   },
   "outputs": [],
   "source": [
    "g.close()"
   ]
  },
  {
   "cell_type": "markdown",
   "metadata": {},
   "source": [
    "But, this doesn't help use too much - we can imagine reading in enough files to fill our memory, and then carrying out some analysis, then reading in more.\n",
    "Luckily, we have the with statement and generators:\n"
   ]
  },
  {
   "cell_type": "code",
   "execution_count": 16,
   "metadata": {
    "collapsed": false
   },
   "outputs": [
    {
     "name": "stdout",
     "output_type": "stream",
     "text": [
      "['TripType,VisitNumber,Weekday,Upc,ScanCount,DepartmentDescription,FinelineNumber', '999,5,Friday,68113152929,-1,FINANCIAL SERVICES,1000', '30,7,Friday,60538815980,1,SHOES,8931', '30,7,Friday,7410811099,1,PERSONAL CARE,4504', '26,8,Friday,2238403510,2,PAINT AND ACCESSORIES,3565']\n"
     ]
    },
    {
     "data": {
      "text/plain": [
       "['26,8,Friday,2006613744,2,PAINT AND ACCESSORIES,1017',\n",
       " '26,8,Friday,2006618783,2,PAINT AND ACCESSORIES,1017',\n",
       " '26,8,Friday,2006613743,1,PAINT AND ACCESSORIES,1017',\n",
       " '26,8,Friday,7004802737,1,PAINT AND ACCESSORIES,2802',\n",
       " '26,8,Friday,2238495318,1,PAINT AND ACCESSORIES,4501']"
      ]
     },
     "execution_count": 16,
     "metadata": {},
     "output_type": "execute_result"
    }
   ],
   "source": [
    "with open('c:/users/jeremy/downloads/test1data.csv', 'r') as file:\n",
    "    head = [next(file).strip() for x in range(5)]\n",
    "    \n",
    "print(head)\n",
    "\n",
    "def partread(file):\n",
    "     with open(file) as myfile:\n",
    "        for i in myfile:\n",
    "            yield i\n",
    "\n",
    "lines = 5\n",
    "g = partread('c:/users/jeremy/downloads/test1data.csv')\n",
    "[next(g).strip() for i in range(lines)]\n",
    "[next(g).strip() for i in range(lines)]"
   ]
  },
  {
   "cell_type": "markdown",
   "metadata": {},
   "source": [
    "Pandas also has a built-in methods to generate an interator:"
   ]
  },
  {
   "cell_type": "code",
   "execution_count": 17,
   "metadata": {
    "collapsed": false
   },
   "outputs": [
    {
     "name": "stdout",
     "output_type": "stream",
     "text": [
      "<pandas.io.parsers.TextFileReader object at 0x00000167659E95F8>\n"
     ]
    }
   ],
   "source": [
    "import pandas as pd\n",
    "x = pd.read_csv('c:/users/jeremy/downloads/test1data.csv', iterator = True)\n",
    "print(x)"
   ]
  },
  {
   "cell_type": "code",
   "execution_count": 18,
   "metadata": {
    "collapsed": false
   },
   "outputs": [
    {
     "data": {
      "text/html": [
       "<div>\n",
       "<table border=\"1\" class=\"dataframe\">\n",
       "  <thead>\n",
       "    <tr style=\"text-align: right;\">\n",
       "      <th></th>\n",
       "      <th>TripType</th>\n",
       "      <th>VisitNumber</th>\n",
       "      <th>Weekday</th>\n",
       "      <th>Upc</th>\n",
       "      <th>ScanCount</th>\n",
       "      <th>DepartmentDescription</th>\n",
       "      <th>FinelineNumber</th>\n",
       "    </tr>\n",
       "  </thead>\n",
       "  <tbody>\n",
       "    <tr>\n",
       "      <th>0</th>\n",
       "      <td>999</td>\n",
       "      <td>5</td>\n",
       "      <td>Friday</td>\n",
       "      <td>68113152929</td>\n",
       "      <td>-1</td>\n",
       "      <td>FINANCIAL SERVICES</td>\n",
       "      <td>1000</td>\n",
       "    </tr>\n",
       "    <tr>\n",
       "      <th>1</th>\n",
       "      <td>30</td>\n",
       "      <td>7</td>\n",
       "      <td>Friday</td>\n",
       "      <td>60538815980</td>\n",
       "      <td>1</td>\n",
       "      <td>SHOES</td>\n",
       "      <td>8931</td>\n",
       "    </tr>\n",
       "    <tr>\n",
       "      <th>2</th>\n",
       "      <td>30</td>\n",
       "      <td>7</td>\n",
       "      <td>Friday</td>\n",
       "      <td>7410811099</td>\n",
       "      <td>1</td>\n",
       "      <td>PERSONAL CARE</td>\n",
       "      <td>4504</td>\n",
       "    </tr>\n",
       "    <tr>\n",
       "      <th>3</th>\n",
       "      <td>26</td>\n",
       "      <td>8</td>\n",
       "      <td>Friday</td>\n",
       "      <td>2238403510</td>\n",
       "      <td>2</td>\n",
       "      <td>PAINT AND ACCESSORIES</td>\n",
       "      <td>3565</td>\n",
       "    </tr>\n",
       "    <tr>\n",
       "      <th>4</th>\n",
       "      <td>26</td>\n",
       "      <td>8</td>\n",
       "      <td>Friday</td>\n",
       "      <td>2006613744</td>\n",
       "      <td>2</td>\n",
       "      <td>PAINT AND ACCESSORIES</td>\n",
       "      <td>1017</td>\n",
       "    </tr>\n",
       "  </tbody>\n",
       "</table>\n",
       "</div>"
      ],
      "text/plain": [
       "   TripType  VisitNumber Weekday          Upc  ScanCount  \\\n",
       "0       999            5  Friday  68113152929         -1   \n",
       "1        30            7  Friday  60538815980          1   \n",
       "2        30            7  Friday   7410811099          1   \n",
       "3        26            8  Friday   2238403510          2   \n",
       "4        26            8  Friday   2006613744          2   \n",
       "\n",
       "   DepartmentDescription  FinelineNumber  \n",
       "0     FINANCIAL SERVICES            1000  \n",
       "1                  SHOES            8931  \n",
       "2          PERSONAL CARE            4504  \n",
       "3  PAINT AND ACCESSORIES            3565  \n",
       "4  PAINT AND ACCESSORIES            1017  "
      ]
     },
     "execution_count": 18,
     "metadata": {},
     "output_type": "execute_result"
    }
   ],
   "source": [
    "x.get_chunk(5)"
   ]
  },
  {
   "cell_type": "markdown",
   "metadata": {},
   "source": [
    "What about SQL? To run a SQL/netezza query from python, we have to install a couple of modules...\n",
    "\n",
    "\n",
    "### Virtual Environments\n",
    "\n",
    "When working on a server, we need to be cognizant that others are also using the server. Even if we have permissions to install packages we probably shouldn't - what if we want to upgrade pandas for ourselves, while our coworkers are using it?\n",
    "\n",
    "Similarly, we may be working on projects where we need specifically to not have a certain module installed, or only install a certain version.\n",
    "\n",
    "To fix these problems, we can install a ['virtual environment'](http://docs.python-guide.org/en/latest/dev/virtualenvs/) and use this as the location to load our modules from. \n",
    "\n",
    "Anaconda comes with a [virtual env manager](http://conda.pydata.org/docs/using/envs.html), the most commonly used non-conda version is virtualenv and virtualenvwrapper. They work similarly to conda.\n",
    "\n",
    "Let's check what environments we have available:\n",
    "\n",
    "```\n",
    "conda info --envs\n",
    "```\n",
    "\n",
    "Let's make a new environment, called sqlproj which has installed pyodbc:\n",
    "\n",
    "```\n",
    "conda create -n sqlproj pyodbc\n",
    "```\n",
    "\n",
    "Now switch to this env:\n",
    "\n",
    "```\n",
    "activate sqlproj\n",
    "```\n",
    "\n",
    "Now that we are in our project, if we open python, we get our new version:\n",
    "\n",
    "```\n",
    "python\n",
    "```"
   ]
  },
  {
   "cell_type": "code",
   "execution_count": 19,
   "metadata": {
    "collapsed": false
   },
   "outputs": [
    {
     "ename": "ImportError",
     "evalue": "No module named 'pyodbc'",
     "output_type": "error",
     "traceback": [
      "\u001b[1;31m---------------------------------------------------------------------------\u001b[0m",
      "\u001b[1;31mImportError\u001b[0m                               Traceback (most recent call last)",
      "\u001b[1;32m<ipython-input-19-235fb7d14406>\u001b[0m in \u001b[0;36m<module>\u001b[1;34m()\u001b[0m\n\u001b[1;32m----> 1\u001b[1;33m \u001b[1;32mimport\u001b[0m \u001b[0mpyodbc\u001b[0m\u001b[1;33m\u001b[0m\u001b[0m\n\u001b[0m\u001b[0;32m      2\u001b[0m \u001b[1;32mimport\u001b[0m \u001b[0mpandas\u001b[0m\u001b[1;33m\u001b[0m\u001b[0m\n",
      "\u001b[1;31mImportError\u001b[0m: No module named 'pyodbc'"
     ]
    }
   ],
   "source": [
    "import pyodbc\n",
    "import pandas"
   ]
  },
  {
   "cell_type": "markdown",
   "metadata": {},
   "source": [
    "Huh, we don't have pandas? By default, none of our previous packages come with us. This is to stop us copying our environment to a new computer and have it no longer work.\n",
    "\n",
    "Let's install pandas:\n",
    "\n",
    "```\n",
    "conda install pandas\n",
    "```\n",
    "\n",
    "or, if we aren't in the env:\n",
    "\n",
    "```\n",
    "conda install -n pyodbc pandas\n",
    "```\n",
    "\n",
    "If we want a specific version, we can specify it:\n",
    "\n",
    "```\n",
    "conda install -n pyodbc pandas=0.15.0\n",
    "```\n",
    "\n",
    "We can even specify a python version here....\n",
    "\n",
    "Deactivate:\n",
    "```\n",
    "deactivate\n",
    "```\n",
    "\n",
    "We can export our configuration:\n",
    "\n",
    "```\n",
    "conda -env export > env.yml\n",
    "```\n",
    "\n",
    "and use that to share our setup with colleagues:\n",
    "\n",
    "```\n",
    "conda env create -f env.yml\n",
    "```"
   ]
  },
  {
   "cell_type": "markdown",
   "metadata": {},
   "source": [
    "### Connecting to the databases\n",
    "\n",
    "netezza is unfortunately a non-free piece of software, and so has a couple of integration issues with python.\n",
    "\n",
    "Luckily, it is compliant with [ODBC](https://en.wikipedia.org/wiki/Open_Database_Connectivity), so we can use the pyodbc module to connect to our database.\n",
    "\n",
    "[sql-alchemy](http://www.sqlalchemy.org/) is also a possibility, but is much more involved!\n",
    "\n",
    "We have two choices - we can run python on the server, and connect to the database locally, or we can run python on our computer and connect to the database remotely.\n",
    "\n",
    "The exact configuration will depend on your server! We currently can work with the R&D servers - individual servers may require some setup - Please email any errors you get to me and we will endeavour to make sure we can connect!"
   ]
  },
  {
   "cell_type": "code",
   "execution_count": 20,
   "metadata": {
    "collapsed": true
   },
   "outputs": [],
   "source": [
    "#import odbc\n",
    "#in general:\n",
    "#conn = pyodbc.connect(\"DRIVER={NetezzaSQL};SERVER=<myserver>;PORT=<myport>;DATABASE=<mydbschema>;UID=<user>;PWD=<password>;\")\n",
    "#using DSN\n",
    "#conn = pyodbc.connect(dsn = 'server', UID = 'uname', PWD = 'PWD') #server eg:prcmusf"
   ]
  },
  {
   "cell_type": "markdown",
   "metadata": {},
   "source": [
    "I don't have access to your servers, so here is a simple sqlite database:"
   ]
  },
  {
   "cell_type": "code",
   "execution_count": 48,
   "metadata": {
    "collapsed": true
   },
   "outputs": [],
   "source": [
    "import sqlite3\n",
    "import pandas as pd\n",
    "\n",
    "x = sqlite3.connect('c:/users/jeremy/downloads/survey.db')\n",
    "#database from software carpentry, http://files.software-carpentry.org/survey.db\n",
    "#same as the above connection!"
   ]
  },
  {
   "cell_type": "markdown",
   "metadata": {},
   "source": [
    "Once we have a connection, we need to create a cursor. A cursor is a control structure which allows us to interact with the database"
   ]
  },
  {
   "cell_type": "code",
   "execution_count": 40,
   "metadata": {
    "collapsed": false
   },
   "outputs": [
    {
     "data": {
      "text/plain": [
       "<sqlite3.Cursor at 0x16767ed1490>"
      ]
     },
     "execution_count": 40,
     "metadata": {},
     "output_type": "execute_result"
    }
   ],
   "source": [
    "cxn = x.cursor()\n",
    "\n",
    "cxn.execute('select * from person')\n",
    "#can do much more complicated....\n",
    "#declaritive"
   ]
  },
  {
   "cell_type": "markdown",
   "metadata": {},
   "source": [
    "Now we have our cursor ready to get data from:"
   ]
  },
  {
   "cell_type": "code",
   "execution_count": 33,
   "metadata": {
    "collapsed": false
   },
   "outputs": [
    {
     "name": "stdout",
     "output_type": "stream",
     "text": [
      "[]\n",
      "[]\n"
     ]
    }
   ],
   "source": [
    "print(cxn.fetchall())\n",
    "print(cxn.fetchall())"
   ]
  },
  {
   "cell_type": "markdown",
   "metadata": {},
   "source": [
    "It looks a lot like a generator! (NB it isn't...). \n",
    "\n",
    "We can go line by line, or use it like an iterable:"
   ]
  },
  {
   "cell_type": "code",
   "execution_count": 30,
   "metadata": {
    "collapsed": false
   },
   "outputs": [
    {
     "name": "stdout",
     "output_type": "stream",
     "text": [
      "('dyer', 'William', 'Dyer')\n"
     ]
    }
   ],
   "source": [
    "cxn.execute('select * from person')\n",
    "\n",
    "print(cxn.fetchone())"
   ]
  },
  {
   "cell_type": "code",
   "execution_count": 36,
   "metadata": {
    "collapsed": false
   },
   "outputs": [
    {
     "name": "stdout",
     "output_type": "stream",
     "text": [
      "('dyer', 'William', 'Dyer')\n",
      "('pb', 'Frank', 'Pabodie')\n",
      "('lake', 'Anderson', 'Lake')\n",
      "('roe', 'Valentina', 'Roerich')\n",
      "('danforth', 'Frank', 'Danforth')\n"
     ]
    }
   ],
   "source": [
    "for row in cxn.execute('SELECT * FROM person'):\n",
    "    print(row)"
   ]
  },
  {
   "cell_type": "markdown",
   "metadata": {},
   "source": [
    "pandas has built in sql integration, through recently is has been reduced to use the sql-alchemy backend. \n",
    "\n",
    "We use the database connection, rather than the cursor:"
   ]
  },
  {
   "cell_type": "code",
   "execution_count": 49,
   "metadata": {
    "collapsed": false
   },
   "outputs": [
    {
     "data": {
      "text/html": [
       "<div>\n",
       "<table border=\"1\" class=\"dataframe\">\n",
       "  <thead>\n",
       "    <tr style=\"text-align: right;\">\n",
       "      <th></th>\n",
       "      <th>ident</th>\n",
       "      <th>personal</th>\n",
       "      <th>family</th>\n",
       "    </tr>\n",
       "  </thead>\n",
       "  <tbody>\n",
       "    <tr>\n",
       "      <th>0</th>\n",
       "      <td>dyer</td>\n",
       "      <td>William</td>\n",
       "      <td>Dyer</td>\n",
       "    </tr>\n",
       "    <tr>\n",
       "      <th>1</th>\n",
       "      <td>pb</td>\n",
       "      <td>Frank</td>\n",
       "      <td>Pabodie</td>\n",
       "    </tr>\n",
       "    <tr>\n",
       "      <th>2</th>\n",
       "      <td>lake</td>\n",
       "      <td>Anderson</td>\n",
       "      <td>Lake</td>\n",
       "    </tr>\n",
       "    <tr>\n",
       "      <th>3</th>\n",
       "      <td>roe</td>\n",
       "      <td>Valentina</td>\n",
       "      <td>Roerich</td>\n",
       "    </tr>\n",
       "    <tr>\n",
       "      <th>4</th>\n",
       "      <td>danforth</td>\n",
       "      <td>Frank</td>\n",
       "      <td>Danforth</td>\n",
       "    </tr>\n",
       "  </tbody>\n",
       "</table>\n",
       "</div>"
      ],
      "text/plain": [
       "      ident   personal    family\n",
       "0      dyer    William      Dyer\n",
       "1        pb      Frank   Pabodie\n",
       "2      lake   Anderson      Lake\n",
       "3       roe  Valentina   Roerich\n",
       "4  danforth      Frank  Danforth"
      ]
     },
     "execution_count": 49,
     "metadata": {},
     "output_type": "execute_result"
    }
   ],
   "source": [
    "df = pd.read_sql('select * from Person', x)\n",
    "df"
   ]
  },
  {
   "cell_type": "code",
   "execution_count": 46,
   "metadata": {
    "collapsed": true
   },
   "outputs": [],
   "source": [
    "df['newcol'] = [1,2,3,4,5] "
   ]
  },
  {
   "cell_type": "code",
   "execution_count": 52,
   "metadata": {
    "collapsed": false
   },
   "outputs": [
    {
     "data": {
      "text/html": [
       "<div>\n",
       "<table border=\"1\" class=\"dataframe\">\n",
       "  <thead>\n",
       "    <tr style=\"text-align: right;\">\n",
       "      <th></th>\n",
       "      <th>index</th>\n",
       "      <th>ident</th>\n",
       "      <th>personal</th>\n",
       "      <th>family</th>\n",
       "      <th>newcol</th>\n",
       "    </tr>\n",
       "  </thead>\n",
       "  <tbody>\n",
       "    <tr>\n",
       "      <th>0</th>\n",
       "      <td>0</td>\n",
       "      <td>dyer</td>\n",
       "      <td>William</td>\n",
       "      <td>Dyer</td>\n",
       "      <td>1</td>\n",
       "    </tr>\n",
       "    <tr>\n",
       "      <th>1</th>\n",
       "      <td>1</td>\n",
       "      <td>pb</td>\n",
       "      <td>Frank</td>\n",
       "      <td>Pabodie</td>\n",
       "      <td>2</td>\n",
       "    </tr>\n",
       "    <tr>\n",
       "      <th>2</th>\n",
       "      <td>2</td>\n",
       "      <td>lake</td>\n",
       "      <td>Anderson</td>\n",
       "      <td>Lake</td>\n",
       "      <td>3</td>\n",
       "    </tr>\n",
       "    <tr>\n",
       "      <th>3</th>\n",
       "      <td>3</td>\n",
       "      <td>roe</td>\n",
       "      <td>Valentina</td>\n",
       "      <td>Roerich</td>\n",
       "      <td>4</td>\n",
       "    </tr>\n",
       "    <tr>\n",
       "      <th>4</th>\n",
       "      <td>4</td>\n",
       "      <td>danforth</td>\n",
       "      <td>Frank</td>\n",
       "      <td>Danforth</td>\n",
       "      <td>5</td>\n",
       "    </tr>\n",
       "  </tbody>\n",
       "</table>\n",
       "</div>"
      ],
      "text/plain": [
       "   index     ident   personal    family  newcol\n",
       "0      0      dyer    William      Dyer       1\n",
       "1      1        pb      Frank   Pabodie       2\n",
       "2      2      lake   Anderson      Lake       3\n",
       "3      3       roe  Valentina   Roerich       4\n",
       "4      4  danforth      Frank  Danforth       5"
      ]
     },
     "execution_count": 52,
     "metadata": {},
     "output_type": "execute_result"
    }
   ],
   "source": [
    "#df.to_sql('data1', x)\n",
    "pd.read_sql('select * from data1', x)"
   ]
  },
  {
   "cell_type": "markdown",
   "metadata": {},
   "source": [
    "In general, we should keep the sql inside python to a minimum - netezza is a little finicky with it's integration, so run a sql command, and then read in all the data."
   ]
  },
  {
   "cell_type": "markdown",
   "metadata": {},
   "source": [
    "### Scripts vs Notebooks\n",
    "\n",
    "The i in iPython stands for interactive. In general, we should use iPython to develop code, test and run it, and then run as scripts for production. The current move is in to using notebooks in production - we can run them on the server, and interact with them from our own computers - This however requires running a web facing server which is not super secure.\n",
    "\n",
    "We will see if this is possible for our setup...\n",
    "\n",
    "In the mean time, see how easy it is to convert a notebook to script.py"
   ]
  },
  {
   "cell_type": "markdown",
   "metadata": {},
   "source": [
    "### Testing\n",
    "\n",
    "[Test driven development](https://en.wikipedia.org/wiki/Test-driven_development) is a development style where we write tests that our completed code should pass, then attempt to write code to pass them. In this manner, we can ensure that our code works as desired, and gives outputs that we desire.\n",
    "\n",
    "To a lesser extent, all code should include tests - a lot of time spent debugging and writing code is simply manual testing - why didn't my code work? Why did this particular data give me an error? What about special edge cases?\n",
    "\n",
    "This informal testing is often all that code goes through. Code reviews, and Pair Programming have been shown to help reduce bugs, but a good start is unit testing.\n",
    "\n",
    "Unit testing allows us to test each part (unit) of our code automatically, and can greatly help in refactoring large code bases, or prexisting code bases. We could theoretically completely rewrite entire scripts and keep the same tests, so that our inputs and outputs stay identical.\n",
    "\n",
    "There are a [wide range of testing suites available](http://docs.python-guide.org/en/latest/writing/tests/), here we will use the [unittest module](https://docs.python.org/3/library/unittest.html) from the standard library.\n",
    "\n",
    "unittest works best with scripts - Let's make one with our fibonacci functions from the second lesson:"
   ]
  },
  {
   "cell_type": "code",
   "execution_count": 53,
   "metadata": {
    "collapsed": true
   },
   "outputs": [],
   "source": [
    "def fibo(x):\n",
    "    if x < 3:\n",
    "        return 1\n",
    "    a,b,counter = 1,2,3\n",
    "    while counter < x:\n",
    "        a,b,counter = b,a+b,counter+1\n",
    "    return(b)\n",
    "#saved as fibo.py"
   ]
  },
  {
   "cell_type": "markdown",
   "metadata": {},
   "source": [
    "Then we create a seperate script, which imports unittest, and define our tests as a class which inherits from unittest.TestCase. All of our tests are methods of this class, and must start with test.\n",
    "\n",
    "We then use the range of assert\\* methods built in to the class to say what our functions should do:"
   ]
  },
  {
   "cell_type": "code",
   "execution_count": 54,
   "metadata": {
    "collapsed": false
   },
   "outputs": [
    {
     "ename": "ImportError",
     "evalue": "No module named 'fibo'",
     "output_type": "error",
     "traceback": [
      "\u001b[1;31m---------------------------------------------------------------------------\u001b[0m",
      "\u001b[1;31mImportError\u001b[0m                               Traceback (most recent call last)",
      "\u001b[1;32m<ipython-input-54-097a35bbb889>\u001b[0m in \u001b[0;36m<module>\u001b[1;34m()\u001b[0m\n\u001b[0;32m      1\u001b[0m \u001b[1;32mimport\u001b[0m \u001b[0munittest\u001b[0m\u001b[1;33m\u001b[0m\u001b[0m\n\u001b[1;32m----> 2\u001b[1;33m \u001b[1;32mfrom\u001b[0m \u001b[0mfibo\u001b[0m \u001b[1;32mimport\u001b[0m \u001b[0mfibo\u001b[0m\u001b[1;33m\u001b[0m\u001b[0m\n\u001b[0m\u001b[0;32m      3\u001b[0m \u001b[1;33m\u001b[0m\u001b[0m\n\u001b[0;32m      4\u001b[0m \u001b[1;32mclass\u001b[0m \u001b[0mtestfibo\u001b[0m\u001b[1;33m(\u001b[0m\u001b[0munittest\u001b[0m\u001b[1;33m.\u001b[0m\u001b[0mTestCase\u001b[0m\u001b[1;33m)\u001b[0m\u001b[1;33m:\u001b[0m\u001b[1;33m\u001b[0m\u001b[0m\n\u001b[0;32m      5\u001b[0m     \u001b[1;32mdef\u001b[0m \u001b[0mtest_one\u001b[0m\u001b[1;33m(\u001b[0m\u001b[0mself\u001b[0m\u001b[1;33m)\u001b[0m\u001b[1;33m:\u001b[0m\u001b[1;33m\u001b[0m\u001b[0m\n",
      "\u001b[1;31mImportError\u001b[0m: No module named 'fibo'"
     ]
    }
   ],
   "source": [
    "import unittest\n",
    "from fibo import fibo\n",
    "\n",
    "class testfibo(unittest.TestCase):\n",
    "    def test_one(self):\n",
    "        self.assertEqual(fibo(1), 1)\n",
    "\n",
    "    def test_zero(self):\n",
    "        self.assertEqual(fibo(0), 0)\n",
    "\n",
    "    def test_negative(self):\n",
    "        self.assertRaises(ValueError, fibo, -1)\n",
    "        \n",
    "    def test_ten(self):\n",
    "        self.assertEqual(fibo(10), 55)\n",
    "\n",
    "if __name__ == '__main__':\n",
    "    unittest.main()\n",
    "#saved as tests.py"
   ]
  },
  {
   "cell_type": "markdown",
   "metadata": {},
   "source": [
    "`python tests.py`\n",
    "\n",
    "\n",
    "```\n",
    "jeremy@thin:~$ python tests.py\n",
    "F..F\n",
    "======================================================================\n",
    "FAIL: test_negative (__main__.testfibo)\n",
    "----------------------------------------------------------------------\n",
    "Traceback (most recent call last):\n",
    "  File \"tests.py\", line 10, in test_negative\n",
    "    self.assertRaises(ValueError, fibo, -1)\n",
    "AssertionError: ValueError not raised by fibo\n",
    "\n",
    "======================================================================\n",
    "FAIL: test_zero (__main__.testfibo)\n",
    "----------------------------------------------------------------------\n",
    "Traceback (most recent call last):\n",
    "  File \"tests.py\", line 8, in test_zero\n",
    "    self.assertEqual(fibo(0), 0)\n",
    "AssertionError: 1 != 0\n",
    "\n",
    "----------------------------------------------------------------------\n",
    "Ran 4 tests in 0.002s\n",
    "\n",
    "FAILED (failures=2)\n",
    "```\n",
    "\n",
    "Then we can fix our function:"
   ]
  },
  {
   "cell_type": "code",
   "execution_count": 55,
   "metadata": {
    "collapsed": true
   },
   "outputs": [],
   "source": [
    "def fibo(x):\n",
    "    if x < 1:\n",
    "        if x < 0:\n",
    "            raise ValueError()\n",
    "        else:\n",
    "            return(0)\n",
    "    if x < 3:\n",
    "        return 1\n",
    "    a,b,counter = 1,2,3\n",
    "    while counter < x:\n",
    "        a,b,counter = b,a+b,counter+1\n",
    "    return(b)\n",
    "#saved as fibo.py"
   ]
  },
  {
   "cell_type": "markdown",
   "metadata": {},
   "source": [
    "And rerun our tests. \n",
    "\n",
    "We know that this is a slow function, so maybe we would like to refactor it. We can do this, leaving the tests as is:"
   ]
  },
  {
   "cell_type": "code",
   "execution_count": 56,
   "metadata": {
    "collapsed": true
   },
   "outputs": [],
   "source": [
    "def memoize(myfunction):\n",
    "    cache = {}\n",
    "    def function_to_cache(*args):\n",
    "        if args in cache:\n",
    "            return cache[args]\n",
    "        else:\n",
    "            cache[args] = myfunction(*args)\n",
    "            return cache[args]\n",
    "    return function_to_cache\n",
    "\n",
    "def fiborecur(x):\n",
    "    if x < 3:\n",
    "        return 1\n",
    "    return fiborecur(x - 1) + fiborecur(x - 2)\n",
    "\n",
    "#saved as fibo.py"
   ]
  },
  {
   "cell_type": "markdown",
   "metadata": {},
   "source": [
    "Whoops - our refactor didn't define fibo - We could do this in our script, but maybe we don't want to for now.\n",
    "\n",
    "We have the setUp and tearDown methods - using these we can run code to set up our tests - eg connect to a database or download some data. In general, we should keep any set up inside our class - we don't want to modify the global environment for any other tests."
   ]
  },
  {
   "cell_type": "code",
   "execution_count": null,
   "metadata": {
    "collapsed": true
   },
   "outputs": [],
   "source": [
    "import unittest\n",
    "from fibo import fiborecur\n",
    "from fibo import memoize\n",
    "\n",
    "class testfibo(unittest.TestCase):\n",
    "    def setUp(self):\n",
    "        self.fibo = memoize(fiborecur)\n",
    "\n",
    "    def test_one(self):\n",
    "        self.assertEqual(self.fibo(1), 1)\n",
    "\n",
    "    def test_zero(self):\n",
    "        self.assertEqual(self.fibo(0), 0)\n",
    "\n",
    "    def test_negative(self):\n",
    "        self.assertRaises(ValueError, self.fibo, -1)\n",
    "\n",
    "    def test_ten(self):\n",
    "        self.assertEqual(self.fibo(10), 55)\n",
    "\n",
    "if __name__ == '__main__':\n",
    "    unittest.main()\n",
    "#saved as tests.py"
   ]
  },
  {
   "cell_type": "markdown",
   "metadata": {},
   "source": [
    "### Version Control\n",
    "\n",
    "Every piece of code should be under version control!!\n",
    "\n",
    "It seems that there is no company wide version control system set up - so let's use git. We could also use SVN or mecurial.\n",
    "\n",
    "Version control allows us to track changes on our code. By making a series of commits, we can see the changes we made, who made them, and roll them back if necessary.\n",
    "\n",
    "Install git from [here](https://git-scm.com/downloads).\n",
    "\n",
    "Let's play around a small amount as an introduction - you will want to learn a lot more before git is useful for you!\n",
    "\n",
    "```\n",
    "mkdir gittest\n",
    "cd gittest\n",
    "dir\n",
    "```\n",
    "\n",
    "Now we initialise a git repository:\n",
    "\n",
    "```\n",
    "git init\n",
    "dir\n",
    "```\n",
    "\n",
    "Turns out it's a hidden folder:\n",
    "\n",
    "```\n",
    "dir /a\n",
    "```\n",
    "\n",
    "We can get status using git status:\n",
    "```\n",
    "git status\n",
    "```\n",
    "\n",
    "Ok, so let's get coding:"
   ]
  },
  {
   "cell_type": "code",
   "execution_count": 57,
   "metadata": {
    "collapsed": true
   },
   "outputs": [],
   "source": [
    "def fibo(x):\n",
    "    if x < 3:\n",
    "        return 1\n",
    "    a,b,counter = 1,2,3\n",
    "    while counter < x:\n",
    "        a,b,counter = b,a+b,counter+1\n",
    "    return(b)\n",
    "#saved as fibo.py"
   ]
  },
  {
   "cell_type": "markdown",
   "metadata": {},
   "source": [
    "Now run git status:\n",
    "\n",
    "```\n",
    "git status\n",
    "```\n",
    "\n",
    "we can see that we have an untracked file!\n",
    "\n",
    "```\n",
    "git add fibo.py\n",
    "#or git add --all\n",
    "git status\n",
    "```\n",
    "\n",
    "Now we commit the change!\n",
    "\n",
    "```\n",
    "git commit -m \"initial commit of fibo.py\"\n",
    "git status\n",
    "```\n",
    "\n",
    "We can see the history using git log:\n",
    "\n",
    "```\n",
    "git log\n",
    "```\n",
    "\n",
    "Now let's fix our function!"
   ]
  },
  {
   "cell_type": "code",
   "execution_count": 58,
   "metadata": {
    "collapsed": true
   },
   "outputs": [],
   "source": [
    "def fibo(x):\n",
    "    '''\n",
    "    fixed version!\n",
    "    '''\n",
    "    if x < 1:\n",
    "        if x < 0:\n",
    "            raise ValueError()\n",
    "        else:\n",
    "            return(0)\n",
    "    if x < 3:\n",
    "        return 1\n",
    "    a,b,counter = 1,2,3\n",
    "    while counter < x:\n",
    "        a,b,counter = b,a+b,counter+1\n",
    "    return(b)\n",
    "#saved as fibo.py"
   ]
  },
  {
   "cell_type": "markdown",
   "metadata": {},
   "source": [
    "again git status allows us to see we have changes.\n",
    "\n",
    "git diff allows us to see what they are:\n",
    "```\n",
    "git diff\n",
    "```\n",
    "\n",
    "we can then add and commit the changes:\n",
    "\n",
    "```\n",
    "git add --all\n",
    "git commit -m \"passes tests, docstring\"\n",
    "git log\n",
    "```\n",
    "\n",
    "Now if we accidently delete our file, we can restore it:\n",
    "\n",
    "```\n",
    "git checkout head fibo.py\n",
    "```\n",
    "\n",
    "or if our changes are no good, we can revert:\n",
    "\n",
    "```\n",
    "git checkout head~1 fibo.py\n",
    "```\n",
    "\n",
    "git is not github! Github is a website built on remote hosting of git repositories. You probably can't use it for work code, but it is useful to see how it works.\n",
    "\n",
    "We can clone down from github:\n",
    "\n",
    "```\n",
    "cd ..\n",
    "git clone https://github.com/jeremycg/pythoncourse\n",
    "cd pythoncourse\n",
    "git log\n",
    "```\n",
    "\n",
    "For more information on git, see the online course at Software Carpentry - http://swcarpentry.github.io/git-novice/ and at codeschool : https://try.github.io/\n"
   ]
  }
 ],
 "metadata": {
  "kernelspec": {
   "display_name": "Python 3",
   "language": "python",
   "name": "python3"
  },
  "language_info": {
   "codemirror_mode": {
    "name": "ipython",
    "version": 3
   },
   "file_extension": ".py",
   "mimetype": "text/x-python",
   "name": "python",
   "nbconvert_exporter": "python",
   "pygments_lexer": "ipython3",
   "version": "3.5.1"
  }
 },
 "nbformat": 4,
 "nbformat_minor": 0
}
