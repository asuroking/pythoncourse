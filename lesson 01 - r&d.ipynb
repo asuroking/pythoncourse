{
 "cells": [
  {
   "cell_type": "markdown",
   "metadata": {
    "collapsed": false
   },
   "source": [
    "## Welcome to Lesson 01\n",
    "\n",
    "Everyone should have covered the previous lesson, and the exercises. If there are any problems with any of the exercises, please post on the forum - if there is enough interest, we can cover a question or two in the next class.\n",
    "\n",
    "Today we will cover functions, lambda functions, functional programming, scoping in Python, dynamic programming and decorators. Download the [notebook here](/pythoncourse/assets/notebooks/r&d/lesson%2001%20-%20r&d.ipynb).\n",
    "\n",
    "As an aside, this course is being developed and hosted using github - if you want access to all the notebooks, you can find [them here](https://github.com/jeremycg/pythoncourse/tree/raw/assets/notebooks). If you know how to use git and github feel free to file an issue or pull request if you spot a typo. If not, we will cover git later in the course."
   ]
  },
  {
   "cell_type": "markdown",
   "metadata": {},
   "source": [
    "### Intro to Functions\n",
    "\n",
    "We have already seen how to use the built-in Python functions. You can see a list of every fucntion included in Python 3.5 [here on the official Python documentation site](https://docs.python.org/3.5/library/functions.html). Today we will learn how to create our own.\n",
    "\n",
    "Functions are one of the key parts of any programming language. We can use them when we have a chunk of code we want to reuse and don't want to type out a lot of times.\n",
    "\n",
    "Key parts of a function are its name, the arguments, the function body, the return statement, and the docstring."
   ]
  },
  {
   "cell_type": "code",
   "execution_count": 1,
   "metadata": {
    "collapsed": false
   },
   "outputs": [
    {
     "data": {
      "text/plain": [
       "212.0"
      ]
     },
     "execution_count": 1,
     "metadata": {},
     "output_type": "execute_result"
    }
   ],
   "source": [
    "def celcius_to_fahr(temp):\n",
    "    return (9/5)*temp + 32\n",
    "\n",
    "celcius_to_fahr(100)"
   ]
  },
  {
   "cell_type": "code",
   "execution_count": 2,
   "metadata": {
    "collapsed": false
   },
   "outputs": [
    {
     "data": {
      "text/plain": [
       "-173"
      ]
     },
     "execution_count": 2,
     "metadata": {},
     "output_type": "execute_result"
    }
   ],
   "source": [
    "def kelvin_to_celcius(temp):\n",
    "    dosomestuff = 23\n",
    "    morestuff = dosomestuff - 45\n",
    "    if morestuff > 55:\n",
    "        print(abs(morestuff))\n",
    "    return temp - 273\n",
    "\n",
    "kelvin_to_celcius(100)"
   ]
  },
  {
   "cell_type": "code",
   "execution_count": 3,
   "metadata": {
    "collapsed": false
   },
   "outputs": [
    {
     "data": {
      "text/plain": [
       "32.0"
      ]
     },
     "execution_count": 3,
     "metadata": {},
     "output_type": "execute_result"
    }
   ],
   "source": [
    "def kelvin_to_fahr(temp):\n",
    "    return celcius_to_fahr(kelvin_to_celcius(temp))\n",
    "\n",
    "kelvin_to_fahr(273)"
   ]
  },
  {
   "cell_type": "markdown",
   "metadata": {},
   "source": [
    "Unlike R (and other languages), Python compiles your function at definition. We can see the compiled function using the dis module."
   ]
  },
  {
   "cell_type": "code",
   "execution_count": 4,
   "metadata": {
    "collapsed": false
   },
   "outputs": [
    {
     "name": "stdout",
     "output_type": "stream",
     "text": [
      "  2           0 LOAD_GLOBAL              0 (celcius_to_fahr)\n",
      "              3 LOAD_GLOBAL              1 (kelvin_to_celcius)\n",
      "              6 LOAD_FAST                0 (temp)\n",
      "              9 CALL_FUNCTION            1 (1 positional, 0 keyword pair)\n",
      "             12 CALL_FUNCTION            1 (1 positional, 0 keyword pair)\n",
      "             15 RETURN_VALUE\n",
      "None\n",
      "  2           0 LOAD_CONST               1 (23)\n",
      "              3 STORE_FAST               1 (dosomestuff)\n",
      "\n",
      "  3           6 LOAD_FAST                1 (dosomestuff)\n",
      "              9 LOAD_CONST               2 (45)\n",
      "             12 BINARY_SUBTRACT\n",
      "             13 STORE_FAST               2 (morestuff)\n",
      "\n",
      "  4          16 LOAD_FAST                2 (morestuff)\n",
      "             19 LOAD_CONST               3 (55)\n",
      "             22 COMPARE_OP               4 (>)\n",
      "             25 POP_JUMP_IF_FALSE       44\n",
      "\n",
      "  5          28 LOAD_GLOBAL              0 (print)\n",
      "             31 LOAD_GLOBAL              1 (abs)\n",
      "             34 LOAD_FAST                2 (morestuff)\n",
      "             37 CALL_FUNCTION            1 (1 positional, 0 keyword pair)\n",
      "             40 CALL_FUNCTION            1 (1 positional, 0 keyword pair)\n",
      "             43 POP_TOP\n",
      "\n",
      "  6     >>   44 LOAD_FAST                0 (temp)\n",
      "             47 LOAD_CONST               4 (273)\n",
      "             50 BINARY_SUBTRACT\n",
      "             51 RETURN_VALUE\n",
      "None\n"
     ]
    }
   ],
   "source": [
    "import dis\n",
    "print(dis.dis(kelvin_to_fahr))\n",
    "print(dis.dis(kelvin_to_celcius))"
   ]
  },
  {
   "cell_type": "markdown",
   "metadata": {},
   "source": [
    "We can get the original definition, using inspect:"
   ]
  },
  {
   "cell_type": "code",
   "execution_count": 5,
   "metadata": {
    "collapsed": false
   },
   "outputs": [
    {
     "name": "stdout",
     "output_type": "stream",
     "text": [
      "(['def kelvin_to_fahr(temp):\\n', '    return celcius_to_fahr(kelvin_to_celcius(temp))\\n'], 1)\n",
      "(['def kelvin_to_celcius(temp):\\n', '    dosomestuff = 23\\n', '    morestuff = dosomestuff - 45\\n', '    if morestuff > 55:\\n', '        print(abs(morestuff))\\n', '    return temp - 273\\n'], 1)\n"
     ]
    }
   ],
   "source": [
    "import inspect\n",
    "print(inspect.getsourcelines(kelvin_to_fahr))\n",
    "print(inspect.getsourcelines(kelvin_to_celcius))"
   ]
  },
  {
   "cell_type": "markdown",
   "metadata": {},
   "source": [
    "### Writing our first function"
   ]
  },
  {
   "cell_type": "code",
   "execution_count": 6,
   "metadata": {
    "collapsed": false
   },
   "outputs": [
    {
     "name": "stdout",
     "output_type": "stream",
     "text": [
      "Help on function myfirstfun in module __main__:\n",
      "\n",
      "myfirstfun(arg1, arg2)\n",
      "    Here is the docstring. this will be displayed to a user calling help(myfirstfun)\n",
      "    It can be as long as you'd like.\n",
      "    This argument takes two arguments, and returns the sum of them\n",
      "\n"
     ]
    }
   ],
   "source": [
    "def myfirstfun(arg1, arg2):\n",
    "    '''Here is the docstring. this will be displayed to a user calling help(myfirstfun)\n",
    "    It can be as long as you'd like.\n",
    "    This argument takes two arguments, and returns the sum of them\n",
    "    '''\n",
    "    return(arg1 + arg2)\n",
    "\n",
    "help(myfirstfun)"
   ]
  },
  {
   "cell_type": "code",
   "execution_count": 7,
   "metadata": {
    "collapsed": false
   },
   "outputs": [
    {
     "data": {
      "text/plain": [
       "3"
      ]
     },
     "execution_count": 7,
     "metadata": {},
     "output_type": "execute_result"
    }
   ],
   "source": [
    "myfirstfun(1, 2)"
   ]
  },
  {
   "cell_type": "code",
   "execution_count": 8,
   "metadata": {
    "collapsed": false
   },
   "outputs": [
    {
     "data": {
      "text/plain": [
       "'hi'"
      ]
     },
     "execution_count": 8,
     "metadata": {},
     "output_type": "execute_result"
    }
   ],
   "source": [
    "myfirstfun(\"h\", \"i\")"
   ]
  },
  {
   "cell_type": "markdown",
   "metadata": {},
   "source": [
    "We might not want our function to work on strings! We can raise an error if the arguments are not numeric:"
   ]
  },
  {
   "cell_type": "code",
   "execution_count": 41,
   "metadata": {
    "collapsed": false
   },
   "outputs": [
    {
     "data": {
      "text/plain": [
       "3"
      ]
     },
     "execution_count": 41,
     "metadata": {},
     "output_type": "execute_result"
    }
   ],
   "source": [
    "def myfirstfun(arg1, arg2):\n",
    "    '''Here is the docstring. this will be displayed to a user calling help(myfirstfun)\n",
    "    It can be as long as you'd like.\n",
    "    This argument takes two arguments, and returns the sum of them\n",
    "    '''\n",
    "    for i in arg1, arg2:\n",
    "        assert type(i) == int or type(i) == float, \"This function requires numerics\"\n",
    "    return(arg1 + arg2)\n",
    "\n",
    "myfirstfun(1,2)"
   ]
  },
  {
   "cell_type": "code",
   "execution_count": 42,
   "metadata": {
    "collapsed": false,
    "scrolled": true
   },
   "outputs": [
    {
     "ename": "AssertionError",
     "evalue": "This function requires numerics",
     "output_type": "error",
     "traceback": [
      "\u001b[1;31m---------------------------------------------------------------------------\u001b[0m",
      "\u001b[1;31mAssertionError\u001b[0m                            Traceback (most recent call last)",
      "\u001b[1;32m<ipython-input-42-b9e7ba21c90e>\u001b[0m in \u001b[0;36m<module>\u001b[1;34m()\u001b[0m\n\u001b[1;32m----> 1\u001b[1;33m \u001b[0mmyfirstfun\u001b[0m\u001b[1;33m(\u001b[0m\u001b[1;34m\"h\"\u001b[0m\u001b[1;33m,\u001b[0m \u001b[1;34m\"i\"\u001b[0m\u001b[1;33m)\u001b[0m\u001b[1;33m\u001b[0m\u001b[0m\n\u001b[0m",
      "\u001b[1;32m<ipython-input-41-f4e6512fed1f>\u001b[0m in \u001b[0;36mmyfirstfun\u001b[1;34m(arg1, arg2)\u001b[0m\n\u001b[0;32m      5\u001b[0m     '''\n\u001b[0;32m      6\u001b[0m     \u001b[1;32mfor\u001b[0m \u001b[0mi\u001b[0m \u001b[1;32min\u001b[0m \u001b[0marg1\u001b[0m\u001b[1;33m,\u001b[0m \u001b[0marg2\u001b[0m\u001b[1;33m:\u001b[0m\u001b[1;33m\u001b[0m\u001b[0m\n\u001b[1;32m----> 7\u001b[1;33m         \u001b[1;32massert\u001b[0m \u001b[0mtype\u001b[0m\u001b[1;33m(\u001b[0m\u001b[0mi\u001b[0m\u001b[1;33m)\u001b[0m \u001b[1;33m==\u001b[0m \u001b[0mint\u001b[0m \u001b[1;32mor\u001b[0m \u001b[0mtype\u001b[0m\u001b[1;33m(\u001b[0m\u001b[0mi\u001b[0m\u001b[1;33m)\u001b[0m \u001b[1;33m==\u001b[0m \u001b[0mfloat\u001b[0m\u001b[1;33m,\u001b[0m \u001b[1;34m\"This function requires numerics\"\u001b[0m\u001b[1;33m\u001b[0m\u001b[0m\n\u001b[0m\u001b[0;32m      8\u001b[0m     \u001b[1;32mreturn\u001b[0m\u001b[1;33m(\u001b[0m\u001b[0marg1\u001b[0m \u001b[1;33m+\u001b[0m \u001b[0marg2\u001b[0m\u001b[1;33m)\u001b[0m\u001b[1;33m\u001b[0m\u001b[0m\n\u001b[0;32m      9\u001b[0m \u001b[1;33m\u001b[0m\u001b[0m\n",
      "\u001b[1;31mAssertionError\u001b[0m: This function requires numerics"
     ]
    }
   ],
   "source": [
    "myfirstfun(\"h\", \"i\")"
   ]
  },
  {
   "cell_type": "markdown",
   "metadata": {},
   "source": [
    "### Passing Multiple Arguments and Default Values\n",
    "\n",
    "Some functions will need to take an unknown number of arguments, or a default value:"
   ]
  },
  {
   "cell_type": "code",
   "execution_count": 9,
   "metadata": {
    "collapsed": false
   },
   "outputs": [
    {
     "name": "stdout",
     "output_type": "stream",
     "text": [
      "here are the extra arguments [3, 4, 5, 6]\n"
     ]
    },
    {
     "data": {
      "text/plain": [
       "3"
      ]
     },
     "execution_count": 9,
     "metadata": {},
     "output_type": "execute_result"
    }
   ],
   "source": [
    "def myfirstfun(arg1, arg2 = 2, *moreargs):\n",
    "    '''\n",
    "    This function takes two arguments, and returns the sum of them\n",
    "    any extra arguments are printed to the screen\n",
    "    '''\n",
    "    for i in arg1, arg2:\n",
    "        assert type(i) == int or type(i) == float #can also use isinstance()\n",
    "    print(\"here are the extra arguments {x}\".format(x = list(moreargs)))\n",
    "    return(arg1 + arg2)\n",
    "\n",
    "myfirstfun(1,2,3,4,5,6)"
   ]
  },
  {
   "cell_type": "code",
   "execution_count": 10,
   "metadata": {
    "collapsed": false
   },
   "outputs": [
    {
     "name": "stdout",
     "output_type": "stream",
     "text": [
      "here are the extra arguments []\n"
     ]
    },
    {
     "data": {
      "text/plain": [
       "12"
      ]
     },
     "execution_count": 10,
     "metadata": {},
     "output_type": "execute_result"
    }
   ],
   "source": [
    "myfirstfun(10)"
   ]
  },
  {
   "cell_type": "markdown",
   "metadata": {},
   "source": [
    "### Named Arguments\n",
    "\n",
    "Python supports named arguments, unlike most languages, but similar to R:"
   ]
  },
  {
   "cell_type": "code",
   "execution_count": 11,
   "metadata": {
    "collapsed": false
   },
   "outputs": [
    {
     "data": {
      "text/plain": [
       "{'customer1': [1, 2, 3, 4]}"
      ]
     },
     "execution_count": 11,
     "metadata": {},
     "output_type": "execute_result"
    }
   ],
   "source": [
    "def myfunction(customer, basket):\n",
    "    return({customer: basket})\n",
    "myfunction(basket = [1,2,3,4], customer = \"customer1\")\n",
    "#by position, expect error"
   ]
  },
  {
   "cell_type": "markdown",
   "metadata": {},
   "source": [
    "We go by name, then order"
   ]
  },
  {
   "cell_type": "code",
   "execution_count": 15,
   "metadata": {
    "collapsed": false,
    "scrolled": true
   },
   "outputs": [
    {
     "name": "stdout",
     "output_type": "stream",
     "text": [
      "bananas\n",
      "1\n",
      "5\n",
      "1\n",
      "\n",
      "\n",
      "5\n",
      "oranges\n",
      "3\n",
      "3\n"
     ]
    }
   ],
   "source": [
    "def myfunction(item, number = 1, cost = 3, weight = 1):\n",
    "    for i in item,number,cost,weight:\n",
    "        print(i)\n",
    "myfunction(\"bananas\", cost = 5)\n",
    "print(\"\\n\")\n",
    "myfunction(5,\"oranges\", weight=3)"
   ]
  },
  {
   "cell_type": "markdown",
   "metadata": {},
   "source": [
    "We can combine named and unnamed values. Any positional arguments are passed as a tuple, any named arguments are passed as a dictionary. We add a \\* to positional, and \\*\\* to keyword arguments. Very often, we will see this arguments denoted as \\*args and \\*\\*kwargs, but we can name them whatever we'd like.\n",
    "\n",
    "Named arguments must go last:"
   ]
  },
  {
   "cell_type": "code",
   "execution_count": 17,
   "metadata": {
    "collapsed": false
   },
   "outputs": [
    {
     "name": "stdout",
     "output_type": "stream",
     "text": [
      "Positional: ('one', 'two', 'three')\n",
      "Keywords: {}\n",
      "Positional: ('one',)\n",
      "Keywords: {'b': 'three', 'a': 'two'}\n"
     ]
    }
   ],
   "source": [
    "def myfunction(*positional, **keywords):\n",
    "    print(\"Positional:\", positional)\n",
    "    print(\"Keywords:\", keywords)\n",
    "    \n",
    "myfunction('one', 'two', 'three')\n",
    "myfunction('one', a = 'two', b = 'three')"
   ]
  },
  {
   "cell_type": "code",
   "execution_count": 48,
   "metadata": {
    "collapsed": false
   },
   "outputs": [
    {
     "ename": "SyntaxError",
     "evalue": "positional argument follows keyword argument (<ipython-input-48-80cc4c5ccb1f>, line 1)",
     "output_type": "error",
     "traceback": [
      "\u001b[1;36m  File \u001b[1;32m\"<ipython-input-48-80cc4c5ccb1f>\"\u001b[1;36m, line \u001b[1;32m1\u001b[0m\n\u001b[1;33m    myfunction(a = 'one', b = 'two', 'three')\u001b[0m\n\u001b[1;37m                                    ^\u001b[0m\n\u001b[1;31mSyntaxError\u001b[0m\u001b[1;31m:\u001b[0m positional argument follows keyword argument\n"
     ]
    }
   ],
   "source": [
    "myfunction(a = 'one', b = 'two', 'three')"
   ]
  },
  {
   "cell_type": "markdown",
   "metadata": {},
   "source": [
    "### Warning\n",
    "\n",
    "For default values, we evaluate them at function definition - this saves time but can lead to error when using mutable defaults"
   ]
  },
  {
   "cell_type": "code",
   "execution_count": 10,
   "metadata": {
    "collapsed": false
   },
   "outputs": [
    {
     "name": "stdout",
     "output_type": "stream",
     "text": [
      "1: 35184372088832\n",
      "2: 4\n"
     ]
    },
    {
     "ename": "NameError",
     "evalue": "name 'b' is not defined",
     "output_type": "error",
     "traceback": [
      "\u001b[1;31m---------------------------------------------------------------------------\u001b[0m",
      "\u001b[1;31mNameError\u001b[0m                                 Traceback (most recent call last)",
      "\u001b[1;32m<ipython-input-10-77c7705ebe6e>\u001b[0m in \u001b[0;36m<module>\u001b[1;34m()\u001b[0m\n\u001b[0;32m      3\u001b[0m \u001b[0mprint\u001b[0m\u001b[1;33m(\u001b[0m\u001b[0mmyfunction\u001b[0m\u001b[1;33m(\u001b[0m\u001b[1;33m)\u001b[0m\u001b[1;33m)\u001b[0m\u001b[1;33m\u001b[0m\u001b[0m\n\u001b[0;32m      4\u001b[0m \u001b[0mprint\u001b[0m\u001b[1;33m(\u001b[0m\u001b[0mmyfunction\u001b[0m\u001b[1;33m(\u001b[0m\u001b[1;34m\"2\"\u001b[0m\u001b[1;33m,\u001b[0m\u001b[1;36m4\u001b[0m\u001b[1;33m)\u001b[0m\u001b[1;33m)\u001b[0m\u001b[1;33m\u001b[0m\u001b[0m\n\u001b[1;32m----> 5\u001b[1;33m \u001b[0mprint\u001b[0m\u001b[1;33m(\u001b[0m\u001b[0mb\u001b[0m\u001b[1;33m)\u001b[0m \u001b[1;31m#only locally defined\u001b[0m\u001b[1;33m\u001b[0m\u001b[0m\n\u001b[0m",
      "\u001b[1;31mNameError\u001b[0m: name 'b' is not defined"
     ]
    }
   ],
   "source": [
    "def myfunction(customer = \"1\", spend = 2**45):\n",
    "    return(customer + \": \" + str(spend))\n",
    "print(myfunction())\n",
    "print(myfunction(\"2\",4))\n",
    "print(b) #only locally defined"
   ]
  },
  {
   "cell_type": "code",
   "execution_count": 18,
   "metadata": {
    "collapsed": false
   },
   "outputs": [
    {
     "name": "stdout",
     "output_type": "stream",
     "text": [
      "['apples']\n",
      "['apples', 'bananas']\n"
     ]
    }
   ],
   "source": [
    "def myfunction(item = \"apples\", basket = []):\n",
    "    basket.append(item)\n",
    "    return(basket)\n",
    "    \n",
    "print(myfunction(\"apples\"))\n",
    "print(myfunction(\"bananas\"))\n",
    "#extremely weird behaviour for anyone coming from R!"
   ]
  },
  {
   "cell_type": "code",
   "execution_count": 19,
   "metadata": {
    "collapsed": false
   },
   "outputs": [
    {
     "name": "stdout",
     "output_type": "stream",
     "text": [
      "['apples']\n",
      "['bananas']\n"
     ]
    }
   ],
   "source": [
    "def myfunction(item = 1, basket = None):\n",
    "    if basket is None:\n",
    "        basket = []\n",
    "    basket.append(item)\n",
    "    return(basket)\n",
    "print(myfunction(\"apples\"))\n",
    "print(myfunction(\"bananas\"))"
   ]
  },
  {
   "cell_type": "markdown",
   "metadata": {},
   "source": [
    "### Closures\n",
    "\n",
    "We can do almost anything we'd like inside a function, including defining other functions:"
   ]
  },
  {
   "cell_type": "code",
   "execution_count": 20,
   "metadata": {
    "collapsed": false
   },
   "outputs": [
    {
     "data": {
      "text/plain": [
       "64"
      ]
     },
     "execution_count": 20,
     "metadata": {},
     "output_type": "execute_result"
    }
   ],
   "source": [
    "def internaldef(a,b):\n",
    "    def helper(c):\n",
    "        return(c ** 5)\n",
    "    return(helper(a) + helper(b))\n",
    "internaldef(2,2)"
   ]
  },
  {
   "cell_type": "markdown",
   "metadata": {},
   "source": [
    "Internal functions have access to the enclosing variables:"
   ]
  },
  {
   "cell_type": "code",
   "execution_count": 21,
   "metadata": {
    "collapsed": false
   },
   "outputs": [
    {
     "data": {
      "text/plain": [
       "8"
      ]
     },
     "execution_count": 21,
     "metadata": {},
     "output_type": "execute_result"
    }
   ],
   "source": [
    "def internaldef(a,b):\n",
    "    def helper(c):\n",
    "        return(c ** b)\n",
    "    return(helper(a) + helper(b))\n",
    "internaldef(2,2)"
   ]
  },
  {
   "cell_type": "markdown",
   "metadata": {},
   "source": [
    "And we can even return them."
   ]
  },
  {
   "cell_type": "code",
   "execution_count": 23,
   "metadata": {
    "collapsed": false
   },
   "outputs": [
    {
     "data": {
      "text/plain": [
       "81"
      ]
     },
     "execution_count": 23,
     "metadata": {},
     "output_type": "execute_result"
    }
   ],
   "source": [
    "def makepow(a):\n",
    "    def pown(num):\n",
    "        return(num ** a)\n",
    "    return(pown)\n",
    "pow4 = makepow(4)\n",
    "pow4(3)"
   ]
  },
  {
   "cell_type": "markdown",
   "metadata": {},
   "source": [
    "A function defined in this manner comes with its own enclosing environment and is termed a closure"
   ]
  },
  {
   "cell_type": "code",
   "execution_count": 24,
   "metadata": {
    "collapsed": false
   },
   "outputs": [
    {
     "name": "stdout",
     "output_type": "stream",
     "text": [
      "  3           0 LOAD_FAST                0 (num)\n",
      "              3 LOAD_DEREF               0 (a)\n",
      "              6 BINARY_POWER\n",
      "              7 RETURN_VALUE\n"
     ]
    }
   ],
   "source": [
    "import dis\n",
    "dis.dis(pow4)"
   ]
  },
  {
   "cell_type": "code",
   "execution_count": 25,
   "metadata": {
    "collapsed": false
   },
   "outputs": [
    {
     "data": {
      "text/plain": [
       "4"
      ]
     },
     "execution_count": 25,
     "metadata": {},
     "output_type": "execute_result"
    }
   ],
   "source": [
    "pow4.__closure__[0].cell_contents"
   ]
  },
  {
   "cell_type": "markdown",
   "metadata": {},
   "source": [
    "More about this once we begin object orientated programming! For now, know that everything in Python is an object, and we have called the \\__closure\\__ method on our function object to get out its values"
   ]
  },
  {
   "cell_type": "markdown",
   "metadata": {},
   "source": [
    "### Lambda Functions and map\n",
    "\n",
    "Lambda functions are functions which are defined and used in the same place - they are 'anonymous' (see Rs version `lapply(x, function(z) z^2`)). They are generally used inside another statement, where defining a function is not worth the time.\n",
    "\n",
    "We can also use the lamdba to define a function:"
   ]
  },
  {
   "cell_type": "code",
   "execution_count": 26,
   "metadata": {
    "collapsed": false
   },
   "outputs": [
    {
     "data": {
      "text/plain": [
       "3"
      ]
     },
     "execution_count": 26,
     "metadata": {},
     "output_type": "execute_result"
    }
   ],
   "source": [
    "myfun = lambda x,y: x+y\n",
    "myfun(1,2)"
   ]
  },
  {
   "cell_type": "code",
   "execution_count": 27,
   "metadata": {
    "collapsed": false
   },
   "outputs": [
    {
     "data": {
      "text/plain": [
       "[3, 7, 11]"
      ]
     },
     "execution_count": 27,
     "metadata": {},
     "output_type": "execute_result"
    }
   ],
   "source": [
    "l = [[1,2],[3,4],[5,6]]\n",
    "[myfun(x,y) for x,y in l]"
   ]
  },
  {
   "cell_type": "markdown",
   "metadata": {},
   "source": [
    "`map` takes two arguments - a function (often a lambda function) and a sequence (or sequences) to iterate over"
   ]
  },
  {
   "cell_type": "code",
   "execution_count": 29,
   "metadata": {
    "collapsed": false
   },
   "outputs": [
    {
     "data": {
      "text/plain": [
       "[1, 4, 3, 16, 5, 36]"
      ]
     },
     "execution_count": 29,
     "metadata": {},
     "output_type": "execute_result"
    }
   ],
   "source": [
    "l = [1,2,3,4,5,6]\n",
    "x = map(lambda x: x if x % 2 == 1 else x **2, l)\n",
    "list(x)"
   ]
  },
  {
   "cell_type": "code",
   "execution_count": 30,
   "metadata": {
    "collapsed": false
   },
   "outputs": [
    {
     "data": {
      "text/plain": [
       "[0, 7, 16, 27, 40, 55]"
      ]
     },
     "execution_count": 30,
     "metadata": {},
     "output_type": "execute_result"
    }
   ],
   "source": [
    "l = range(6)\n",
    "k = range(6,12)\n",
    "x = map(lambda x,y : x*y, l,k)\n",
    "list(x)"
   ]
  },
  {
   "cell_type": "code",
   "execution_count": 51,
   "metadata": {
    "collapsed": false
   },
   "outputs": [
    {
     "data": {
      "text/plain": [
       "[6, 1, 8, 3, 10, 5]"
      ]
     },
     "execution_count": 51,
     "metadata": {},
     "output_type": "execute_result"
    }
   ],
   "source": [
    "x = map(lambda x, y: x if x%2 == 1 else y, l,k)\n",
    "list(x)"
   ]
  },
  {
   "cell_type": "markdown",
   "metadata": {},
   "source": [
    "### Functional Programming : Filter, Any, All and Reduce\n",
    "\n",
    "In addition to map, several other built in functions use lambda functions, or take functions as arguments. Python purists might say to use the more explicit loops, but functional programming is highly optimized."
   ]
  },
  {
   "cell_type": "markdown",
   "metadata": {},
   "source": [
    "### Filter\n",
    "\n",
    "Filter is used to remove certain items from a sequence: "
   ]
  },
  {
   "cell_type": "code",
   "execution_count": 52,
   "metadata": {
    "collapsed": false
   },
   "outputs": [
    {
     "data": {
      "text/plain": [
       "['oranges', 'bananas']"
      ]
     },
     "execution_count": 52,
     "metadata": {},
     "output_type": "execute_result"
    }
   ],
   "source": [
    "basket = ['oranges','bread','bananas','milk']\n",
    "fruits = ['oranges','apples','bananas','kiwis','strawberries', 'pears']\n",
    "out = []\n",
    "for item in basket:\n",
    "    if item in fruits:\n",
    "        out.append(item)\n",
    "out"
   ]
  },
  {
   "cell_type": "code",
   "execution_count": 53,
   "metadata": {
    "collapsed": false
   },
   "outputs": [
    {
     "data": {
      "text/plain": [
       "['oranges', 'bananas']"
      ]
     },
     "execution_count": 53,
     "metadata": {},
     "output_type": "execute_result"
    }
   ],
   "source": [
    "x = filter(lambda x: x in fruits, basket)\n",
    "list(x)"
   ]
  },
  {
   "cell_type": "markdown",
   "metadata": {},
   "source": [
    "### Any and all\n",
    "\n",
    "any and all are functions which check if every (or any) member or an iterable are True:"
   ]
  },
  {
   "cell_type": "code",
   "execution_count": 31,
   "metadata": {
    "collapsed": false
   },
   "outputs": [
    {
     "name": "stdout",
     "output_type": "stream",
     "text": [
      "True\n",
      "True\n"
     ]
    }
   ],
   "source": [
    "l = [True, True, True]\n",
    "print(all(l))\n",
    "print(any(l))"
   ]
  },
  {
   "cell_type": "markdown",
   "metadata": {},
   "source": [
    "We can use them similar to generators however:"
   ]
  },
  {
   "cell_type": "code",
   "execution_count": 55,
   "metadata": {
    "collapsed": false
   },
   "outputs": [
    {
     "name": "stdout",
     "output_type": "stream",
     "text": [
      "True\n",
      "False\n"
     ]
    }
   ],
   "source": [
    "basket = ['oranges','bread','bananas','milk']\n",
    "fruits = ['oranges','apples','bananas','kiwis','strawberries', 'pears']\n",
    "print(any(item in fruits for item in basket))\n",
    "print(all(item in fruits for item in basket))"
   ]
  },
  {
   "cell_type": "code",
   "execution_count": 32,
   "metadata": {
    "collapsed": false
   },
   "outputs": [
    {
     "name": "stdout",
     "output_type": "stream",
     "text": [
      "False\n",
      "True\n"
     ]
    }
   ],
   "source": [
    "#empty lists have differing behaviour\n",
    "l = []\n",
    "print(any(l))\n",
    "print(all(l))"
   ]
  },
  {
   "cell_type": "markdown",
   "metadata": {},
   "source": [
    "### Reduce\n",
    "\n",
    "Reduce was removed from base Python in version 3.0, but remains a source of controversy, as it is a key function in higher level programming languages. The official advice is to use a loop:"
   ]
  },
  {
   "cell_type": "code",
   "execution_count": 11,
   "metadata": {
    "collapsed": false
   },
   "outputs": [
    {
     "data": {
      "text/plain": [
       "1152921504606846976"
      ]
     },
     "execution_count": 11,
     "metadata": {},
     "output_type": "execute_result"
    }
   ],
   "source": [
    "l = [2,3,4,5]\n",
    "result = l[0]\n",
    "\n",
    "for i in l[1:]:\n",
    "    result = result**i\n",
    "result"
   ]
  },
  {
   "cell_type": "markdown",
   "metadata": {},
   "source": [
    "We can import reduce from functools:"
   ]
  },
  {
   "cell_type": "code",
   "execution_count": 33,
   "metadata": {
    "collapsed": false
   },
   "outputs": [
    {
     "data": {
      "text/plain": [
       "1152921504606846976"
      ]
     },
     "execution_count": 33,
     "metadata": {},
     "output_type": "execute_result"
    }
   ],
   "source": [
    "from functools import reduce\n",
    "\n",
    "l = [2,3,4,5]\n",
    "reduce(lambda x, y: x ** y, l)"
   ]
  },
  {
   "cell_type": "markdown",
   "metadata": {},
   "source": [
    "If you can't figure out what we've done, that's one of the reasons why reduce was removed. It works by taking a list of arguments, applying the first function to the first two members, then to the output of that, and the next variable....\n",
    "\n",
    "(((2 \\*\\* 3) \\*\\* 4) \\*\\* 5)"
   ]
  },
  {
   "cell_type": "markdown",
   "metadata": {},
   "source": [
    "### Call by reference and side effects\n",
    "\n",
    "In programming, we have two ways of passing values into functions, calling by reference, or calling by value. Python uses both (and calls it passing by name)!\n",
    "\n",
    "Call by value uses the values of an argument, and never modifies the actual passed value (R does this, as do most versions of SQL): \n"
   ]
  },
  {
   "cell_type": "code",
   "execution_count": 34,
   "metadata": {
    "collapsed": false
   },
   "outputs": [
    {
     "name": "stdout",
     "output_type": "stream",
     "text": [
      "50\n",
      "45\n"
     ]
    }
   ],
   "source": [
    "a = 45\n",
    "def myfunc(x):\n",
    "    x = x + 5\n",
    "    return(x)\n",
    "print(myfunc(a))\n",
    "print(a)"
   ]
  },
  {
   "cell_type": "markdown",
   "metadata": {},
   "source": [
    "For immutable objects, we always pass by value. Under the hood, Python keeps the variable in the same location in memory, until we modify it (this is a considerable speed up over copying if we pass a large object). Using the id function, we can see what is going on:"
   ]
  },
  {
   "cell_type": "code",
   "execution_count": 61,
   "metadata": {
    "collapsed": false
   },
   "outputs": [
    {
     "name": "stdout",
     "output_type": "stream",
     "text": [
      "a is at 500233360\n",
      "x is at 500233360\n",
      "x is now at 500233520\n",
      "50\n",
      "45\n"
     ]
    }
   ],
   "source": [
    "a = 45\n",
    "print(\"a is at \"+ str(id(a)))\n",
    "def myfunc(x):\n",
    "    print(\"x is at \" + str(id(x)))\n",
    "    x = x + 5\n",
    "    print(\"x is now at \" + str(id(x)))\n",
    "    return(x)\n",
    "print(myfunc(a))\n",
    "print(a)"
   ]
  },
  {
   "cell_type": "markdown",
   "metadata": {},
   "source": [
    "For mutable objects, we pass by reference and we can cause all sorts of trouble (or desirable things). Again, this is similar to c++ pointers and can be implemented in some SQL builds using IN OUT parameters:"
   ]
  },
  {
   "cell_type": "code",
   "execution_count": 62,
   "metadata": {
    "collapsed": false
   },
   "outputs": [
    {
     "name": "stdout",
     "output_type": "stream",
     "text": [
      "3\n",
      "[1, 2, 3, 4]\n"
     ]
    }
   ],
   "source": [
    "a = [1,2,3]\n",
    "def myfunc(x):\n",
    "    x += [4]\n",
    "    return 3\n",
    "print(myfunc(a))\n",
    "print(a)\n",
    "#a is changed! even though we didn't return it!"
   ]
  },
  {
   "cell_type": "markdown",
   "metadata": {},
   "source": [
    "Again, we can track ids to see what is happening under the hood:"
   ]
  },
  {
   "cell_type": "code",
   "execution_count": 36,
   "metadata": {
    "collapsed": false
   },
   "outputs": [
    {
     "name": "stdout",
     "output_type": "stream",
     "text": [
      "a is at 2253675131528\n",
      "x is at 2253675131528\n",
      "x is now at 2253675131528\n",
      "3\n",
      "[1, 2, 3, 4]\n"
     ]
    }
   ],
   "source": [
    "a = [1,2,3]\n",
    "print(\"a is at \"+ str(id(a)))\n",
    "def myfunc(x):\n",
    "    print(\"x is at \"+ str(id(x)))\n",
    "    x += [4]\n",
    "    print(\"x is now at \" + str(id(x)))\n",
    "    return 3\n",
    "print(myfunc(a))\n",
    "print(a)"
   ]
  },
  {
   "cell_type": "markdown",
   "metadata": {},
   "source": [
    "Technically, we have caused a \"side effect\" in that we have modifed the global environment inside a function. In functional programming langauges, this is a major no-no. In object orientated languages, this is perfectly reasonable as long as you are careful."
   ]
  },
  {
   "cell_type": "markdown",
   "metadata": {},
   "source": [
    "### Scoping in Python\n",
    "\n",
    "Scoping is a technical term for where and how a language searches for, and modifies variables. Hopefully the below makes sense to you:"
   ]
  },
  {
   "cell_type": "code",
   "execution_count": 38,
   "metadata": {
    "collapsed": false
   },
   "outputs": [
    {
     "name": "stdout",
     "output_type": "stream",
     "text": [
      "25\n",
      "1\n"
     ]
    }
   ],
   "source": [
    "x = 1\n",
    "def myfunc(y):\n",
    "    x = y\n",
    "    return(x)\n",
    "print(myfunc(25))\n",
    "print(x)"
   ]
  },
  {
   "cell_type": "markdown",
   "metadata": {},
   "source": [
    "We have not modified the global x, as x is local to the function.\n",
    "Python uses LEGB scoping rules to search for variables:\n",
    "\n",
    "* Local - is there a local definition available inside the current enclosing environment?\n",
    "* Enclosing - is there an enclosing defintion?\n",
    "* Global - is there a global definition?\n",
    "* Built-in - is there a built in definition?\n",
    "\n",
    "Here is an example:"
   ]
  },
  {
   "cell_type": "code",
   "execution_count": 40,
   "metadata": {
    "collapsed": false
   },
   "outputs": [
    {
     "name": "stdout",
     "output_type": "stream",
     "text": [
      "c is enclosed\n",
      "d is local\n",
      "x is global\n",
      "<built-in function abs>\n"
     ]
    }
   ],
   "source": [
    "x = \"x\"\n",
    "a = \"a\"\n",
    "b = \"b\"\n",
    "def myfunc(a,b):\n",
    "    def myfunc2():\n",
    "        print(a + \" is enclosed\")\n",
    "    myfunc2()\n",
    "    print(b + \" is local\")\n",
    "    print(x + \" is global\")\n",
    "    print(abs)\n",
    "\n",
    "myfunc(\"c\", \"d\")"
   ]
  },
  {
   "cell_type": "markdown",
   "metadata": {},
   "source": [
    "If we want to change a global variable from inside a function, we can if it is mutable (see the above side effects section), otherwise we can use the `global` command:"
   ]
  },
  {
   "cell_type": "code",
   "execution_count": 42,
   "metadata": {
    "collapsed": false
   },
   "outputs": [
    {
     "name": "stdout",
     "output_type": "stream",
     "text": [
      "10\n",
      "0.2\n"
     ]
    }
   ],
   "source": [
    "x = 2\n",
    "def myfunc(y):\n",
    "    global x\n",
    "    x /= 10\n",
    "    return(y)\n",
    "print(myfunc(10))\n",
    "print(x)"
   ]
  },
  {
   "cell_type": "markdown",
   "metadata": {},
   "source": [
    "Again, this is causing side effects, which may or may not be desirable. Use `global` with care.\n",
    "\n",
    "If we are bugfixing, we can use the `globals()` and `locals()` functions to print all the variables we can see in an environment."
   ]
  },
  {
   "cell_type": "markdown",
   "metadata": {},
   "source": [
    "### Dynamic programming and caching\n",
    "\n",
    "Dynamic programming is a method of optimizing functions by cutting the problem into small pieces. Here we will run through a recursive example, however many other methods exist. I'd love to teach you guys some examples of where they might help - however algorithms is outside the scope of the course.\n",
    "\n",
    "You might recall from the initial pre test, we can create the fibonacci sequence in a couple of ways:"
   ]
  },
  {
   "cell_type": "code",
   "execution_count": 63,
   "metadata": {
    "collapsed": false
   },
   "outputs": [
    {
     "name": "stdout",
     "output_type": "stream",
     "text": [
      "[1, 1, 2, 3, 5, 8, 13, 21, 34]\n",
      "[1, 1, 2, 3, 5, 8, 13, 21, 34]\n"
     ]
    }
   ],
   "source": [
    "def fibo(x):\n",
    "    if x < 3:\n",
    "        return 1\n",
    "    a,b,counter = 1,2,3\n",
    "    while counter < x:\n",
    "        a,b,counter = b,a+b,counter+1\n",
    "    return(b)\n",
    "print(list(map(fibo, range(1,10))))\n",
    "print([fibo(x) for x in range(1,10)])"
   ]
  },
  {
   "cell_type": "code",
   "execution_count": 64,
   "metadata": {
    "collapsed": false
   },
   "outputs": [
    {
     "data": {
      "text/plain": [
       "[1, 1, 2, 3, 5, 8, 13, 21, 34]"
      ]
     },
     "execution_count": 64,
     "metadata": {},
     "output_type": "execute_result"
    }
   ],
   "source": [
    "def fiborecur(x):\n",
    "    if x < 3:\n",
    "        return 1\n",
    "    return fiborecur(x - 1) + fiborecur(x - 2)\n",
    "list(map(fiborecur, range(1,10)))"
   ]
  },
  {
   "cell_type": "markdown",
   "metadata": {},
   "source": [
    "The second of these is dynamic! We have made a recursive function, to do a very simple task multiple times\n",
    "\n",
    "However, let's check the performance using %timeit"
   ]
  },
  {
   "cell_type": "code",
   "execution_count": 65,
   "metadata": {
    "collapsed": false
   },
   "outputs": [
    {
     "name": "stdout",
     "output_type": "stream",
     "text": [
      "100000 loops, best of 3: 19.3 µs per loop\n",
      "1000 loops, best of 3: 457 µs per loop\n"
     ]
    }
   ],
   "source": [
    "%timeit list(map(fibo, range(1,15)))\n",
    "%timeit list(map(fiborecur, range(1,15)))"
   ]
  },
  {
   "cell_type": "markdown",
   "metadata": {},
   "source": [
    "It performs much worse! And only gets worse as we increase x. Why?\n",
    "\n",
    "We can think a little about how it works - the non-recursive solution has to do x calculations, one for each increase.\n",
    "\n",
    "The recursive solution has to do 2^x calculations - each call will have two offspring calls.\n",
    "\n",
    "Can we make it better? One way is to use a dictionary to remember our outputs."
   ]
  },
  {
   "cell_type": "code",
   "execution_count": 65,
   "metadata": {
    "collapsed": false
   },
   "outputs": [
    {
     "name": "stdout",
     "output_type": "stream",
     "text": [
      "55\n",
      "{0: 0, 1: 1, 2: 1, 3: 2, 4: 3, 5: 5, 6: 8, 7: 13, 8: 21, 9: 34, 10: 55}\n"
     ]
    }
   ],
   "source": [
    "fib_cache = {}\n",
    "def fiborecur2(x):\n",
    "    if x in fib_cache:\n",
    "        return fib_cache[x]\n",
    "    fib_cache[x] = x if x < 2 else fiborecur2(x - 1) + fiborecur2(x - 2)\n",
    "    return fib_cache[x]\n",
    "print(fiborecur2(10))\n",
    "print(fib_cache)"
   ]
  },
  {
   "cell_type": "code",
   "execution_count": 66,
   "metadata": {
    "collapsed": false,
    "scrolled": true
   },
   "outputs": [
    {
     "name": "stdout",
     "output_type": "stream",
     "text": [
      "100000 loops, best of 3: 9.31 µs per loop\n",
      "1000 loops, best of 3: 285 µs per loop\n",
      "100000 loops, best of 3: 3.28 µs per loop\n"
     ]
    }
   ],
   "source": [
    "%timeit list(map(fibo, range(1,15)))\n",
    "%timeit list(map(fiborecur, range(1,15)))\n",
    "%timeit list(map(fiborecur2, range(1,15)))"
   ]
  },
  {
   "cell_type": "markdown",
   "metadata": {},
   "source": [
    "Great! Can we generalise this method? We could create a closure:"
   ]
  },
  {
   "cell_type": "code",
   "execution_count": 22,
   "metadata": {
    "collapsed": false
   },
   "outputs": [],
   "source": [
    "def memoize(myfunction):\n",
    "    cache = {}\n",
    "    def function_to_cache(*args):\n",
    "        if args in cache:\n",
    "            return cache[args]\n",
    "        else:\n",
    "            cache[args] = myfunction(*args)\n",
    "            return cache[args]\n",
    "    return function_to_cache\n",
    "\n",
    "fiborecur3 = memoize(fiborecur)"
   ]
  },
  {
   "cell_type": "code",
   "execution_count": 16,
   "metadata": {
    "collapsed": false
   },
   "outputs": [
    {
     "name": "stdout",
     "output_type": "stream",
     "text": [
      "The slowest run took 5.62 times longer than the fastest. This could mean that an intermediate result is being cached \n",
      "1000000 loops, best of 3: 342 ns per loop\n",
      "The slowest run took 8.69 times longer than the fastest. This could mean that an intermediate result is being cached \n",
      "1000000 loops, best of 3: 265 ns per loop\n",
      "1000 loops, best of 3: 289 µs per loop\n"
     ]
    }
   ],
   "source": [
    "%timeit fiborecur3(15)\n",
    "%timeit fiborecur2(15)\n",
    "%timeit fiborecur(15)"
   ]
  },
  {
   "cell_type": "markdown",
   "metadata": {},
   "source": [
    "### Decorators\n",
    "\n",
    "We can modify functions in Python using decorators. This is denoted by the @ symbol:"
   ]
  },
  {
   "cell_type": "code",
   "execution_count": 18,
   "metadata": {
    "collapsed": false
   },
   "outputs": [
    {
     "name": "stdout",
     "output_type": "stream",
     "text": [
      "The slowest run took 885.25 times longer than the fastest. This could mean that an intermediate result is being cached \n",
      "1000000 loops, best of 3: 347 ns per loop\n"
     ]
    }
   ],
   "source": [
    "@memoize\n",
    "def fibn(x):\n",
    "    if x < 3:\n",
    "        return 1\n",
    "    return fiborecur(x - 1) + fiborecur(x - 2)\n",
    "\n",
    "%timeit fibn(15)"
   ]
  },
  {
   "cell_type": "markdown",
   "metadata": {},
   "source": [
    "Decorators allow us to modify functions:"
   ]
  },
  {
   "cell_type": "code",
   "execution_count": 20,
   "metadata": {
    "collapsed": false
   },
   "outputs": [
    {
     "name": "stdout",
     "output_type": "stream",
     "text": [
      "Hello Precima\n"
     ]
    }
   ],
   "source": [
    "def myfunc(x):\n",
    "    print(\"Hello \" + x)\n",
    "\n",
    "myfunc(\"Precima\")"
   ]
  },
  {
   "cell_type": "code",
   "execution_count": 24,
   "metadata": {
    "collapsed": false
   },
   "outputs": [
    {
     "name": "stdout",
     "output_type": "stream",
     "text": [
      "Hello Precima\n",
      "That's the end of class two\n"
     ]
    }
   ],
   "source": [
    "def mydecorator(func):\n",
    "    def wrapper(x):\n",
    "        func(x)\n",
    "        print(\"That's the end of class two\")\n",
    "    return wrapper\n",
    "\n",
    "@mydecorator\n",
    "def myfunc(x):\n",
    "    print(\"Hello \" + x)\n",
    "\n",
    "myfunc(\"Precima\")"
   ]
  },
  {
   "cell_type": "markdown",
   "metadata": {},
   "source": [
    "We will cover in more detail how decorators work towards the end of the course\n",
    "\n",
    "## Exercises\n",
    "\n",
    "* Rewrite your loop from last lessons exercises to find if all the letter in a string are in another string as a function. Can you think of a dynamic programming way to remove duplicates?\n",
    "\n",
    "* Rewrite your zip loop from last lesson exercises as a function (Write a modification of the current zip function, to work until the longest of the inputs)\n",
    "\n",
    "* Make your own function for converting fahrenheit to celsius\n",
    "\n",
    "* Update the above function to have a docstring, explaining what it does\n",
    "\n",
    "* Update the function to only take int or floats - use an assertion\n",
    "\n",
    "* Write a function to take an arbitrary number of unnamed arguments, and return\n",
    "their sum. Make sure you have a docstring, and test for numerics.\n",
    "\n",
    "* Modify the above argument to use `reduce`\n",
    "\n",
    "* Write a function that takes an arbitrary number of named arguments, and\n",
    "returns the key of those that had even numbers as their input. myfunc(a = 1, b =\n",
    "2, c = 3, d = 4) should return ['b', 'd']\n",
    "\n",
    "* Write a function to make a function to check if an item is in a list: myfruits\n",
    "= myfunc(fruits), myfruits([\"apple\", 'banana', 'potato', 'cauliflower']) should\n",
    "return [True, True, False, False]. fruits =\n",
    "['oranges','apples','bananas','kiwis','strawberries', 'pears'].\n",
    "\n",
    "* Update the above function, to generate a function which will return a single\n",
    "True or False if any members of the list are present.\n",
    "\n",
    "* Update the above function to return as above, but with a return of True when\n",
    "called on an empty list: myfruits([]) will give True\n",
    "\n",
    "* (Advanced) Write a function to find the xth prime number: myprime(x)\n",
    "\n",
    "* Modify the above function to be recursive\n",
    "\n",
    "* Modify this function to be cached - does it help with performance? Why/Why not?"
   ]
  }
 ],
 "metadata": {
  "kernelspec": {
   "display_name": "Python 3",
   "language": "python",
   "name": "python3"
  },
  "language_info": {
   "codemirror_mode": {
    "name": "ipython",
    "version": 3
   },
   "file_extension": ".py",
   "mimetype": "text/x-python",
   "name": "python",
   "nbconvert_exporter": "python",
   "pygments_lexer": "ipython3",
   "version": "3.5.1"
  }
 },
 "nbformat": 4,
 "nbformat_minor": 0
}
