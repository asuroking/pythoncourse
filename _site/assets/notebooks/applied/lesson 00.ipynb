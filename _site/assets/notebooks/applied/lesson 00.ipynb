{
 "cells": [
  {
   "cell_type": "markdown",
   "metadata": {
    "collapsed": false
   },
   "source": [
    "## Welcome to the Python course @ Precima\n",
    "\n",
    "Hopefully everyone has read the syllabus, cheat sheets and course outline on the website.\n",
    "\n",
    "They are available at www.jeremy.kiwi.nz/pythoncourse.\n",
    "\n",
    "All lessons are made as iPython notebooks and will be available on this site to download. Grab todays lesson from [this link!](/pythoncourse/assets/notebooks/applied/lesson 00.ipynb).\n",
    "\n",
    "Today we will briefly go over course logistics and the Anaconda environment and then dive into Python data types.\n",
    "\n",
    "### Python\n",
    "\n",
    "Python is a programming language first released in 1991 by Guido van Rossum and one of the most popular languages used in computing today. Python currently ranks as the [5th most common language used on github](https://github.com/blog/2047-language-trends-on-github). Guido is officially the Benevolent- Dictator For Life (BDFL) of Python, and currently works at Dropbox, after being on staff at Google from 2005-2012. Python is open source and free - you can download and read the [source online](https://www.python.org/downloads/release/python-351/).\n",
    "\n",
    "Python is used as a scripting language, as well as in web development and to create applications - some of the more popular websites and applications running at least partially on Python include: Google, Youtube, Facebook, Instagram, Reddit, Dropbox, Civilization IV, EVE Online and BitTorrent.\n",
    "\n",
    "Python as a language is based on readability, flexibility, simplicity and extensibility. \n",
    "\n",
    "To see the Philosophy of Python, enter the below command into your interpreter, without the #:"
   ]
  },
  {
   "cell_type": "code",
   "execution_count": 214,
   "metadata": {
    "collapsed": false
   },
   "outputs": [],
   "source": [
    "#import this"
   ]
  },
  {
   "cell_type": "markdown",
   "metadata": {
    "collapsed": true
   },
   "source": [
    "The extensibility of Python has caused it to be adopted, along with R, as one of the premier data science programming languages.\n",
    "\n",
    "Python has had many added on modules (or libraries) added to it, to allow data science work which we will cover in this course.\n",
    "\n",
    "In general compared to R, Python is faster, more programmer focussed and less restrictive in licensing. The downside is new statistical methods tend to appear in R before Python, although as the community grows, this has become less of a problem.\n",
    "\n",
    "### 2.7 vs 3\n",
    "\n",
    "In 2008, Python version 3.0 was released. Due to the number and nature of changes, Python 2.6 and Python 3.0 were not compatible. This has lead to a split in the Python community, as many users were unwilling to fix existing code to 3 compatibility, and have since continued to develop Python 2.6 into 2.7, while 3.0 has been developed in parallel and currently stands at version 3.5.\n",
    "\n",
    "In this course, we will use Python 3. This is due to the majority of users having no legacy code to worry about, the better memory management, and the availability of the data science stack in Python 3. If you are a die hard Python 2.7 user, feel free to continue using it, although you will need to fix the code yourself.\n",
    "\n",
    "In the level we will be coding at the changes are not too big, the largest differences we will see are `print()` vs `print`, `xrange` vs `range` and other generators. Python code found online will often be 2.7, but should be readable by a 3 trained user.\n",
    "\n",
    "### Anaconda, iPython and Spyder\n",
    "\n",
    "We will use Anaconda, a distribution of Python by Continuum Analytics, put together for use in data science. \n",
    "\n",
    "Anaconda comes with most of the modules we need for data analysis, as well as Jupyter notebooks, and the IDE we will use for the first couple of lessons, Spyder.\n",
    "\n",
    "We have installed the launcher, which allows updating and launching these apps, the Spyder IDE which allows coding and running scripts in an integrated environment, the iPython-QT console, which is an advanced console allowing inline graphing, and the iPython notebook, which allows development in interactive notebooks in the browser. These programs all run Python code - the difference is in how you interact with the environment. \n",
    "\n",
    "iPython notebooks are currently in the process of being rebranded into Jupyter notebooks - the launcher and documentation will refer to them interchangeably.\n",
    "\n",
    "Coding along with the lesson is encouraged! \n",
    "\n",
    "\n",
    "### Course Logistics\n",
    "\n",
    "This stream of the course will cover applied data science in Python. We will start by covering the basic data types and structures, move on to loops and statements, then functions and classes. In lessons 4 and 5 we will introduce the standard data  modules, Pandas and NumPy, then move on into graphing, reproducible research and machine learning in the later stages of the course. Please let me know if you have any particular applications or problems, and we will try and address the common ones in class.\n",
    "\n",
    "We are tracking progress, to make sure this course is giving value for your time - Please make sure you answer the quizzes and assessments we will send out later in the course.\n",
    "\n",
    "### Outside Resources\n",
    "\n",
    "A number of people have asked about text books or online resources for the course. Most Python tutorials online will assume a knowledge at around the level we will reach at the end of lesson 3. Until then, follow along on the website. From there I will recommend a text book and online resources.\n",
    "\n"
   ]
  },
  {
   "cell_type": "markdown",
   "metadata": {},
   "source": [
    "## Basic Data Types\n",
    "\n",
    "### Numbers\n",
    "\n",
    "Python acts as a calculator:"
   ]
  },
  {
   "cell_type": "code",
   "execution_count": 1,
   "metadata": {
    "collapsed": false
   },
   "outputs": [
    {
     "data": {
      "text/plain": [
       "5"
      ]
     },
     "execution_count": 1,
     "metadata": {},
     "output_type": "execute_result"
    }
   ],
   "source": [
    "3 + 2"
   ]
  },
  {
   "cell_type": "code",
   "execution_count": 2,
   "metadata": {
    "collapsed": false
   },
   "outputs": [
    {
     "data": {
      "text/plain": [
       "3"
      ]
     },
     "execution_count": 2,
     "metadata": {},
     "output_type": "execute_result"
    }
   ],
   "source": [
    "5 - 2"
   ]
  },
  {
   "cell_type": "code",
   "execution_count": 3,
   "metadata": {
    "collapsed": false,
    "scrolled": true
   },
   "outputs": [
    {
     "data": {
      "text/plain": [
       "6"
      ]
     },
     "execution_count": 3,
     "metadata": {},
     "output_type": "execute_result"
    }
   ],
   "source": [
    "3 * 2"
   ]
  },
  {
   "cell_type": "code",
   "execution_count": 4,
   "metadata": {
    "collapsed": false
   },
   "outputs": [
    {
     "data": {
      "text/plain": [
       "1"
      ]
     },
     "execution_count": 4,
     "metadata": {},
     "output_type": "execute_result"
    }
   ],
   "source": [
    "3//2"
   ]
  },
  {
   "cell_type": "code",
   "execution_count": 5,
   "metadata": {
    "collapsed": false
   },
   "outputs": [
    {
     "data": {
      "text/plain": [
       "9"
      ]
     },
     "execution_count": 5,
     "metadata": {},
     "output_type": "execute_result"
    }
   ],
   "source": [
    "3 * 3"
   ]
  },
  {
   "cell_type": "code",
   "execution_count": 6,
   "metadata": {
    "collapsed": false
   },
   "outputs": [
    {
     "data": {
      "text/plain": [
       "3"
      ]
     },
     "execution_count": 6,
     "metadata": {},
     "output_type": "execute_result"
    }
   ],
   "source": [
    "15 % 4"
   ]
  },
  {
   "cell_type": "code",
   "execution_count": 7,
   "metadata": {
    "collapsed": false
   },
   "outputs": [
    {
     "data": {
      "text/plain": [
       "64"
      ]
     },
     "execution_count": 7,
     "metadata": {},
     "output_type": "execute_result"
    }
   ],
   "source": [
    "4 ** 3"
   ]
  },
  {
   "cell_type": "markdown",
   "metadata": {},
   "source": [
    "Under the hood, Python has two (actually more) ways of representing numbers.\n",
    "\n",
    "We can see which one we are using `type()`. Python 2 users will know of floating division errors:"
   ]
  },
  {
   "cell_type": "code",
   "execution_count": 8,
   "metadata": {
    "collapsed": false
   },
   "outputs": [
    {
     "data": {
      "text/plain": [
       "1.5"
      ]
     },
     "execution_count": 8,
     "metadata": {},
     "output_type": "execute_result"
    }
   ],
   "source": [
    "3 / 2"
   ]
  },
  {
   "cell_type": "code",
   "execution_count": 9,
   "metadata": {
    "collapsed": false
   },
   "outputs": [
    {
     "data": {
      "text/plain": [
       "float"
      ]
     },
     "execution_count": 9,
     "metadata": {},
     "output_type": "execute_result"
    }
   ],
   "source": [
    "type(3 / 2)"
   ]
  },
  {
   "cell_type": "code",
   "execution_count": 10,
   "metadata": {
    "collapsed": false
   },
   "outputs": [
    {
     "data": {
      "text/plain": [
       "int"
      ]
     },
     "execution_count": 10,
     "metadata": {},
     "output_type": "execute_result"
    }
   ],
   "source": [
    "type(2)"
   ]
  },
  {
   "cell_type": "code",
   "execution_count": 11,
   "metadata": {
    "collapsed": false
   },
   "outputs": [
    {
     "data": {
      "text/plain": [
       "float"
      ]
     },
     "execution_count": 11,
     "metadata": {},
     "output_type": "execute_result"
    }
   ],
   "source": [
    "type(2.0)"
   ]
  },
  {
   "cell_type": "markdown",
   "metadata": {},
   "source": [
    "We can convert using `int`, or `float` - Python is not statically typed"
   ]
  },
  {
   "cell_type": "code",
   "execution_count": 12,
   "metadata": {
    "collapsed": false
   },
   "outputs": [
    {
     "data": {
      "text/plain": [
       "int"
      ]
     },
     "execution_count": 12,
     "metadata": {},
     "output_type": "execute_result"
    }
   ],
   "source": [
    "type(int(2.0))"
   ]
  },
  {
   "cell_type": "code",
   "execution_count": 13,
   "metadata": {
    "collapsed": false
   },
   "outputs": [
    {
     "data": {
      "text/plain": [
       "float"
      ]
     },
     "execution_count": 13,
     "metadata": {},
     "output_type": "execute_result"
    }
   ],
   "source": [
    "type(float(2))"
   ]
  },
  {
   "cell_type": "markdown",
   "metadata": {},
   "source": [
    "We can assign values to variables:"
   ]
  },
  {
   "cell_type": "code",
   "execution_count": 14,
   "metadata": {
    "collapsed": false
   },
   "outputs": [
    {
     "name": "stdout",
     "output_type": "stream",
     "text": [
      "23 16 -2 1.5\n"
     ]
    }
   ],
   "source": [
    "a = 23\n",
    "b = 2 ** 4\n",
    "c, d = 2 - 4, 3 / 2 \n",
    "print(a, b, c, d)"
   ]
  },
  {
   "cell_type": "markdown",
   "metadata": {},
   "source": [
    "Think of the value as being stored somewhere in the computers memory, and the variable being a sticky note referring to that point in memory.\n",
    "\n",
    "There are some rules about variable names - they cannot start with numbers, must be alphanumeric with no spaces, and should be lowercase with underscores and somewhat informative about what they represent:"
   ]
  },
  {
   "cell_type": "code",
   "execution_count": 15,
   "metadata": {
    "collapsed": false
   },
   "outputs": [
    {
     "ename": "SyntaxError",
     "evalue": "invalid syntax (<ipython-input-15-bad23dd73176>, line 1)",
     "output_type": "error",
     "traceback": [
      "\u001b[1;36m  File \u001b[1;32m\"<ipython-input-15-bad23dd73176>\"\u001b[1;36m, line \u001b[1;32m1\u001b[0m\n\u001b[1;33m    1a = 5\u001b[0m\n\u001b[1;37m     ^\u001b[0m\n\u001b[1;31mSyntaxError\u001b[0m\u001b[1;31m:\u001b[0m invalid syntax\n"
     ]
    }
   ],
   "source": [
    "1a = 5"
   ]
  },
  {
   "cell_type": "code",
   "execution_count": 16,
   "metadata": {
    "collapsed": true
   },
   "outputs": [],
   "source": [
    "a1 = 5"
   ]
  },
  {
   "cell_type": "code",
   "execution_count": 17,
   "metadata": {
    "collapsed": false
   },
   "outputs": [
    {
     "ename": "SyntaxError",
     "evalue": "invalid syntax (<ipython-input-17-8dd4b022c92a>, line 1)",
     "output_type": "error",
     "traceback": [
      "\u001b[1;36m  File \u001b[1;32m\"<ipython-input-17-8dd4b022c92a>\"\u001b[1;36m, line \u001b[1;32m1\u001b[0m\n\u001b[1;33m    b^ = 5\u001b[0m\n\u001b[1;37m       ^\u001b[0m\n\u001b[1;31mSyntaxError\u001b[0m\u001b[1;31m:\u001b[0m invalid syntax\n"
     ]
    }
   ],
   "source": [
    "b^ = 5"
   ]
  },
  {
   "cell_type": "code",
   "execution_count": 18,
   "metadata": {
    "collapsed": false
   },
   "outputs": [
    {
     "ename": "SyntaxError",
     "evalue": "invalid syntax (<ipython-input-18-034da690133e>, line 1)",
     "output_type": "error",
     "traceback": [
      "\u001b[1;36m  File \u001b[1;32m\"<ipython-input-18-034da690133e>\"\u001b[1;36m, line \u001b[1;32m1\u001b[0m\n\u001b[1;33m    b g = 5\u001b[0m\n\u001b[1;37m      ^\u001b[0m\n\u001b[1;31mSyntaxError\u001b[0m\u001b[1;31m:\u001b[0m invalid syntax\n"
     ]
    }
   ],
   "source": [
    "b g = 5"
   ]
  },
  {
   "cell_type": "code",
   "execution_count": 19,
   "metadata": {
    "collapsed": true
   },
   "outputs": [],
   "source": [
    "this_is_good_practice = 5\n",
    "#snake_case. See also camelCase, kebab-case\n",
    "#Python recommends UpperCamelCase for class names,\n",
    "#CAPITALIZED_WITH_UNDERSCORES for constants, and lowercase_separated_by_underscores for other names."
   ]
  },
  {
   "cell_type": "markdown",
   "metadata": {},
   "source": [
    "Check out the [official Python style guide](http://docs.python-guide.org/en/latest/writing/style/), or [Googles Python style guide](https://google.github.io/styleguide/pyguide.html) for more tips regarding variable names and general coding style. "
   ]
  },
  {
   "cell_type": "markdown",
   "metadata": {},
   "source": [
    "In iPython based interpreters, we can use `whos` to see all our declared variables (or use the spyder IDE)"
   ]
  },
  {
   "cell_type": "code",
   "execution_count": 20,
   "metadata": {
    "collapsed": false,
    "scrolled": true
   },
   "outputs": [
    {
     "name": "stdout",
     "output_type": "stream",
     "text": [
      "Variable                Type     Data/Info\n",
      "------------------------------------------\n",
      "a                       int      23\n",
      "a1                      int      5\n",
      "b                       int      16\n",
      "c                       int      -2\n",
      "d                       float    1.5\n",
      "this_is_good_practice   int      5\n"
     ]
    }
   ],
   "source": [
    "whos"
   ]
  },
  {
   "cell_type": "markdown",
   "metadata": {},
   "source": [
    "### Built in functions\n",
    "\n",
    "A number of built in functions exist for use on numbers. A function is called using the function name, followed by arguments or args in the brackets.\n",
    "\n",
    "To get help on how to use a built in function, use the help:"
   ]
  },
  {
   "cell_type": "code",
   "execution_count": 21,
   "metadata": {
    "collapsed": false
   },
   "outputs": [],
   "source": [
    "#help(abs)\n",
    "# # means a comment - the python interpreter will ignore the rest of the line"
   ]
  },
  {
   "cell_type": "code",
   "execution_count": 22,
   "metadata": {
    "collapsed": false
   },
   "outputs": [
    {
     "data": {
      "text/plain": [
       "23"
      ]
     },
     "execution_count": 22,
     "metadata": {},
     "output_type": "execute_result"
    }
   ],
   "source": [
    "#absolute value\n",
    "abs(-23)"
   ]
  },
  {
   "cell_type": "code",
   "execution_count": 23,
   "metadata": {
    "collapsed": false
   },
   "outputs": [
    {
     "data": {
      "text/plain": [
       "'0xdeadbeef'"
      ]
     },
     "execution_count": 23,
     "metadata": {},
     "output_type": "execute_result"
    }
   ],
   "source": [
    "#hexidecimal representation\n",
    "hex(3735928559)"
   ]
  },
  {
   "cell_type": "code",
   "execution_count": 24,
   "metadata": {
    "collapsed": false
   },
   "outputs": [
    {
     "data": {
      "text/plain": [
       "'0b100000000000000000000'"
      ]
     },
     "execution_count": 24,
     "metadata": {},
     "output_type": "execute_result"
    }
   ],
   "source": [
    "# binary\n",
    "bin(1048576)"
   ]
  },
  {
   "cell_type": "markdown",
   "metadata": {},
   "source": [
    "more on functions later, but remember we can get help using `help(abs)`\n",
    "\n",
    "### Warning - Floating Point Errors \n",
    "\n",
    "We would expect the below to be equal to -0.2 - what is going on?"
   ]
  },
  {
   "cell_type": "code",
   "execution_count": 25,
   "metadata": {
    "collapsed": false
   },
   "outputs": [
    {
     "data": {
      "text/plain": [
       "-0.19999999999999998"
      ]
     },
     "execution_count": 25,
     "metadata": {},
     "output_type": "execute_result"
    }
   ],
   "source": [
    "-0.1 + 0.2 - 0.3"
   ]
  },
  {
   "cell_type": "markdown",
   "metadata": {},
   "source": [
    "This is a floating point error. It occurs as computers work in binary and 1/10 is a repeating fraction in binary, much like 1/3 is in base 10. We will discuss mitigation techniques later in the course - for now be aware when working with floats."
   ]
  },
  {
   "cell_type": "markdown",
   "metadata": {},
   "source": [
    "### Booleans\n",
    "\n",
    "We have the standard boolean operators:"
   ]
  },
  {
   "cell_type": "code",
   "execution_count": 26,
   "metadata": {
    "collapsed": false
   },
   "outputs": [
    {
     "data": {
      "text/plain": [
       "False"
      ]
     },
     "execution_count": 26,
     "metadata": {},
     "output_type": "execute_result"
    }
   ],
   "source": [
    "1 > 2"
   ]
  },
  {
   "cell_type": "code",
   "execution_count": 27,
   "metadata": {
    "collapsed": false
   },
   "outputs": [
    {
     "data": {
      "text/plain": [
       "True"
      ]
     },
     "execution_count": 27,
     "metadata": {},
     "output_type": "execute_result"
    }
   ],
   "source": [
    "1 < 2"
   ]
  },
  {
   "cell_type": "code",
   "execution_count": 28,
   "metadata": {
    "collapsed": false
   },
   "outputs": [
    {
     "data": {
      "text/plain": [
       "True"
      ]
     },
     "execution_count": 28,
     "metadata": {},
     "output_type": "execute_result"
    }
   ],
   "source": [
    "1 == 1"
   ]
  },
  {
   "cell_type": "code",
   "execution_count": 29,
   "metadata": {
    "collapsed": false
   },
   "outputs": [
    {
     "data": {
      "text/plain": [
       "True"
      ]
     },
     "execution_count": 29,
     "metadata": {},
     "output_type": "execute_result"
    }
   ],
   "source": [
    "1 != 2"
   ]
  },
  {
   "cell_type": "markdown",
   "metadata": {
    "collapsed": false
   },
   "source": [
    "Which can then be chained using `and` `or`"
   ]
  },
  {
   "cell_type": "code",
   "execution_count": 30,
   "metadata": {
    "collapsed": false
   },
   "outputs": [
    {
     "data": {
      "text/plain": [
       "False"
      ]
     },
     "execution_count": 30,
     "metadata": {},
     "output_type": "execute_result"
    }
   ],
   "source": [
    "1 == 1 and 2 >= 3"
   ]
  },
  {
   "cell_type": "code",
   "execution_count": 31,
   "metadata": {
    "collapsed": false
   },
   "outputs": [
    {
     "data": {
      "text/plain": [
       "True"
      ]
     },
     "execution_count": 31,
     "metadata": {},
     "output_type": "execute_result"
    }
   ],
   "source": [
    "1 <= 1 or 2 > 3 "
   ]
  },
  {
   "cell_type": "markdown",
   "metadata": {},
   "source": [
    "In addition to True and False, we also have None, which we will discuss later in the course"
   ]
  },
  {
   "cell_type": "markdown",
   "metadata": {},
   "source": [
    "### Warning - Bitwise Operations\n",
    "\n",
    "You probably don't want to use `|`, `&` or `^` which many other languages do for `or` `and` and `not`- they are for [bitwise comparison](https://wiki.python.org/moin/BitwiseOperators)."
   ]
  },
  {
   "cell_type": "code",
   "execution_count": 32,
   "metadata": {
    "collapsed": false
   },
   "outputs": [
    {
     "data": {
      "text/plain": [
       "13"
      ]
     },
     "execution_count": 32,
     "metadata": {},
     "output_type": "execute_result"
    }
   ],
   "source": [
    "12 | 9"
   ]
  },
  {
   "cell_type": "code",
   "execution_count": 33,
   "metadata": {
    "collapsed": false
   },
   "outputs": [
    {
     "name": "stdout",
     "output_type": "stream",
     "text": [
      "0b1100\n",
      "0b1001\n",
      "0b1101\n"
     ]
    }
   ],
   "source": [
    "print(bin(12))\n",
    "print(bin(9))\n",
    "print(bin(13))"
   ]
  },
  {
   "cell_type": "markdown",
   "metadata": {
    "collapsed": true
   },
   "source": [
    "### Strings\n",
    "\n",
    "Strings are character type data:"
   ]
  },
  {
   "cell_type": "code",
   "execution_count": 34,
   "metadata": {
    "collapsed": false
   },
   "outputs": [
    {
     "name": "stdout",
     "output_type": "stream",
     "text": [
      "<class 'str'>\n"
     ]
    }
   ],
   "source": [
    "a = \"abcde\"\n",
    "b = 'abcde'\n",
    "d = \"they're\"\n",
    "e = 'He said \"Hello\"'\n",
    "f = 'using \"both\" types isn\\'t hard'\n",
    "print(type(a))"
   ]
  },
  {
   "cell_type": "markdown",
   "metadata": {},
   "source": [
    "We can do (some) math on strings"
   ]
  },
  {
   "cell_type": "code",
   "execution_count": 35,
   "metadata": {
    "collapsed": false,
    "scrolled": true
   },
   "outputs": [
    {
     "name": "stdout",
     "output_type": "stream",
     "text": [
      "abcdeabcde\n",
      "abcdethey're\n"
     ]
    },
    {
     "ename": "TypeError",
     "evalue": "can't multiply sequence by non-int of type 'str'",
     "output_type": "error",
     "traceback": [
      "\u001b[1;31m---------------------------------------------------------------------------\u001b[0m",
      "\u001b[1;31mTypeError\u001b[0m                                 Traceback (most recent call last)",
      "\u001b[1;32m<ipython-input-35-badeb938c1f1>\u001b[0m in \u001b[0;36m<module>\u001b[1;34m()\u001b[0m\n\u001b[0;32m      1\u001b[0m \u001b[0mprint\u001b[0m\u001b[1;33m(\u001b[0m\u001b[0ma\u001b[0m \u001b[1;33m*\u001b[0m \u001b[1;36m2\u001b[0m\u001b[1;33m)\u001b[0m\u001b[1;33m\u001b[0m\u001b[0m\n\u001b[0;32m      2\u001b[0m \u001b[0mprint\u001b[0m\u001b[1;33m(\u001b[0m\u001b[0ma\u001b[0m \u001b[1;33m+\u001b[0m \u001b[0md\u001b[0m\u001b[1;33m)\u001b[0m\u001b[1;33m\u001b[0m\u001b[0m\n\u001b[1;32m----> 3\u001b[1;33m \u001b[0mprint\u001b[0m\u001b[1;33m(\u001b[0m\u001b[0ma\u001b[0m \u001b[1;33m*\u001b[0m \u001b[0ma\u001b[0m\u001b[1;33m)\u001b[0m\u001b[1;33m\u001b[0m\u001b[0m\n\u001b[0m",
      "\u001b[1;31mTypeError\u001b[0m: can't multiply sequence by non-int of type 'str'"
     ]
    }
   ],
   "source": [
    "print(a * 2)\n",
    "print(a + d)\n",
    "print(a * a)"
   ]
  },
  {
   "cell_type": "markdown",
   "metadata": {},
   "source": [
    "Using a \\ we can escape or use special characters - we mostly will use \\n and \\t :"
   ]
  },
  {
   "cell_type": "code",
   "execution_count": 36,
   "metadata": {
    "collapsed": false
   },
   "outputs": [
    {
     "name": "stdout",
     "output_type": "stream",
     "text": [
      "atgc\n",
      "ttt\n",
      "atgc\tgcggt\n"
     ]
    }
   ],
   "source": [
    "a = 'atgc\\nttt'\n",
    "print(a)\n",
    "b = 'atgc\\tgcggt'\n",
    "print(b)"
   ]
  },
  {
   "cell_type": "markdown",
   "metadata": {},
   "source": [
    "or using triple quotes we can enter multiple lines"
   ]
  },
  {
   "cell_type": "code",
   "execution_count": 37,
   "metadata": {
    "collapsed": false,
    "scrolled": true
   },
   "outputs": [
    {
     "name": "stdout",
     "output_type": "stream",
     "text": [
      "\n",
      "this is \n",
      "a long\n",
      "string\n"
     ]
    }
   ],
   "source": [
    "a ='''\n",
    "this is \n",
    "a long\n",
    "string'''\n",
    "print(a)"
   ]
  },
  {
   "cell_type": "markdown",
   "metadata": {
    "collapsed": false
   },
   "source": [
    "strings have functions too but the numeric ones won't work:"
   ]
  },
  {
   "cell_type": "code",
   "execution_count": 38,
   "metadata": {
    "collapsed": false
   },
   "outputs": [
    {
     "data": {
      "text/plain": [
       "5"
      ]
     },
     "execution_count": 38,
     "metadata": {},
     "output_type": "execute_result"
    }
   ],
   "source": [
    "len('abcde')"
   ]
  },
  {
   "cell_type": "code",
   "execution_count": 39,
   "metadata": {
    "collapsed": false
   },
   "outputs": [
    {
     "ename": "TypeError",
     "evalue": "bad operand type for abs(): 'str'",
     "output_type": "error",
     "traceback": [
      "\u001b[1;31m---------------------------------------------------------------------------\u001b[0m",
      "\u001b[1;31mTypeError\u001b[0m                                 Traceback (most recent call last)",
      "\u001b[1;32m<ipython-input-39-75279fad068d>\u001b[0m in \u001b[0;36m<module>\u001b[1;34m()\u001b[0m\n\u001b[1;32m----> 1\u001b[1;33m \u001b[0mabs\u001b[0m\u001b[1;33m(\u001b[0m\u001b[1;34m'abcde'\u001b[0m\u001b[1;33m)\u001b[0m\u001b[1;33m\u001b[0m\u001b[0m\n\u001b[0m",
      "\u001b[1;31mTypeError\u001b[0m: bad operand type for abs(): 'str'"
     ]
    }
   ],
   "source": [
    "abs('abcde')"
   ]
  },
  {
   "cell_type": "markdown",
   "metadata": {},
   "source": [
    "## Subsetting\n",
    "\n",
    "When we want to get a subset of a string (or many other Python objects) we use subsetting.\n",
    "\n",
    "Python is a 0-indexed language, meaning we start counting at 0. For a digression, see here for a [possible origin of 0 indexing](http://exple.tive.org/blarg/2013/10/22/citation-needed/). \n",
    "\n",
    "This leads to the famous quote \"The two big problems in computer science are cache invalidation, naming things and off by one errors\"."
   ]
  },
  {
   "cell_type": "code",
   "execution_count": 40,
   "metadata": {
    "collapsed": false
   },
   "outputs": [
    {
     "name": "stdout",
     "output_type": "stream",
     "text": [
      "H\n",
      "Hel\n",
      "Hel\n",
      "lo world\n",
      "rld\n"
     ]
    }
   ],
   "source": [
    "my_string = 'Hello world'\n",
    "#a single element\n",
    "print(my_string[0])\n",
    "#a slice\n",
    "print(my_string[0:3])\n",
    "#from the start\n",
    "print(my_string[:3])\n",
    "#to the end\n",
    "print(my_string[3:])\n",
    "#negative indices count from the end\n",
    "print(my_string[-3:])"
   ]
  },
  {
   "cell_type": "markdown",
   "metadata": {},
   "source": [
    "Indexing can also use a third place ie `x[from:to:by]`, but this is not used often in practice."
   ]
  },
  {
   "cell_type": "code",
   "execution_count": 41,
   "metadata": {
    "collapsed": false
   },
   "outputs": [
    {
     "name": "stdout",
     "output_type": "stream",
     "text": [
      "Hlowrd\n",
      "dlrow olleH\n",
      "Hlo\n"
     ]
    }
   ],
   "source": [
    "print(my_string[::2])\n",
    "print(my_string[::-1])\n",
    "print(my_string[0:6:2])"
   ]
  },
  {
   "cell_type": "markdown",
   "metadata": {},
   "source": [
    "Strings are immutable - we cannot easily change elements of them in place:"
   ]
  },
  {
   "cell_type": "code",
   "execution_count": 42,
   "metadata": {
    "collapsed": false
   },
   "outputs": [
    {
     "ename": "TypeError",
     "evalue": "'str' object does not support item assignment",
     "output_type": "error",
     "traceback": [
      "\u001b[1;31m---------------------------------------------------------------------------\u001b[0m",
      "\u001b[1;31mTypeError\u001b[0m                                 Traceback (most recent call last)",
      "\u001b[1;32m<ipython-input-42-8e10d58363b9>\u001b[0m in \u001b[0;36m<module>\u001b[1;34m()\u001b[0m\n\u001b[1;32m----> 1\u001b[1;33m \u001b[0mmy_string\u001b[0m\u001b[1;33m[\u001b[0m\u001b[1;36m0\u001b[0m\u001b[1;33m]\u001b[0m \u001b[1;33m=\u001b[0m \u001b[1;34m'h'\u001b[0m\u001b[1;33m\u001b[0m\u001b[0m\n\u001b[0m",
      "\u001b[1;31mTypeError\u001b[0m: 'str' object does not support item assignment"
     ]
    }
   ],
   "source": [
    "my_string[0] = 'h'"
   ]
  },
  {
   "cell_type": "markdown",
   "metadata": {},
   "source": [
    "### Methods\n",
    "\n",
    "Methods are functions which are specific to a certain type of object. They are called using x.method()\n",
    "\n",
    "We can see a list in Spyder by using tab"
   ]
  },
  {
   "cell_type": "code",
   "execution_count": 43,
   "metadata": {
    "collapsed": false
   },
   "outputs": [
    {
     "name": "stdout",
     "output_type": "stream",
     "text": [
      "ABCDE\n",
      "abcde\n",
      "Abcde\n",
      "1\n",
      "2\n",
      "['abc', 'e']\n"
     ]
    }
   ],
   "source": [
    "my_string = 'abcde'\n",
    "print(my_string.upper())\n",
    "print(my_string.upper().lower())\n",
    "print(my_string.capitalize())\n",
    "print(my_string.count('a'))\n",
    "print(my_string.index('c'))\n",
    "print(my_string.split('d'))"
   ]
  },
  {
   "cell_type": "markdown",
   "metadata": {},
   "source": [
    "### Print Formatting\n",
    "\n",
    "We can format our print output using our defined variables:"
   ]
  },
  {
   "cell_type": "code",
   "execution_count": 44,
   "metadata": {
    "collapsed": false
   },
   "outputs": [
    {
     "name": "stdout",
     "output_type": "stream",
     "text": [
      "blah blah 13.13\n",
      "Floating point numbers: 13.14\n",
      "First: hi!, Second: 3.14, Third: 22\n",
      "First: hi, Second: 12, Third: 12.1\n"
     ]
    }
   ],
   "source": [
    "x = 13.13\n",
    "print('blah blah %s' %(x))\n",
    "print('Floating point numbers: %1.2f' %(13.144))\n",
    "print('First: %s, Second: %1.2f, Third: %r' %('hi!', 3.14, 22))\n",
    "print('First: {y}, Second: {x}, Third: {z}'.format(y = \"hi\", z = 12.1, x = 12))"
   ]
  },
  {
   "cell_type": "markdown",
   "metadata": {},
   "source": [
    "## Break\n",
    "\n",
    "As some motivation, [here is an iPython notebook](http://nbviewer.jupyter.org/github/donnemartin/data-science-ipython-notebooks/blob/master/kaggle/titanic.ipynb) which is at the Python level you will be by the end of the course.\n",
    "\n",
    "In this notebook, the author takes the publically available Titanic dataset, does some exploratory analysis and trains a machine learning model to predict survival of the Titanic sinking based on ticket class, family size, fare paid, age and sex.\n",
    "\n",
    "Don't worry too much about specific details here - we will cover the methods and data structures used as we continue on in the course. This is a great example of the exploratory analysis, graphing and machine learning powers of Python, and an example of the notebooks you will be able to produce on your own data."
   ]
  },
  {
   "cell_type": "markdown",
   "metadata": {},
   "source": [
    "## Basic Data Containers\n",
    "\n",
    "\n",
    "### Lists\n",
    "\n",
    "Lists are the workhorse of Python - they are a way of containing multiple pieces of data in a single place.\n",
    "\n",
    "Lists may be recognised as similar to arrays in other languages - we don't need to preassign type, size or any other attributes\n"
   ]
  },
  {
   "cell_type": "code",
   "execution_count": 45,
   "metadata": {
    "collapsed": false
   },
   "outputs": [
    {
     "name": "stdout",
     "output_type": "stream",
     "text": [
      "[1, 2]\n",
      "[1, 2, 3, 4, 1, 2, 3, 4]\n",
      "[1, 2, 3, 4, 1, 2, 3]\n",
      "[1, 2, 3, 4, [1, 2, 3, 4]]\n"
     ]
    }
   ],
   "source": [
    "my_list = [1, 2, 3, 4]\n",
    "#subsetting similar to strings\n",
    "print(my_list[0:2])\n",
    "#add similarly to strings\n",
    "print(my_list * 2)\n",
    "print(my_list + [1, 2, 3])\n",
    "print(my_list + [[1, 2, 3, 4]])"
   ]
  },
  {
   "cell_type": "markdown",
   "metadata": {},
   "source": [
    "Lists can contain multiple data types, including other lists:"
   ]
  },
  {
   "cell_type": "code",
   "execution_count": 46,
   "metadata": {
    "collapsed": false
   },
   "outputs": [
    {
     "name": "stdout",
     "output_type": "stream",
     "text": [
      "<class 'list'>\n",
      "['i', 3]\n"
     ]
    }
   ],
   "source": [
    "my_list = [True, \"hi\", 1, 3.4, [1, 2, 3]]\n",
    "print(type(my_list))\n",
    "#nested subset\n",
    "print([my_list[1][1], my_list[-1][-1]])"
   ]
  },
  {
   "cell_type": "markdown",
   "metadata": {},
   "source": [
    "Lists are mutable"
   ]
  },
  {
   "cell_type": "code",
   "execution_count": 47,
   "metadata": {
    "collapsed": false
   },
   "outputs": [
    {
     "name": "stdout",
     "output_type": "stream",
     "text": [
      "[True, 'bye', 1, 3.4, [1, 2, 3]]\n"
     ]
    }
   ],
   "source": [
    "my_list[1] = \"bye\"\n",
    "print(my_list)"
   ]
  },
  {
   "cell_type": "markdown",
   "metadata": {},
   "source": [
    "### List Methods\n",
    "\n",
    "Lists have their own methods. Many of these will modify a list in place, so beware"
   ]
  },
  {
   "cell_type": "code",
   "execution_count": 48,
   "metadata": {
    "collapsed": false
   },
   "outputs": [
    {
     "data": {
      "text/plain": [
       "[True, 'hi', 1, 3.4, [1, 2, 3], 'a new list item']"
      ]
     },
     "execution_count": 48,
     "metadata": {},
     "output_type": "execute_result"
    }
   ],
   "source": [
    "my_list = [True, \"hi\", 1, 3.4, [1, 2, 3]]\n",
    "my_list.append('a new list item')\n",
    "my_list"
   ]
  },
  {
   "cell_type": "code",
   "execution_count": 49,
   "metadata": {
    "collapsed": false
   },
   "outputs": [
    {
     "data": {
      "text/plain": [
       "[True, 'hi', 1, 3.4, [1, 2, 3], 'a new list item', 1, 2, 3]"
      ]
     },
     "execution_count": 49,
     "metadata": {},
     "output_type": "execute_result"
    }
   ],
   "source": [
    "my_list.extend([1,2,3])\n",
    "my_list"
   ]
  },
  {
   "cell_type": "code",
   "execution_count": 50,
   "metadata": {
    "collapsed": false
   },
   "outputs": [
    {
     "name": "stdout",
     "output_type": "stream",
     "text": [
      "[1, 2, 3, 4]\n",
      "[4, 3, 2, 1]\n"
     ]
    }
   ],
   "source": [
    "my_list = [3,4,1,2]\n",
    "my_list.sort()\n",
    "print(my_list)\n",
    "my_list.sort(reverse=True)\n",
    "print(my_list)"
   ]
  },
  {
   "cell_type": "code",
   "execution_count": 51,
   "metadata": {
    "collapsed": false
   },
   "outputs": [
    {
     "name": "stdout",
     "output_type": "stream",
     "text": [
      "1\n"
     ]
    },
    {
     "data": {
      "text/plain": [
       "[4, 3, 2]"
      ]
     },
     "execution_count": 51,
     "metadata": {},
     "output_type": "execute_result"
    }
   ],
   "source": [
    "print(my_list.pop())\n",
    "my_list"
   ]
  },
  {
   "cell_type": "markdown",
   "metadata": {},
   "source": [
    "### Use Case\n",
    "\n",
    "Python lists are the basic data carrier. You can use them to contain the most basic of data, to multiply nested lists"
   ]
  },
  {
   "cell_type": "code",
   "execution_count": 52,
   "metadata": {
    "collapsed": false
   },
   "outputs": [
    {
     "name": "stdout",
     "output_type": "stream",
     "text": [
      "3\n",
      "2\n"
     ]
    }
   ],
   "source": [
    "my_transactions = [[\"oranges\",3],[\"apples\", 2],[\"grapefruit\", 3]]\n",
    "print(my_transactions[0][1])\n",
    "\n",
    "my_dna = [\"a\", \"t\", \"g\", \"c\", [\"a\", \"t\", \"c\", \"g\", \"g\"], \"t\", \"a\", [\"a\", \"t\", \"a\", \"a\", \"a\"]]\n",
    "print(my_dna[4].count(\"g\"))"
   ]
  },
  {
   "cell_type": "markdown",
   "metadata": {},
   "source": [
    "### Warning\n",
    "\n",
    "Python lists are not copied on reassignment. This will cause problems!"
   ]
  },
  {
   "cell_type": "code",
   "execution_count": 53,
   "metadata": {
    "collapsed": false
   },
   "outputs": [
    {
     "data": {
      "text/plain": [
       "[5, 2, 3, 4]"
      ]
     },
     "execution_count": 53,
     "metadata": {},
     "output_type": "execute_result"
    }
   ],
   "source": [
    "my_list = [1, 2, 3, 4]\n",
    "my_list2 = my_list\n",
    "my_list2[0] = 5\n",
    "my_list"
   ]
  },
  {
   "cell_type": "markdown",
   "metadata": {},
   "source": [
    "We can fix it using slicing, copying or the list() function:"
   ]
  },
  {
   "cell_type": "code",
   "execution_count": 54,
   "metadata": {
    "collapsed": false
   },
   "outputs": [
    {
     "data": {
      "text/plain": [
       "[1, 2, 3, 4]"
      ]
     },
     "execution_count": 54,
     "metadata": {},
     "output_type": "execute_result"
    }
   ],
   "source": [
    "my_list = [1, 2, 3, 4]\n",
    "my_list2 = my_list[:]\n",
    "my_list2[1] = 5\n",
    "my_list"
   ]
  },
  {
   "cell_type": "code",
   "execution_count": 55,
   "metadata": {
    "collapsed": false
   },
   "outputs": [
    {
     "data": {
      "text/plain": [
       "[1, 2, 3, 4]"
      ]
     },
     "execution_count": 55,
     "metadata": {},
     "output_type": "execute_result"
    }
   ],
   "source": [
    "my_list = [1, 2, 3, 4]\n",
    "my_list2 = list(my_list)\n",
    "my_list2[1] = 5\n",
    "my_list"
   ]
  },
  {
   "cell_type": "code",
   "execution_count": 56,
   "metadata": {
    "collapsed": false
   },
   "outputs": [
    {
     "data": {
      "text/plain": [
       "[1, 2, 3, 4]"
      ]
     },
     "execution_count": 56,
     "metadata": {},
     "output_type": "execute_result"
    }
   ],
   "source": [
    "my_list = [1, 2, 3, 4]\n",
    "my_list2 = my_list.copy()\n",
    "my_list2[1] = 5\n",
    "my_list"
   ]
  },
  {
   "cell_type": "markdown",
   "metadata": {},
   "source": [
    "### Tuples\n",
    "\n",
    "Tuples are more or less immutable lists, and as such have less methods associated with them"
   ]
  },
  {
   "cell_type": "code",
   "execution_count": 57,
   "metadata": {
    "collapsed": false
   },
   "outputs": [
    {
     "name": "stdout",
     "output_type": "stream",
     "text": [
      "4\n",
      "3\n",
      "2\n",
      "[1, 2, 3, 4, 5, 1]\n"
     ]
    },
    {
     "ename": "TypeError",
     "evalue": "'tuple' object does not support item assignment",
     "output_type": "error",
     "traceback": [
      "\u001b[1;31m---------------------------------------------------------------------------\u001b[0m",
      "\u001b[1;31mTypeError\u001b[0m                                 Traceback (most recent call last)",
      "\u001b[1;32m<ipython-input-57-e9f3c06e3e04>\u001b[0m in \u001b[0;36m<module>\u001b[1;34m()\u001b[0m\n\u001b[0;32m      4\u001b[0m \u001b[0mprint\u001b[0m\u001b[1;33m(\u001b[0m\u001b[0mmy_tup\u001b[0m\u001b[1;33m.\u001b[0m\u001b[0mcount\u001b[0m\u001b[1;33m(\u001b[0m\u001b[1;36m1\u001b[0m\u001b[1;33m)\u001b[0m\u001b[1;33m)\u001b[0m\u001b[1;33m\u001b[0m\u001b[0m\n\u001b[0;32m      5\u001b[0m \u001b[0mprint\u001b[0m\u001b[1;33m(\u001b[0m\u001b[0mlist\u001b[0m\u001b[1;33m(\u001b[0m\u001b[0mmy_tup\u001b[0m\u001b[1;33m)\u001b[0m\u001b[1;33m)\u001b[0m\u001b[1;33m\u001b[0m\u001b[0m\n\u001b[1;32m----> 6\u001b[1;33m \u001b[0mmy_tup\u001b[0m\u001b[1;33m[\u001b[0m\u001b[1;36m0\u001b[0m\u001b[1;33m]\u001b[0m \u001b[1;33m=\u001b[0m \u001b[1;36m1\u001b[0m\u001b[1;33m\u001b[0m\u001b[0m\n\u001b[0m",
      "\u001b[1;31mTypeError\u001b[0m: 'tuple' object does not support item assignment"
     ]
    }
   ],
   "source": [
    "my_tup = (1,2,3,4,5,1)\n",
    "print(my_tup.index(5))\n",
    "print(my_tup[2])\n",
    "print(my_tup.count(1))\n",
    "print(list(my_tup))\n",
    "my_tup[0] = 1"
   ]
  },
  {
   "cell_type": "code",
   "execution_count": 58,
   "metadata": {
    "collapsed": true
   },
   "outputs": [],
   "source": [
    "#multiple assignment technically uses tuples\n",
    "a,b,c,d = 1,2,3,4"
   ]
  },
  {
   "cell_type": "markdown",
   "metadata": {},
   "source": [
    "Tuples are a great choice when using parameters in a script - we cannot overwrite them by mistake without reassigning the entire tuple"
   ]
  },
  {
   "cell_type": "markdown",
   "metadata": {},
   "source": [
    "### Sets\n",
    "\n",
    "Sets work like the mathematical notion of sets - only unique elements are allowed, and they are unordered"
   ]
  },
  {
   "cell_type": "code",
   "execution_count": 59,
   "metadata": {
    "collapsed": false
   },
   "outputs": [
    {
     "name": "stdout",
     "output_type": "stream",
     "text": [
      "{1, 2, 3, 4, 5}\n",
      "<class 'set'>\n"
     ]
    }
   ],
   "source": [
    "my_set = {1,2,3,4,5,1,2}\n",
    "print(my_set)\n",
    "print(type(my_set))"
   ]
  },
  {
   "cell_type": "code",
   "execution_count": 187,
   "metadata": {
    "collapsed": false
   },
   "outputs": [
    {
     "ename": "TypeError",
     "evalue": "'set' object does not support indexing",
     "output_type": "error",
     "traceback": [
      "\u001b[1;31m---------------------------------------------------------------------------\u001b[0m",
      "\u001b[1;31mTypeError\u001b[0m                                 Traceback (most recent call last)",
      "\u001b[1;32m<ipython-input-187-820e4eb6e783>\u001b[0m in \u001b[0;36m<module>\u001b[1;34m()\u001b[0m\n\u001b[0;32m      1\u001b[0m \u001b[1;31m# no subsetting by index!\u001b[0m\u001b[1;33m\u001b[0m\u001b[1;33m\u001b[0m\u001b[0m\n\u001b[0;32m      2\u001b[0m \u001b[1;31m# hence no mutability either\u001b[0m\u001b[1;33m\u001b[0m\u001b[1;33m\u001b[0m\u001b[0m\n\u001b[1;32m----> 3\u001b[1;33m \u001b[0mmy_set\u001b[0m\u001b[1;33m[\u001b[0m\u001b[1;36m0\u001b[0m\u001b[1;33m]\u001b[0m\u001b[1;33m\u001b[0m\u001b[0m\n\u001b[0m",
      "\u001b[1;31mTypeError\u001b[0m: 'set' object does not support indexing"
     ]
    }
   ],
   "source": [
    "# no subsetting by index!\n",
    "# hence no mutability either\n",
    "my_set[0]"
   ]
  },
  {
   "cell_type": "code",
   "execution_count": 60,
   "metadata": {
    "collapsed": false
   },
   "outputs": [
    {
     "data": {
      "text/plain": [
       "{1, 2}"
      ]
     },
     "execution_count": 60,
     "metadata": {},
     "output_type": "execute_result"
    }
   ],
   "source": [
    "my_set.intersection({1,2,6,7,8})"
   ]
  },
  {
   "cell_type": "code",
   "execution_count": 61,
   "metadata": {
    "collapsed": false
   },
   "outputs": [
    {
     "data": {
      "text/plain": [
       "{1, 2, 3, 4, 5, 6, 7, 8}"
      ]
     },
     "execution_count": 61,
     "metadata": {},
     "output_type": "execute_result"
    }
   ],
   "source": [
    "my_set.union({1,2,6,7,8})"
   ]
  },
  {
   "cell_type": "code",
   "execution_count": 62,
   "metadata": {
    "collapsed": false
   },
   "outputs": [
    {
     "name": "stdout",
     "output_type": "stream",
     "text": [
      "{1, 2, 3, 4, 5, 10}\n"
     ]
    }
   ],
   "source": [
    "my_set.add(10)\n",
    "print(my_set)"
   ]
  },
  {
   "cell_type": "markdown",
   "metadata": {},
   "source": [
    "### Use Cases\n",
    "\n",
    "Sets are useful to enumerate every possibility a data set has taken on:"
   ]
  },
  {
   "cell_type": "code",
   "execution_count": 63,
   "metadata": {
    "collapsed": false
   },
   "outputs": [
    {
     "name": "stdout",
     "output_type": "stream",
     "text": [
      "{'apples', 'oranges', 'bananas', 'razors'}\n"
     ]
    }
   ],
   "source": [
    "things_i_buy = [\"razors\", \"apples\", \"oranges\", \"apples\", \"bananas\", \"apples\", \"bananas\"]\n",
    "unique_items = set(things_i_buy)\n",
    "print(unique_items)"
   ]
  },
  {
   "cell_type": "code",
   "execution_count": 64,
   "metadata": {
    "collapsed": false
   },
   "outputs": [
    {
     "name": "stdout",
     "output_type": "stream",
     "text": [
      "{'a', 't', 'g'}\n"
     ]
    }
   ],
   "source": [
    "my_dna = [\"a\", \"t\", \"g\", \"c\", [\"a\", \"t\", \"g\", \"g\", \"a\"], \"t\", \"a\", [\"a\", \"t\", \"a\", \"a\", \"a\"]]\n",
    "possible_bases = set(my_dna[4])\n",
    "print(possible_bases)"
   ]
  },
  {
   "cell_type": "markdown",
   "metadata": {},
   "source": [
    "### Dictionaries\n",
    "\n",
    "Python dictionaries are a very useful data structure, which we will modify into DataFrames inside pandas.\n",
    "\n",
    "For now they are very similar to hashes or lookup tables from other languages - we access data inside them by key, rather than index. As such, they are unordered, similar to sets.\n"
   ]
  },
  {
   "cell_type": "code",
   "execution_count": 65,
   "metadata": {
    "collapsed": false
   },
   "outputs": [
    {
     "name": "stdout",
     "output_type": "stream",
     "text": [
      "{'key2': 'val2', 'key1': 'val1', 2: 'a', 1: [1, 2, 3, 4]}\n"
     ]
    }
   ],
   "source": [
    "#key:values pairs, keys must be unique\n",
    "my_dict = {'key1' : \"val1\", 'key2':'val2', 1:[1,2,3,4], 2:\"a\"}\n",
    "print(my_dict)"
   ]
  },
  {
   "cell_type": "code",
   "execution_count": 66,
   "metadata": {
    "collapsed": false
   },
   "outputs": [
    {
     "name": "stdout",
     "output_type": "stream",
     "text": [
      "[1, 2, 3, 4]\n",
      "val2\n"
     ]
    },
    {
     "ename": "KeyError",
     "evalue": "0",
     "output_type": "error",
     "traceback": [
      "\u001b[1;31m---------------------------------------------------------------------------\u001b[0m",
      "\u001b[1;31mKeyError\u001b[0m                                  Traceback (most recent call last)",
      "\u001b[1;32m<ipython-input-66-cb18261125fd>\u001b[0m in \u001b[0;36m<module>\u001b[1;34m()\u001b[0m\n\u001b[0;32m      1\u001b[0m \u001b[0mprint\u001b[0m\u001b[1;33m(\u001b[0m\u001b[0mmy_dict\u001b[0m\u001b[1;33m[\u001b[0m\u001b[1;36m1\u001b[0m\u001b[1;33m]\u001b[0m\u001b[1;33m)\u001b[0m\u001b[1;33m\u001b[0m\u001b[0m\n\u001b[0;32m      2\u001b[0m \u001b[0mprint\u001b[0m\u001b[1;33m(\u001b[0m\u001b[0mmy_dict\u001b[0m\u001b[1;33m[\u001b[0m\u001b[1;34m'key2'\u001b[0m\u001b[1;33m]\u001b[0m\u001b[1;33m)\u001b[0m\u001b[1;33m\u001b[0m\u001b[0m\n\u001b[1;32m----> 3\u001b[1;33m \u001b[0mprint\u001b[0m\u001b[1;33m(\u001b[0m\u001b[0mmy_dict\u001b[0m\u001b[1;33m[\u001b[0m\u001b[1;36m0\u001b[0m\u001b[1;33m]\u001b[0m\u001b[1;33m)\u001b[0m\u001b[1;33m\u001b[0m\u001b[0m\n\u001b[0m",
      "\u001b[1;31mKeyError\u001b[0m: 0"
     ]
    }
   ],
   "source": [
    "print(my_dict[1])\n",
    "print(my_dict['key2'])\n",
    "print(my_dict[0])"
   ]
  },
  {
   "cell_type": "code",
   "execution_count": 67,
   "metadata": {
    "collapsed": false
   },
   "outputs": [
    {
     "name": "stdout",
     "output_type": "stream",
     "text": [
      "{'key2': 'val2', 1: [1, 2, 3, 4], 2: 'a', 'newkey': 'newval', 'newkey2': 'newval2', 'key1': 'val1'}\n"
     ]
    }
   ],
   "source": [
    "my_dict['newkey'] = 'newval'\n",
    "my_dict.update({\"newkey2\":'newval2'})\n",
    "print(my_dict)"
   ]
  },
  {
   "cell_type": "code",
   "execution_count": 68,
   "metadata": {
    "collapsed": false
   },
   "outputs": [
    {
     "name": "stdout",
     "output_type": "stream",
     "text": [
      "dict_keys(['key2', 1, 2, 'newkey', 'newkey2', 'key1'])\n",
      "dict_items([('key2', 'val2'), (1, [1, 2, 3, 4]), (2, 'a'), ('newkey', 'newval'), ('newkey2', 'newval2'), ('key1', 'val1')])\n",
      "dict_values(['val2', [1, 2, 3, 4], 'a', 'newval', 'newval2', 'val1'])\n"
     ]
    }
   ],
   "source": [
    "print(my_dict.keys())\n",
    "print(my_dict.items())\n",
    "print(my_dict.values())"
   ]
  },
  {
   "cell_type": "code",
   "execution_count": 69,
   "metadata": {
    "collapsed": false
   },
   "outputs": [
    {
     "data": {
      "text/plain": [
       "'val1'"
      ]
     },
     "execution_count": 69,
     "metadata": {},
     "output_type": "execute_result"
    }
   ],
   "source": [
    "my_dict['key1']"
   ]
  },
  {
   "cell_type": "markdown",
   "metadata": {},
   "source": [
    "### Use Cases\n",
    "\n",
    "We can store a 'key' as a unique id, then take a list to hold its' values:"
   ]
  },
  {
   "cell_type": "code",
   "execution_count": 70,
   "metadata": {
    "collapsed": false
   },
   "outputs": [
    {
     "name": "stdout",
     "output_type": "stream",
     "text": [
      "{'apples', 'coke', 'bananas', 'cookies'}\n",
      "['oranges', 'razors', 'coke']\n"
     ]
    }
   ],
   "source": [
    "my_transactions = {'cust1':{'transaction1':['apples', 'bananas', 'coke'], 'transaction2':['cookies', 'coke']},\n",
    "                   'cust2':{'transaction1':['oranges', 'razors', 'coke'], 'transaction2':['bananas', 'coke']}}\n",
    "print(set(my_transactions['cust1']['transaction1'] + my_transactions['cust1']['transaction2']))\n",
    "print(my_transactions['cust2']['transaction1'])"
   ]
  },
  {
   "cell_type": "code",
   "execution_count": 71,
   "metadata": {
    "collapsed": false
   },
   "outputs": [
    {
     "data": {
      "text/plain": [
       "'success'"
      ]
     },
     "execution_count": 71,
     "metadata": {},
     "output_type": "execute_result"
    }
   ],
   "source": [
    "common_mispellings = {\"sucess\":\"success\", \"succes\":\"success\", \"success\":\"suces\", \"success\":\"success\"}\n",
    "common_mispellings[\"succes\"]"
   ]
  },
  {
   "cell_type": "markdown",
   "metadata": {},
   "source": [
    "## Motivation\n",
    "\n",
    "How much can we actually learn and predict from Data Science using Python?\n",
    "\n",
    "Recently, a match fixing ring in professional tennis was alleged by a joint investigation between [BBC news](http://www.bbc.com/sport/tennis/35319202) and [Buzzfeed](http://www.buzzfeed.com/heidiblake/the-tennis-racket#.eplO3d4px), resulting in a large amount of news coverage. \n",
    "\n",
    "The data analysis carried out was done in Python, and released online as an [iPython Notebook](https://github.com/BuzzFeedNews/2016-01-tennis-betting-analysis/blob/master/notebooks/tennis-analysis.ipynb). This story, and its continued fall out, was [front page news on the Guardian](http://www.theguardian.com/sport/2016/feb/09/revealed-tennis-umpires-secretly-banned-gambling-scam) yesterday (9-Feb-2016).\n",
    "\n",
    "Have a read through the notebook, take note of the functions and methods used on the data, and see if you believe the analysis."
   ]
  },
  {
   "cell_type": "markdown",
   "metadata": {},
   "source": [
    "## Exercises\n",
    "\n",
    "* We did not discuss in depth the order of operations of math in Python. Luckily, it follows standard BODMAS ordering. Without evaluating, what will the following expressions give:\n",
    "  - 15 * (2 + 5)\n",
    "  - 15 * 2 + 5 \n",
    "  - 15 + 2 * 5\n",
    "  - 15 \\*\\* 2 * 5"
   ]
  },
  {
   "cell_type": "markdown",
   "metadata": {},
   "source": [
    "* One type of numeric data not mentioned was complex numbers. What methods exist for complex numbers (use the help)?"
   ]
  },
  {
   "cell_type": "code",
   "execution_count": 72,
   "metadata": {
    "collapsed": false
   },
   "outputs": [
    {
     "data": {
      "text/plain": [
       "complex"
      ]
     },
     "execution_count": 72,
     "metadata": {},
     "output_type": "execute_result"
    }
   ],
   "source": [
    "type(complex(2,3))"
   ]
  },
  {
   "cell_type": "markdown",
   "metadata": {},
   "source": [
    "\n",
    "* A previously used Numeric type, `long`, has been removed from Python 3. Can you find the largest possible number representable in Python 3.x (feel free to use google)? (Advanced) Can you explain how Python represents extremely large numbers?\n",
    "\n",
    "\n",
    "\n",
    "* I want to make a string, which will contain 3 backslashes, then a tab, a t, then two newlines, a backslash and an n. Like this:\n",
    "\n",
    "\\\\\\\\\\&nbsp;&nbsp;&nbsp;&nbsp;t\n",
    "\n",
    "\\n\n",
    "\n",
    "&nbsp;&nbsp;&nbsp;&nbsp;Write a string and print it out so it appears like this. Do it using both triple quotes and multiple lines, and a single line with special characters"
   ]
  },
  {
   "cell_type": "markdown",
   "metadata": {},
   "source": [
    "* Using a single subset, print out every 4th letter of the following string, starting at the second last letter, and ending at the 3rd letter: string = \"ajtougjlpfglnhfejfghu\"\n",
    "\n",
    "\n",
    "* Using only two methods on the following string, make a list [\"ABC\", \"EFG\", \"HIJ\"]. string = 'abcdefgdhij'\n",
    "\n",
    "\n",
    "* Subset the 2 from this dictionary: "
   ]
  },
  {
   "cell_type": "code",
   "execution_count": 158,
   "metadata": {
    "collapsed": false
   },
   "outputs": [],
   "source": [
    "my_dict = {'key1':[{'key2':['hi',{'nested':[1,['hello',2]]}]}, 1, 5]}"
   ]
  },
  {
   "cell_type": "markdown",
   "metadata": {},
   "source": [
    "* For the following lists - modify the second item in mylist to be 3. Multiply that by the second item in mylist2. Is the answer what you would expect?"
   ]
  },
  {
   "cell_type": "code",
   "execution_count": 159,
   "metadata": {
    "collapsed": true
   },
   "outputs": [],
   "source": [
    "mylist = [1,2,3]\n",
    "mylist2 = mylist"
   ]
  },
  {
   "cell_type": "markdown",
   "metadata": {},
   "source": [
    "* For the following dictionary, make a list containing one of each of the unique items bought in transaction1 by any customer:"
   ]
  },
  {
   "cell_type": "code",
   "execution_count": 160,
   "metadata": {
    "collapsed": true
   },
   "outputs": [],
   "source": [
    "my_transactions = {'cust1':{'transaction1':['apples', 'bananas', 'coke'], 'transaction2':['cookies', 'coke']},\n",
    "                   'cust2':{'transaction1':['oranges', 'razors', 'coke'], 'transaction2':['bananas', 'coke']}}"
   ]
  },
  {
   "cell_type": "markdown",
   "metadata": {},
   "source": [
    "* Using the functions `int()`, `str()`, `float()`, `bool()` we can cast objects into the required type. What do the following commands give (try and predict without running). After running, see if you can explain why each result is as it is:\n",
    "   - int(None)\n",
    "   - int(True)\n",
    "   - int(3.0)\n",
    "   - int(\"hi\")\n",
    "   - str(2.0)\n",
    "   - str(2)\n",
    "   - str(None)\n",
    "   - str(True)\n",
    "   - float(True)\n",
    "   - float(\"hi\")\n",
    "   - bool(3.0)\n",
    "   - bool(0)\n",
    "   - bool(-3)\n",
    "   - bool(\"hi\")\n",
    "   - bool([])\n",
    "   \n",
    "   \n",
    "* We have a list, my_house, with room names and sizes. Add a new room, 'kitchen', with a size of 47.5 to the list. follow the convention of one list per room."
   ]
  },
  {
   "cell_type": "code",
   "execution_count": 162,
   "metadata": {
    "collapsed": true
   },
   "outputs": [],
   "source": [
    "my_house = [['bedroom', 45], ['living room', 34],\n",
    "            ['bathroom', 30], ['den', 38]]"
   ]
  },
  {
   "cell_type": "markdown",
   "metadata": {},
   "source": [
    "* It turns out we need to remove the den from our plans - use the function `del` (hint, help(del)) to remove it\n",
    "\n",
    "* Make a copy of my_house, as my_other_house. Change the name of the 'kitchen' to 'laundry'\n",
    "\n",
    "* Change the areas of my_other_house rooms to be half the size they are currently (do this one by one for now).\n",
    "\n",
    "* Check my_house - is it as you expect?\n",
    "\n",
    "\n",
    "* Type in help(my_dict.update). From this help, how would you add one dict to another? Does this happen in place or a new variable?\n",
    "\n",
    "\n",
    "* Use the .join() method, to create a string that looks like 'a-b-c-d' from the list ['a','b','c','d']. Find the method first.\n",
    "\n",
    "\n",
    "* Do you think 2 \\* [1, 2, 3, 4, 5] give a sensible result? Why/Why not? What should 2 \\* [1, 2, 3, 4, \"a string\"] return?"
   ]
  }
 ],
 "metadata": {
  "kernelspec": {
   "display_name": "Python 3",
   "language": "python",
   "name": "python3"
  },
  "language_info": {
   "codemirror_mode": {
    "name": "ipython",
    "version": 3
   },
   "file_extension": ".py",
   "mimetype": "text/x-python",
   "name": "python",
   "nbconvert_exporter": "python",
   "pygments_lexer": "ipython3",
   "version": "3.5.1"
  }
 },
 "nbformat": 4,
 "nbformat_minor": 0
}
